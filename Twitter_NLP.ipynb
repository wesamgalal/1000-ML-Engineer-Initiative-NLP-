{
  "cells": [
    {
      "cell_type": "markdown",
      "metadata": {
        "id": "view-in-github",
        "colab_type": "text"
      },
      "source": [
        "<a href=\"https://colab.research.google.com/github/wesamgalal/1000-ML-Engineer-Initiative-NLP-/blob/main/Twitter_NLP.ipynb\" target=\"_parent\"><img src=\"https://colab.research.google.com/assets/colab-badge.svg\" alt=\"Open In Colab\"/></a>"
      ]
    },
    {
      "cell_type": "markdown",
      "metadata": {
        "id": "xUj94bZ2yzs5"
      },
      "source": [
        "# Read & Data analysis (Wesam)"
      ]
    },
    {
      "cell_type": "code",
      "execution_count": null,
      "metadata": {
        "colab": {
          "base_uri": "https://localhost:8080/"
        },
        "id": "FAgDYYfixgyD",
        "outputId": "b7f46226-0f43-41fd-865b-d01eece59047"
      },
      "outputs": [
        {
          "output_type": "stream",
          "name": "stdout",
          "text": [
            "Drive already mounted at /content/drive; to attempt to forcibly remount, call drive.mount(\"/content/drive\", force_remount=True).\n"
          ]
        }
      ],
      "source": [
        "from google.colab import drive\n",
        "drive.mount('/content/drive')"
      ]
    },
    {
      "cell_type": "code",
      "execution_count": null,
      "metadata": {
        "id": "N4KGfHcR0X5N",
        "colab": {
          "base_uri": "https://localhost:8080/"
        },
        "outputId": "85f6e7d2-0b46-4c71-e59d-9911f04e2476"
      },
      "outputs": [
        {
          "output_type": "stream",
          "name": "stderr",
          "text": [
            "/usr/local/lib/python3.8/dist-packages/torch/cuda/__init__.py:497: UserWarning: Can't initialize NVML\n",
            "  warnings.warn(\"Can't initialize NVML\")\n",
            "[nltk_data] Downloading package punkt to /root/nltk_data...\n",
            "[nltk_data]   Unzipping tokenizers/punkt.zip.\n"
          ]
        },
        {
          "output_type": "stream",
          "name": "stdout",
          "text": [
            "Looking in indexes: https://pypi.org/simple, https://us-python.pkg.dev/colab-wheels/public/simple/\n",
            "Collecting emoji\n",
            "  Downloading emoji-2.2.0.tar.gz (240 kB)\n",
            "\u001b[2K     \u001b[90m━━━━━━━━━━━━━━━━━━━━━━━━━━━━━━━━━━━━━━━\u001b[0m \u001b[32m240.9/240.9 KB\u001b[0m \u001b[31m7.0 MB/s\u001b[0m eta \u001b[36m0:00:00\u001b[0m\n",
            "\u001b[?25h  Preparing metadata (setup.py) ... \u001b[?25l\u001b[?25hdone\n",
            "Building wheels for collected packages: emoji\n",
            "  Building wheel for emoji (setup.py) ... \u001b[?25l\u001b[?25hdone\n",
            "  Created wheel for emoji: filename=emoji-2.2.0-py3-none-any.whl size=234926 sha256=3d83571c1b94c29d3d54800cf828bb98ff937d357163da63982b9f081912b413\n",
            "  Stored in directory: /root/.cache/pip/wheels/86/62/9e/a6b27a681abcde69970dbc0326ff51955f3beac72f15696984\n",
            "Successfully built emoji\n",
            "Installing collected packages: emoji\n",
            "Successfully installed emoji-2.2.0\n"
          ]
        }
      ],
      "source": [
        "import pandas as pd\n",
        "import numpy as np\n",
        "import matplotlib.pyplot as plt\n",
        "import re\n",
        "import string\n",
        "import spacy\n",
        "from spacy import displacy\n",
        "Text_Visualization = spacy.load('en_core_web_sm')\n",
        "import nltk\n",
        "nltk.download('punkt')\n",
        "from nltk.tokenize import word_tokenize\n",
        "import warnings\n",
        "warnings.filterwarnings('ignore')\n",
        "%pip install emoji\n",
        "import emoji\n",
        "from sklearn.feature_extraction.text import TfidfVectorizer\n",
        "from sklearn.cluster import KMeans\n",
        "from sklearn.cluster import MiniBatchKMeans\n",
        "from sklearn.decomposition import PCA\n",
        "pd.set_option(\"display.max_colwidth\", 200)  "
      ]
    },
    {
      "cell_type": "code",
      "execution_count": null,
      "metadata": {
        "colab": {
          "base_uri": "https://localhost:8080/",
          "height": 337
        },
        "id": "dQPeezhN0khn",
        "outputId": "60840453-b200-4794-98a6-2987b64877b4"
      },
      "outputs": [
        {
          "output_type": "execute_result",
          "data": {
            "text/plain": [
              "         0           1                             2         3  \\\n",
              "133964   0  1836133398  Mon May 18 07:26:10 PDT 2009  NO_QUERY   \n",
              "1485267  4  2067837017  Sun Jun 07 13:02:43 PDT 2009  NO_QUERY   \n",
              "1507728  4  2174539120  Sun Jun 14 22:45:57 PDT 2009  NO_QUERY   \n",
              "300166   0  1998208588  Mon Jun 01 18:10:20 PDT 2009  NO_QUERY   \n",
              "575910   0  2211318464  Wed Jun 17 12:42:26 PDT 2009  NO_QUERY   \n",
              "\n",
              "                      4  \\\n",
              "133964    adelinapadula   \n",
              "1485267  momentLIGHTING   \n",
              "1507728   adamadavidson   \n",
              "300166     brightondoll   \n",
              "575910     FameFameFame   \n",
              "\n",
              "                                                                                                                                                          5  \n",
              "133964                                                                                                                                        is very sick   \n",
              "1485267                                                                                That girl is like a sunburn.i would like to say shes like a sunburn   \n",
              "1507728                                                   @AndoCJ It's a hard life. Hope you managed to sleep of the lunch  Best way to avoid indigestion!!  \n",
              "300166   I so wish I would have remembered that tonight was the premiere of &quot;I'm a celebrity, get me out of here!&quot;  - where can I go to see it???  \n",
              "575910                                                                                         Starbucks: latte. Then back to bed.  saddddddd weeek so far.  "
            ],
            "text/html": [
              "\n",
              "  <div id=\"df-beec8b42-628b-4d32-b74e-2ff2980f594c\">\n",
              "    <div class=\"colab-df-container\">\n",
              "      <div>\n",
              "<style scoped>\n",
              "    .dataframe tbody tr th:only-of-type {\n",
              "        vertical-align: middle;\n",
              "    }\n",
              "\n",
              "    .dataframe tbody tr th {\n",
              "        vertical-align: top;\n",
              "    }\n",
              "\n",
              "    .dataframe thead th {\n",
              "        text-align: right;\n",
              "    }\n",
              "</style>\n",
              "<table border=\"1\" class=\"dataframe\">\n",
              "  <thead>\n",
              "    <tr style=\"text-align: right;\">\n",
              "      <th></th>\n",
              "      <th>0</th>\n",
              "      <th>1</th>\n",
              "      <th>2</th>\n",
              "      <th>3</th>\n",
              "      <th>4</th>\n",
              "      <th>5</th>\n",
              "    </tr>\n",
              "  </thead>\n",
              "  <tbody>\n",
              "    <tr>\n",
              "      <th>133964</th>\n",
              "      <td>0</td>\n",
              "      <td>1836133398</td>\n",
              "      <td>Mon May 18 07:26:10 PDT 2009</td>\n",
              "      <td>NO_QUERY</td>\n",
              "      <td>adelinapadula</td>\n",
              "      <td>is very sick</td>\n",
              "    </tr>\n",
              "    <tr>\n",
              "      <th>1485267</th>\n",
              "      <td>4</td>\n",
              "      <td>2067837017</td>\n",
              "      <td>Sun Jun 07 13:02:43 PDT 2009</td>\n",
              "      <td>NO_QUERY</td>\n",
              "      <td>momentLIGHTING</td>\n",
              "      <td>That girl is like a sunburn.i would like to say shes like a sunburn</td>\n",
              "    </tr>\n",
              "    <tr>\n",
              "      <th>1507728</th>\n",
              "      <td>4</td>\n",
              "      <td>2174539120</td>\n",
              "      <td>Sun Jun 14 22:45:57 PDT 2009</td>\n",
              "      <td>NO_QUERY</td>\n",
              "      <td>adamadavidson</td>\n",
              "      <td>@AndoCJ It's a hard life. Hope you managed to sleep of the lunch  Best way to avoid indigestion!!</td>\n",
              "    </tr>\n",
              "    <tr>\n",
              "      <th>300166</th>\n",
              "      <td>0</td>\n",
              "      <td>1998208588</td>\n",
              "      <td>Mon Jun 01 18:10:20 PDT 2009</td>\n",
              "      <td>NO_QUERY</td>\n",
              "      <td>brightondoll</td>\n",
              "      <td>I so wish I would have remembered that tonight was the premiere of &amp;quot;I'm a celebrity, get me out of here!&amp;quot;  - where can I go to see it???</td>\n",
              "    </tr>\n",
              "    <tr>\n",
              "      <th>575910</th>\n",
              "      <td>0</td>\n",
              "      <td>2211318464</td>\n",
              "      <td>Wed Jun 17 12:42:26 PDT 2009</td>\n",
              "      <td>NO_QUERY</td>\n",
              "      <td>FameFameFame</td>\n",
              "      <td>Starbucks: latte. Then back to bed.  saddddddd weeek so far.</td>\n",
              "    </tr>\n",
              "  </tbody>\n",
              "</table>\n",
              "</div>\n",
              "      <button class=\"colab-df-convert\" onclick=\"convertToInteractive('df-beec8b42-628b-4d32-b74e-2ff2980f594c')\"\n",
              "              title=\"Convert this dataframe to an interactive table.\"\n",
              "              style=\"display:none;\">\n",
              "        \n",
              "  <svg xmlns=\"http://www.w3.org/2000/svg\" height=\"24px\"viewBox=\"0 0 24 24\"\n",
              "       width=\"24px\">\n",
              "    <path d=\"M0 0h24v24H0V0z\" fill=\"none\"/>\n",
              "    <path d=\"M18.56 5.44l.94 2.06.94-2.06 2.06-.94-2.06-.94-.94-2.06-.94 2.06-2.06.94zm-11 1L8.5 8.5l.94-2.06 2.06-.94-2.06-.94L8.5 2.5l-.94 2.06-2.06.94zm10 10l.94 2.06.94-2.06 2.06-.94-2.06-.94-.94-2.06-.94 2.06-2.06.94z\"/><path d=\"M17.41 7.96l-1.37-1.37c-.4-.4-.92-.59-1.43-.59-.52 0-1.04.2-1.43.59L10.3 9.45l-7.72 7.72c-.78.78-.78 2.05 0 2.83L4 21.41c.39.39.9.59 1.41.59.51 0 1.02-.2 1.41-.59l7.78-7.78 2.81-2.81c.8-.78.8-2.07 0-2.86zM5.41 20L4 18.59l7.72-7.72 1.47 1.35L5.41 20z\"/>\n",
              "  </svg>\n",
              "      </button>\n",
              "      \n",
              "  <style>\n",
              "    .colab-df-container {\n",
              "      display:flex;\n",
              "      flex-wrap:wrap;\n",
              "      gap: 12px;\n",
              "    }\n",
              "\n",
              "    .colab-df-convert {\n",
              "      background-color: #E8F0FE;\n",
              "      border: none;\n",
              "      border-radius: 50%;\n",
              "      cursor: pointer;\n",
              "      display: none;\n",
              "      fill: #1967D2;\n",
              "      height: 32px;\n",
              "      padding: 0 0 0 0;\n",
              "      width: 32px;\n",
              "    }\n",
              "\n",
              "    .colab-df-convert:hover {\n",
              "      background-color: #E2EBFA;\n",
              "      box-shadow: 0px 1px 2px rgba(60, 64, 67, 0.3), 0px 1px 3px 1px rgba(60, 64, 67, 0.15);\n",
              "      fill: #174EA6;\n",
              "    }\n",
              "\n",
              "    [theme=dark] .colab-df-convert {\n",
              "      background-color: #3B4455;\n",
              "      fill: #D2E3FC;\n",
              "    }\n",
              "\n",
              "    [theme=dark] .colab-df-convert:hover {\n",
              "      background-color: #434B5C;\n",
              "      box-shadow: 0px 1px 3px 1px rgba(0, 0, 0, 0.15);\n",
              "      filter: drop-shadow(0px 1px 2px rgba(0, 0, 0, 0.3));\n",
              "      fill: #FFFFFF;\n",
              "    }\n",
              "  </style>\n",
              "\n",
              "      <script>\n",
              "        const buttonEl =\n",
              "          document.querySelector('#df-beec8b42-628b-4d32-b74e-2ff2980f594c button.colab-df-convert');\n",
              "        buttonEl.style.display =\n",
              "          google.colab.kernel.accessAllowed ? 'block' : 'none';\n",
              "\n",
              "        async function convertToInteractive(key) {\n",
              "          const element = document.querySelector('#df-beec8b42-628b-4d32-b74e-2ff2980f594c');\n",
              "          const dataTable =\n",
              "            await google.colab.kernel.invokeFunction('convertToInteractive',\n",
              "                                                     [key], {});\n",
              "          if (!dataTable) return;\n",
              "\n",
              "          const docLinkHtml = 'Like what you see? Visit the ' +\n",
              "            '<a target=\"_blank\" href=https://colab.research.google.com/notebooks/data_table.ipynb>data table notebook</a>'\n",
              "            + ' to learn more about interactive tables.';\n",
              "          element.innerHTML = '';\n",
              "          dataTable['output_type'] = 'display_data';\n",
              "          await google.colab.output.renderOutput(dataTable, element);\n",
              "          const docLink = document.createElement('div');\n",
              "          docLink.innerHTML = docLinkHtml;\n",
              "          element.appendChild(docLink);\n",
              "        }\n",
              "      </script>\n",
              "    </div>\n",
              "  </div>\n",
              "  "
            ]
          },
          "metadata": {},
          "execution_count": 14
        }
      ],
      "source": [
        "#Read data\n",
        "path_name=\"/content/drive/MyDrive/tweets.csv\"\n",
        "data=pd.read_csv(path_name,encoding='ISO-8859-1',header=None)\n",
        "data=data.sample(10000)\n",
        "\n",
        "data.head()"
      ]
    },
    {
      "cell_type": "code",
      "execution_count": null,
      "metadata": {
        "colab": {
          "base_uri": "https://localhost:8080/",
          "height": 206
        },
        "id": "QOsD3gI-ssDN",
        "outputId": "9888f278-d144-477e-ba3a-6c1d90822826"
      },
      "outputs": [
        {
          "output_type": "execute_result",
          "data": {
            "text/plain": [
              "         Target          ID                          Date  NO_QUERY  \\\n",
              "976501        4  1833637357  Sun May 17 23:56:41 PDT 2009  NO_QUERY   \n",
              "739762        0  2265808118  Sun Jun 21 07:20:58 PDT 2009  NO_QUERY   \n",
              "583682        0  2215027171  Wed Jun 17 17:34:13 PDT 2009  NO_QUERY   \n",
              "1082493       4  1968724351  Fri May 29 22:04:02 PDT 2009  NO_QUERY   \n",
              "799303        0  2328937088  Thu Jun 25 10:09:39 PDT 2009  NO_QUERY   \n",
              "\n",
              "                 Auther                                               Post  \n",
              "976501          asirupa                     enjoying food prepared by mom   \n",
              "739762   alexthebutcher  @buckhollywood awwww i wish i could say that t...  \n",
              "583682        rschooler  @pumpupositive No seems like to have weight lo...  \n",
              "1082493  BackstreetBB21  @cpark9 He was wonderful. Got to see him twice...  \n",
              "799303   BlueEyesNoName  @samwoodslol you ass. I'm stuck in the side if...  "
            ],
            "text/html": [
              "\n",
              "  <div id=\"df-b850a39d-2ec5-4a91-81c4-43ee1c7bd58b\">\n",
              "    <div class=\"colab-df-container\">\n",
              "      <div>\n",
              "<style scoped>\n",
              "    .dataframe tbody tr th:only-of-type {\n",
              "        vertical-align: middle;\n",
              "    }\n",
              "\n",
              "    .dataframe tbody tr th {\n",
              "        vertical-align: top;\n",
              "    }\n",
              "\n",
              "    .dataframe thead th {\n",
              "        text-align: right;\n",
              "    }\n",
              "</style>\n",
              "<table border=\"1\" class=\"dataframe\">\n",
              "  <thead>\n",
              "    <tr style=\"text-align: right;\">\n",
              "      <th></th>\n",
              "      <th>Target</th>\n",
              "      <th>ID</th>\n",
              "      <th>Date</th>\n",
              "      <th>NO_QUERY</th>\n",
              "      <th>Auther</th>\n",
              "      <th>Post</th>\n",
              "    </tr>\n",
              "  </thead>\n",
              "  <tbody>\n",
              "    <tr>\n",
              "      <th>976501</th>\n",
              "      <td>4</td>\n",
              "      <td>1833637357</td>\n",
              "      <td>Sun May 17 23:56:41 PDT 2009</td>\n",
              "      <td>NO_QUERY</td>\n",
              "      <td>asirupa</td>\n",
              "      <td>enjoying food prepared by mom</td>\n",
              "    </tr>\n",
              "    <tr>\n",
              "      <th>739762</th>\n",
              "      <td>0</td>\n",
              "      <td>2265808118</td>\n",
              "      <td>Sun Jun 21 07:20:58 PDT 2009</td>\n",
              "      <td>NO_QUERY</td>\n",
              "      <td>alexthebutcher</td>\n",
              "      <td>@buckhollywood awwww i wish i could say that t...</td>\n",
              "    </tr>\n",
              "    <tr>\n",
              "      <th>583682</th>\n",
              "      <td>0</td>\n",
              "      <td>2215027171</td>\n",
              "      <td>Wed Jun 17 17:34:13 PDT 2009</td>\n",
              "      <td>NO_QUERY</td>\n",
              "      <td>rschooler</td>\n",
              "      <td>@pumpupositive No seems like to have weight lo...</td>\n",
              "    </tr>\n",
              "    <tr>\n",
              "      <th>1082493</th>\n",
              "      <td>4</td>\n",
              "      <td>1968724351</td>\n",
              "      <td>Fri May 29 22:04:02 PDT 2009</td>\n",
              "      <td>NO_QUERY</td>\n",
              "      <td>BackstreetBB21</td>\n",
              "      <td>@cpark9 He was wonderful. Got to see him twice...</td>\n",
              "    </tr>\n",
              "    <tr>\n",
              "      <th>799303</th>\n",
              "      <td>0</td>\n",
              "      <td>2328937088</td>\n",
              "      <td>Thu Jun 25 10:09:39 PDT 2009</td>\n",
              "      <td>NO_QUERY</td>\n",
              "      <td>BlueEyesNoName</td>\n",
              "      <td>@samwoodslol you ass. I'm stuck in the side if...</td>\n",
              "    </tr>\n",
              "  </tbody>\n",
              "</table>\n",
              "</div>\n",
              "      <button class=\"colab-df-convert\" onclick=\"convertToInteractive('df-b850a39d-2ec5-4a91-81c4-43ee1c7bd58b')\"\n",
              "              title=\"Convert this dataframe to an interactive table.\"\n",
              "              style=\"display:none;\">\n",
              "        \n",
              "  <svg xmlns=\"http://www.w3.org/2000/svg\" height=\"24px\"viewBox=\"0 0 24 24\"\n",
              "       width=\"24px\">\n",
              "    <path d=\"M0 0h24v24H0V0z\" fill=\"none\"/>\n",
              "    <path d=\"M18.56 5.44l.94 2.06.94-2.06 2.06-.94-2.06-.94-.94-2.06-.94 2.06-2.06.94zm-11 1L8.5 8.5l.94-2.06 2.06-.94-2.06-.94L8.5 2.5l-.94 2.06-2.06.94zm10 10l.94 2.06.94-2.06 2.06-.94-2.06-.94-.94-2.06-.94 2.06-2.06.94z\"/><path d=\"M17.41 7.96l-1.37-1.37c-.4-.4-.92-.59-1.43-.59-.52 0-1.04.2-1.43.59L10.3 9.45l-7.72 7.72c-.78.78-.78 2.05 0 2.83L4 21.41c.39.39.9.59 1.41.59.51 0 1.02-.2 1.41-.59l7.78-7.78 2.81-2.81c.8-.78.8-2.07 0-2.86zM5.41 20L4 18.59l7.72-7.72 1.47 1.35L5.41 20z\"/>\n",
              "  </svg>\n",
              "      </button>\n",
              "      \n",
              "  <style>\n",
              "    .colab-df-container {\n",
              "      display:flex;\n",
              "      flex-wrap:wrap;\n",
              "      gap: 12px;\n",
              "    }\n",
              "\n",
              "    .colab-df-convert {\n",
              "      background-color: #E8F0FE;\n",
              "      border: none;\n",
              "      border-radius: 50%;\n",
              "      cursor: pointer;\n",
              "      display: none;\n",
              "      fill: #1967D2;\n",
              "      height: 32px;\n",
              "      padding: 0 0 0 0;\n",
              "      width: 32px;\n",
              "    }\n",
              "\n",
              "    .colab-df-convert:hover {\n",
              "      background-color: #E2EBFA;\n",
              "      box-shadow: 0px 1px 2px rgba(60, 64, 67, 0.3), 0px 1px 3px 1px rgba(60, 64, 67, 0.15);\n",
              "      fill: #174EA6;\n",
              "    }\n",
              "\n",
              "    [theme=dark] .colab-df-convert {\n",
              "      background-color: #3B4455;\n",
              "      fill: #D2E3FC;\n",
              "    }\n",
              "\n",
              "    [theme=dark] .colab-df-convert:hover {\n",
              "      background-color: #434B5C;\n",
              "      box-shadow: 0px 1px 3px 1px rgba(0, 0, 0, 0.15);\n",
              "      filter: drop-shadow(0px 1px 2px rgba(0, 0, 0, 0.3));\n",
              "      fill: #FFFFFF;\n",
              "    }\n",
              "  </style>\n",
              "\n",
              "      <script>\n",
              "        const buttonEl =\n",
              "          document.querySelector('#df-b850a39d-2ec5-4a91-81c4-43ee1c7bd58b button.colab-df-convert');\n",
              "        buttonEl.style.display =\n",
              "          google.colab.kernel.accessAllowed ? 'block' : 'none';\n",
              "\n",
              "        async function convertToInteractive(key) {\n",
              "          const element = document.querySelector('#df-b850a39d-2ec5-4a91-81c4-43ee1c7bd58b');\n",
              "          const dataTable =\n",
              "            await google.colab.kernel.invokeFunction('convertToInteractive',\n",
              "                                                     [key], {});\n",
              "          if (!dataTable) return;\n",
              "\n",
              "          const docLinkHtml = 'Like what you see? Visit the ' +\n",
              "            '<a target=\"_blank\" href=https://colab.research.google.com/notebooks/data_table.ipynb>data table notebook</a>'\n",
              "            + ' to learn more about interactive tables.';\n",
              "          element.innerHTML = '';\n",
              "          dataTable['output_type'] = 'display_data';\n",
              "          await google.colab.output.renderOutput(dataTable, element);\n",
              "          const docLink = document.createElement('div');\n",
              "          docLink.innerHTML = docLinkHtml;\n",
              "          element.appendChild(docLink);\n",
              "        }\n",
              "      </script>\n",
              "    </div>\n",
              "  </div>\n",
              "  "
            ]
          },
          "metadata": {},
          "execution_count": 8
        }
      ],
      "source": [
        "#create a name for each column to modify them easy\n",
        "data.columns= ['Target', 'ID', 'Date', 'NO_QUERY', 'Auther', 'Post']\n",
        "y_true = np.array(data['Target'])\n",
        "\n",
        "data.head(5)"
      ]
    },
    {
      "cell_type": "code",
      "execution_count": null,
      "metadata": {
        "colab": {
          "base_uri": "https://localhost:8080/"
        },
        "id": "ztlzX7GTMYV5",
        "outputId": "d6b6aad5-d4e4-4b64-e6ab-0924079034ec"
      },
      "outputs": [
        {
          "output_type": "stream",
          "name": "stdout",
          "text": [
            "(10000, 6)\n",
            "....................................\n",
            "             Target            ID\n",
            "count  10000.000000  1.000000e+04\n",
            "mean       1.962800  2.001707e+09\n",
            "std        1.999754  1.923694e+08\n",
            "min        0.000000  1.467842e+09\n",
            "25%        0.000000  1.958123e+09\n",
            "50%        0.000000  2.002288e+09\n",
            "75%        4.000000  2.177755e+09\n",
            "max        4.000000  2.329179e+09\n",
            "....................................\n",
            "<class 'pandas.core.frame.DataFrame'>\n",
            "Int64Index: 10000 entries, 976501 to 195807\n",
            "Data columns (total 6 columns):\n",
            " #   Column    Non-Null Count  Dtype \n",
            "---  ------    --------------  ----- \n",
            " 0   Target    10000 non-null  int64 \n",
            " 1   ID        10000 non-null  int64 \n",
            " 2   Date      10000 non-null  object\n",
            " 3   NO_QUERY  10000 non-null  object\n",
            " 4   Auther    10000 non-null  object\n",
            " 5   Post      10000 non-null  object\n",
            "dtypes: int64(2), object(4)\n",
            "memory usage: 546.9+ KB\n",
            "Target       int64\n",
            "ID           int64\n",
            "Date        object\n",
            "NO_QUERY    object\n",
            "Auther      object\n",
            "Post        object\n",
            "dtype: object\n"
          ]
        }
      ],
      "source": [
        "print(data.shape)\n",
        "print(\"....................................\")\n",
        "data.info()\n",
        "print(\"....................................\")\n",
        "print(data.dtypes)"
      ]
    },
    {
      "cell_type": "code",
      "execution_count": null,
      "metadata": {
        "colab": {
          "base_uri": "https://localhost:8080/"
        },
        "id": "Wg6Q3CZRR3eM",
        "outputId": "ef263362-4c77-4b12-b561-3b95910d1fb0"
      },
      "outputs": [
        {
          "output_type": "execute_result",
          "data": {
            "text/plain": [
              "0    5093\n",
              "4    4907\n",
              "Name: Target, dtype: int64"
            ]
          },
          "metadata": {},
          "execution_count": 11
        }
      ],
      "source": [
        "#data[0].value_counts().plot(kind='bar')\n",
        "data[\"Target\"].value_counts()"
      ]
    },
    {
      "cell_type": "markdown",
      "metadata": {
        "id": "c7ErTu0uzyVy"
      },
      "source": [
        "# Cleaning Data (Wesam)"
      ]
    },
    {
      "cell_type": "markdown",
      "metadata": {
        "id": "E6e0BtYvtDQ6"
      },
      "source": [
        "<font color='red'><font size = 5 >Start Cleaning our data</font>"
      ]
    },
    {
      "cell_type": "markdown",
      "metadata": {
        "id": "dzXR5Ah5uOh7"
      },
      "source": [
        "<font color='blue'><font size = 2 >     1. Lowercasing all the letters</font>"
      ]
    },
    {
      "cell_type": "code",
      "execution_count": null,
      "metadata": {
        "id": "E_xSBTYXsuM6"
      },
      "outputs": [],
      "source": [
        "data['results'] = data['Post'].str.lower()\n",
        "print(data)"
      ]
    },
    {
      "cell_type": "code",
      "execution_count": null,
      "metadata": {
        "id": "srHH2szI9guM"
      },
      "outputs": [],
      "source": [
        "import re"
      ]
    },
    {
      "cell_type": "markdown",
      "metadata": {
        "id": "TiDbJAufeN54"
      },
      "source": [
        "<font color='blue'><font size = 2 >2.Removing Consecutive letters</font>\n",
        " "
      ]
    },
    {
      "cell_type": "code",
      "execution_count": null,
      "metadata": {
        "id": "VabDN1u9eckP"
      },
      "outputs": [],
      "source": [
        "#Removing Consecutive letters: 3 or more consecutive letters are replaced by 2 letters. (eg: \"Heyyyy\" to \"Heyy\")\n",
        "#cause some words like \"all\" if we replaced \"ll\" with only one \"l\" will lose the meaning\n",
        "#str = \"heyyyyyy\"\n",
        "#print(re.sub(r\"(.)\\1\\1+\", r\"\\1\\1\", str))\n",
        "#output will be : heyy\n",
        "\n",
        "def cleaning_repeating_char(text):\n",
        "    return re.sub(r'(.)\\1\\1+', r'\\1\\1', text)\n",
        "data['results'] = data['results'].apply(lambda x: cleaning_repeating_char(x))\n",
        "data['results'].tail()\n"
      ]
    },
    {
      "cell_type": "markdown",
      "metadata": {
        "id": "IvkFvRftgGdv"
      },
      "source": [
        "<font color='blue'><font size = 2 >3.Replace all emojis </font>\n"
      ]
    },
    {
      "cell_type": "code",
      "execution_count": null,
      "metadata": {
        "id": "PpsxhMJegW6g"
      },
      "outputs": [],
      "source": [
        "data['results'] = data['results'].apply(lambda x: emoji.demojize(x,language='es'))\n",
        "data['results'].tail()\n"
      ]
    },
    {
      "cell_type": "markdown",
      "metadata": {
        "id": "oqMlj4yeueKb"
      },
      "source": [
        "<font color='blue'><font size = 2 >4. Remove Hashtags</font>"
      ]
    },
    {
      "cell_type": "code",
      "execution_count": null,
      "metadata": {
        "id": "KZhHO-YsuZkc"
      },
      "outputs": [],
      "source": [
        "def cleaning_hashtag(hash):\n",
        "    hash_pattern = re.compile(r'#[A-Za-z0-9_]+')\n",
        "    return hash_pattern.sub(r'', hash) \n",
        "data['results'] = data['results'].apply(lambda x: cleaning_hashtag(x))\n",
        "data['results'].tail()"
      ]
    },
    {
      "cell_type": "markdown",
      "metadata": {
        "id": "iWO1fz5lunVL"
      },
      "source": [
        "<font color='blue'><font size = 2 >5. Remove @ or mentions</font>"
      ]
    },
    {
      "cell_type": "code",
      "execution_count": null,
      "metadata": {
        "id": "tGAeKhnXuZ0H"
      },
      "outputs": [],
      "source": [
        "def cleaning_ment(ment):\n",
        "    ment_pattern = re.compile(r'@[A-Za-z0-9_]+')\n",
        "    return ment_pattern.sub(r'', ment) \n",
        "data['results'] = data['results'].apply(lambda x: cleaning_ment(x))\n",
        "data['results'].tail()"
      ]
    },
    {
      "cell_type": "markdown",
      "metadata": {
        "id": "Ay0HFZByus9k"
      },
      "source": [
        "<font color='blue'><font size = 2 >6. Remove links</font>"
      ]
    },
    {
      "cell_type": "code",
      "execution_count": null,
      "metadata": {
        "id": "_zf_PuWruZ4P"
      },
      "outputs": [],
      "source": [
        "def cleaning_lnk(lnk):\n",
        "    lnk_pattern = re.compile(r'http\\S+|www.\\S+|<.*?>')\n",
        "    return lnk_pattern.sub(r'', lnk) \n",
        "data['results'] = data['results'].apply(lambda x: cleaning_lnk(x))\n",
        "data['results'].tail()"
      ]
    },
    {
      "cell_type": "code",
      "execution_count": null,
      "metadata": {
        "id": "EI0n4-6OioAW"
      },
      "outputs": [],
      "source": [
        "doc_dep = data[\"results\"][:5].apply(lambda x: Text_Visualization(x))\n",
        "option_dep ={'distance': 100, \"color\": \"#28bf3f\", \"bg\": \"#193380\", \"font\": \"Arial\"}\n",
        "displacy.render(doc_dep, style='dep', jupyter=True, options=option_dep)"
      ]
    },
    {
      "cell_type": "code",
      "execution_count": null,
      "metadata": {
        "id": "rn4HByvZi5BH"
      },
      "outputs": [],
      "source": [
        "doc_ent = data[\"results\"][:10].apply(lambda x: Text_Visualization(x))\n",
        "displacy.render(doc_ent, style='ent', jupyter=True)"
      ]
    },
    {
      "cell_type": "markdown",
      "metadata": {
        "id": "-AY8CcJlvDuw"
      },
      "source": [
        "<font color='blue'><font size = 2 >7. Remove puctuations and non-alphanumeric</font>"
      ]
    },
    {
      "cell_type": "code",
      "execution_count": null,
      "metadata": {
        "id": "RZ8dYzKRu5zu"
      },
      "outputs": [],
      "source": [
        "#remove (any thing not alphanumeric,whitespace or digit)\n",
        "def cleaning_punc(punc):\n",
        "    for char in string.punctuation:\n",
        "        punc = punc.replace(char, '')\n",
        "    return punc\n",
        "data['results'] = data['results'].apply(cleaning_punc)\n",
        "data['results'].tail()"
      ]
    },
    {
      "cell_type": "markdown",
      "metadata": {
        "id": "NwYRFIbZvU4n"
      },
      "source": [
        "<font color='blue'><font size = 2 >6.Tokenization </font>"
      ]
    },
    {
      "cell_type": "code",
      "execution_count": null,
      "metadata": {
        "id": "Cqxa20tlw3IK"
      },
      "outputs": [],
      "source": [
        "import nltk\n",
        "nltk.download('punkt')"
      ]
    },
    {
      "cell_type": "code",
      "execution_count": null,
      "metadata": {
        "id": "jEiiSrpclpNi"
      },
      "outputs": [],
      "source": [
        "from nltk.tokenize import word_tokenize\n",
        "data['results'] = data['results'].apply(lambda x: word_tokenize(x))\n",
        "data['results'].tail()"
      ]
    },
    {
      "cell_type": "markdown",
      "metadata": {
        "id": "YT3-MrYPyFrs"
      },
      "source": [
        "<font color='blue'><font size = 2 >7.Remove Stop Words </font>"
      ]
    },
    {
      "cell_type": "code",
      "execution_count": null,
      "metadata": {
        "id": "6-YI1c8-vMIH"
      },
      "outputs": [],
      "source": [
        "# Import stopwords using scikit-learn\n",
        "from sklearn.feature_extraction import text\n",
        "stop = text.ENGLISH_STOP_WORDS"
      ]
    },
    {
      "cell_type": "code",
      "execution_count": null,
      "metadata": {
        "id": "xWOXM2I_vhK0"
      },
      "outputs": [],
      "source": [
        "# add new column 'results' to be asigned with 'post' column values without stop words\n",
        "data['results']= data['results'].apply(lambda x: [item for item in x if item not in stop])"
      ]
    },
    {
      "cell_type": "code",
      "execution_count": null,
      "metadata": {
        "id": "BzT0lOkmH01H"
      },
      "outputs": [],
      "source": [
        "tokenword = data['Post'].apply(lambda x: word_tokenize(x))\n",
        "res = data['results']"
      ]
    },
    {
      "cell_type": "code",
      "execution_count": null,
      "metadata": {
        "id": "Vs_jPzkxH58G"
      },
      "outputs": [],
      "source": [
        "print('Tokenized words:\\n ',tokenword) \n",
        "print('\\nNo-Stopwords:\\n ',res)"
      ]
    },
    {
      "cell_type": "code",
      "execution_count": null,
      "metadata": {
        "id": "bcEffaHbpU_o"
      },
      "outputs": [],
      "source": [
        "data"
      ]
    },
    {
      "cell_type": "code",
      "execution_count": null,
      "metadata": {
        "id": "yCU60OSfm3G8"
      },
      "outputs": [],
      "source": [
        "# data['Post'] = data['Post'].apply(lambda x: ' '.join(x))\n",
        "data['results'] = data['results'].apply(lambda x: ' '.join(x))"
      ]
    },
    {
      "cell_type": "code",
      "source": [
        "data['results'].value_counts().head(n=20)"
      ],
      "metadata": {
        "id": "VLLzFSbnZTmx"
      },
      "execution_count": null,
      "outputs": []
    },
    {
      "cell_type": "markdown",
      "metadata": {
        "id": "irUoKWlL0MlE"
      },
      "source": [
        "# Using NLP Tools "
      ]
    },
    {
      "cell_type": "code",
      "execution_count": null,
      "metadata": {
        "id": "tF3bIM2INdyl"
      },
      "outputs": [],
      "source": [
        "from sklearn.feature_extraction.text import TfidfVectorizer\n",
        "from sklearn.cluster import KMeans\n",
        "from sklearn.cluster import MiniBatchKMeans"
      ]
    },
    {
      "cell_type": "code",
      "execution_count": null,
      "metadata": {
        "id": "V2GkEa6F0uqI"
      },
      "outputs": [],
      "source": [
        "vec = TfidfVectorizer(stop_words=\"english\")\n",
        "vec.fit(data.Post.values)\n",
        "features = vec.transform(data.results.values)"
      ]
    },
    {
      "cell_type": "code",
      "source": [
        "feature_names=vec.get_feature_names()"
      ],
      "metadata": {
        "colab": {
          "base_uri": "https://localhost:8080/"
        },
        "id": "HkoQwbUGVSF5",
        "outputId": "0ccd27d8-35e1-4846-d06f-f8f826a5560c"
      },
      "execution_count": null,
      "outputs": [
        {
          "output_type": "stream",
          "name": "stderr",
          "text": [
            "/usr/local/lib/python3.8/dist-packages/sklearn/utils/deprecation.py:87: FutureWarning: Function get_feature_names is deprecated; get_feature_names is deprecated in 1.0 and will be removed in 1.2. Please use get_feature_names_out instead.\n",
            "  warnings.warn(msg, category=FutureWarning)\n"
          ]
        }
      ]
    },
    {
      "cell_type": "code",
      "source": [
        "df=pd.DataFrame(features.toarray(),columns=feature_names)"
      ],
      "metadata": {
        "id": "iM6OieYRWYRS"
      },
      "execution_count": null,
      "outputs": []
    },
    {
      "cell_type": "code",
      "source": [
        "df.head(5)"
      ],
      "metadata": {
        "colab": {
          "base_uri": "https://localhost:8080/",
          "height": 235
        },
        "id": "v_tp7-GUW57U",
        "outputId": "9aac37c8-91aa-4c6e-a62c-75adae52013f"
      },
      "execution_count": null,
      "outputs": [
        {
          "output_type": "execute_result",
          "data": {
            "text/plain": [
              "    00  000  00pm   01  018   02  0205laura  0238  02meters   03  ...   ½s  \\\n",
              "0  0.0  0.0   0.0  0.0  0.0  0.0        0.0   0.0       0.0  0.0  ...  0.0   \n",
              "1  0.0  0.0   0.0  0.0  0.0  0.0        0.0   0.0       0.0  0.0  ...  0.0   \n",
              "2  0.0  0.0   0.0  0.0  0.0  0.0        0.0   0.0       0.0  0.0  ...  0.0   \n",
              "3  0.0  0.0   0.0  0.0  0.0  0.0        0.0   0.0       0.0  0.0  ...  0.0   \n",
              "4  0.0  0.0   0.0  0.0  0.0  0.0        0.0   0.0       0.0  0.0  ...  0.0   \n",
              "\n",
              "   ½stico   ½t  ½ta  ½ve   ½y  ½you   à¹   î¹  øªù  \n",
              "0     0.0  0.0  0.0  0.0  0.0   0.0  0.0  0.0  0.0  \n",
              "1     0.0  0.0  0.0  0.0  0.0   0.0  0.0  0.0  0.0  \n",
              "2     0.0  0.0  0.0  0.0  0.0   0.0  0.0  0.0  0.0  \n",
              "3     0.0  0.0  0.0  0.0  0.0   0.0  0.0  0.0  0.0  \n",
              "4     0.0  0.0  0.0  0.0  0.0   0.0  0.0  0.0  0.0  \n",
              "\n",
              "[5 rows x 18472 columns]"
            ],
            "text/html": [
              "\n",
              "  <div id=\"df-26434bf1-fa58-4b96-a570-bfdbc694660a\">\n",
              "    <div class=\"colab-df-container\">\n",
              "      <div>\n",
              "<style scoped>\n",
              "    .dataframe tbody tr th:only-of-type {\n",
              "        vertical-align: middle;\n",
              "    }\n",
              "\n",
              "    .dataframe tbody tr th {\n",
              "        vertical-align: top;\n",
              "    }\n",
              "\n",
              "    .dataframe thead th {\n",
              "        text-align: right;\n",
              "    }\n",
              "</style>\n",
              "<table border=\"1\" class=\"dataframe\">\n",
              "  <thead>\n",
              "    <tr style=\"text-align: right;\">\n",
              "      <th></th>\n",
              "      <th>00</th>\n",
              "      <th>000</th>\n",
              "      <th>00pm</th>\n",
              "      <th>01</th>\n",
              "      <th>018</th>\n",
              "      <th>02</th>\n",
              "      <th>0205laura</th>\n",
              "      <th>0238</th>\n",
              "      <th>02meters</th>\n",
              "      <th>03</th>\n",
              "      <th>...</th>\n",
              "      <th>½s</th>\n",
              "      <th>½stico</th>\n",
              "      <th>½t</th>\n",
              "      <th>½ta</th>\n",
              "      <th>½ve</th>\n",
              "      <th>½y</th>\n",
              "      <th>½you</th>\n",
              "      <th>à¹</th>\n",
              "      <th>î¹</th>\n",
              "      <th>øªù</th>\n",
              "    </tr>\n",
              "  </thead>\n",
              "  <tbody>\n",
              "    <tr>\n",
              "      <th>0</th>\n",
              "      <td>0.0</td>\n",
              "      <td>0.0</td>\n",
              "      <td>0.0</td>\n",
              "      <td>0.0</td>\n",
              "      <td>0.0</td>\n",
              "      <td>0.0</td>\n",
              "      <td>0.0</td>\n",
              "      <td>0.0</td>\n",
              "      <td>0.0</td>\n",
              "      <td>0.0</td>\n",
              "      <td>...</td>\n",
              "      <td>0.0</td>\n",
              "      <td>0.0</td>\n",
              "      <td>0.0</td>\n",
              "      <td>0.0</td>\n",
              "      <td>0.0</td>\n",
              "      <td>0.0</td>\n",
              "      <td>0.0</td>\n",
              "      <td>0.0</td>\n",
              "      <td>0.0</td>\n",
              "      <td>0.0</td>\n",
              "    </tr>\n",
              "    <tr>\n",
              "      <th>1</th>\n",
              "      <td>0.0</td>\n",
              "      <td>0.0</td>\n",
              "      <td>0.0</td>\n",
              "      <td>0.0</td>\n",
              "      <td>0.0</td>\n",
              "      <td>0.0</td>\n",
              "      <td>0.0</td>\n",
              "      <td>0.0</td>\n",
              "      <td>0.0</td>\n",
              "      <td>0.0</td>\n",
              "      <td>...</td>\n",
              "      <td>0.0</td>\n",
              "      <td>0.0</td>\n",
              "      <td>0.0</td>\n",
              "      <td>0.0</td>\n",
              "      <td>0.0</td>\n",
              "      <td>0.0</td>\n",
              "      <td>0.0</td>\n",
              "      <td>0.0</td>\n",
              "      <td>0.0</td>\n",
              "      <td>0.0</td>\n",
              "    </tr>\n",
              "    <tr>\n",
              "      <th>2</th>\n",
              "      <td>0.0</td>\n",
              "      <td>0.0</td>\n",
              "      <td>0.0</td>\n",
              "      <td>0.0</td>\n",
              "      <td>0.0</td>\n",
              "      <td>0.0</td>\n",
              "      <td>0.0</td>\n",
              "      <td>0.0</td>\n",
              "      <td>0.0</td>\n",
              "      <td>0.0</td>\n",
              "      <td>...</td>\n",
              "      <td>0.0</td>\n",
              "      <td>0.0</td>\n",
              "      <td>0.0</td>\n",
              "      <td>0.0</td>\n",
              "      <td>0.0</td>\n",
              "      <td>0.0</td>\n",
              "      <td>0.0</td>\n",
              "      <td>0.0</td>\n",
              "      <td>0.0</td>\n",
              "      <td>0.0</td>\n",
              "    </tr>\n",
              "    <tr>\n",
              "      <th>3</th>\n",
              "      <td>0.0</td>\n",
              "      <td>0.0</td>\n",
              "      <td>0.0</td>\n",
              "      <td>0.0</td>\n",
              "      <td>0.0</td>\n",
              "      <td>0.0</td>\n",
              "      <td>0.0</td>\n",
              "      <td>0.0</td>\n",
              "      <td>0.0</td>\n",
              "      <td>0.0</td>\n",
              "      <td>...</td>\n",
              "      <td>0.0</td>\n",
              "      <td>0.0</td>\n",
              "      <td>0.0</td>\n",
              "      <td>0.0</td>\n",
              "      <td>0.0</td>\n",
              "      <td>0.0</td>\n",
              "      <td>0.0</td>\n",
              "      <td>0.0</td>\n",
              "      <td>0.0</td>\n",
              "      <td>0.0</td>\n",
              "    </tr>\n",
              "    <tr>\n",
              "      <th>4</th>\n",
              "      <td>0.0</td>\n",
              "      <td>0.0</td>\n",
              "      <td>0.0</td>\n",
              "      <td>0.0</td>\n",
              "      <td>0.0</td>\n",
              "      <td>0.0</td>\n",
              "      <td>0.0</td>\n",
              "      <td>0.0</td>\n",
              "      <td>0.0</td>\n",
              "      <td>0.0</td>\n",
              "      <td>...</td>\n",
              "      <td>0.0</td>\n",
              "      <td>0.0</td>\n",
              "      <td>0.0</td>\n",
              "      <td>0.0</td>\n",
              "      <td>0.0</td>\n",
              "      <td>0.0</td>\n",
              "      <td>0.0</td>\n",
              "      <td>0.0</td>\n",
              "      <td>0.0</td>\n",
              "      <td>0.0</td>\n",
              "    </tr>\n",
              "  </tbody>\n",
              "</table>\n",
              "<p>5 rows × 18472 columns</p>\n",
              "</div>\n",
              "      <button class=\"colab-df-convert\" onclick=\"convertToInteractive('df-26434bf1-fa58-4b96-a570-bfdbc694660a')\"\n",
              "              title=\"Convert this dataframe to an interactive table.\"\n",
              "              style=\"display:none;\">\n",
              "        \n",
              "  <svg xmlns=\"http://www.w3.org/2000/svg\" height=\"24px\"viewBox=\"0 0 24 24\"\n",
              "       width=\"24px\">\n",
              "    <path d=\"M0 0h24v24H0V0z\" fill=\"none\"/>\n",
              "    <path d=\"M18.56 5.44l.94 2.06.94-2.06 2.06-.94-2.06-.94-.94-2.06-.94 2.06-2.06.94zm-11 1L8.5 8.5l.94-2.06 2.06-.94-2.06-.94L8.5 2.5l-.94 2.06-2.06.94zm10 10l.94 2.06.94-2.06 2.06-.94-2.06-.94-.94-2.06-.94 2.06-2.06.94z\"/><path d=\"M17.41 7.96l-1.37-1.37c-.4-.4-.92-.59-1.43-.59-.52 0-1.04.2-1.43.59L10.3 9.45l-7.72 7.72c-.78.78-.78 2.05 0 2.83L4 21.41c.39.39.9.59 1.41.59.51 0 1.02-.2 1.41-.59l7.78-7.78 2.81-2.81c.8-.78.8-2.07 0-2.86zM5.41 20L4 18.59l7.72-7.72 1.47 1.35L5.41 20z\"/>\n",
              "  </svg>\n",
              "      </button>\n",
              "      \n",
              "  <style>\n",
              "    .colab-df-container {\n",
              "      display:flex;\n",
              "      flex-wrap:wrap;\n",
              "      gap: 12px;\n",
              "    }\n",
              "\n",
              "    .colab-df-convert {\n",
              "      background-color: #E8F0FE;\n",
              "      border: none;\n",
              "      border-radius: 50%;\n",
              "      cursor: pointer;\n",
              "      display: none;\n",
              "      fill: #1967D2;\n",
              "      height: 32px;\n",
              "      padding: 0 0 0 0;\n",
              "      width: 32px;\n",
              "    }\n",
              "\n",
              "    .colab-df-convert:hover {\n",
              "      background-color: #E2EBFA;\n",
              "      box-shadow: 0px 1px 2px rgba(60, 64, 67, 0.3), 0px 1px 3px 1px rgba(60, 64, 67, 0.15);\n",
              "      fill: #174EA6;\n",
              "    }\n",
              "\n",
              "    [theme=dark] .colab-df-convert {\n",
              "      background-color: #3B4455;\n",
              "      fill: #D2E3FC;\n",
              "    }\n",
              "\n",
              "    [theme=dark] .colab-df-convert:hover {\n",
              "      background-color: #434B5C;\n",
              "      box-shadow: 0px 1px 3px 1px rgba(0, 0, 0, 0.15);\n",
              "      filter: drop-shadow(0px 1px 2px rgba(0, 0, 0, 0.3));\n",
              "      fill: #FFFFFF;\n",
              "    }\n",
              "  </style>\n",
              "\n",
              "      <script>\n",
              "        const buttonEl =\n",
              "          document.querySelector('#df-26434bf1-fa58-4b96-a570-bfdbc694660a button.colab-df-convert');\n",
              "        buttonEl.style.display =\n",
              "          google.colab.kernel.accessAllowed ? 'block' : 'none';\n",
              "\n",
              "        async function convertToInteractive(key) {\n",
              "          const element = document.querySelector('#df-26434bf1-fa58-4b96-a570-bfdbc694660a');\n",
              "          const dataTable =\n",
              "            await google.colab.kernel.invokeFunction('convertToInteractive',\n",
              "                                                     [key], {});\n",
              "          if (!dataTable) return;\n",
              "\n",
              "          const docLinkHtml = 'Like what you see? Visit the ' +\n",
              "            '<a target=\"_blank\" href=https://colab.research.google.com/notebooks/data_table.ipynb>data table notebook</a>'\n",
              "            + ' to learn more about interactive tables.';\n",
              "          element.innerHTML = '';\n",
              "          dataTable['output_type'] = 'display_data';\n",
              "          await google.colab.output.renderOutput(dataTable, element);\n",
              "          const docLink = document.createElement('div');\n",
              "          docLink.innerHTML = docLinkHtml;\n",
              "          element.appendChild(docLink);\n",
              "        }\n",
              "      </script>\n",
              "    </div>\n",
              "  </div>\n",
              "  "
            ]
          },
          "metadata": {},
          "execution_count": 39
        }
      ]
    },
    {
      "cell_type": "code",
      "execution_count": null,
      "metadata": {
        "colab": {
          "base_uri": "https://localhost:8080/"
        },
        "id": "_wigR5onRiU7",
        "outputId": "0926e1f8-37b7-44d9-e12b-92532fb0fd2f"
      },
      "outputs": [
        {
          "output_type": "execute_result",
          "data": {
            "text/plain": [
              "(10000, 18472)"
            ]
          },
          "metadata": {},
          "execution_count": 40
        }
      ],
      "source": [
        "features.shape"
      ]
    },
    {
      "cell_type": "code",
      "execution_count": null,
      "metadata": {
        "colab": {
          "base_uri": "https://localhost:8080/"
        },
        "id": "QKMlENUuQDuy",
        "outputId": "d33edef1-4064-4647-a64e-efab639fdb63"
      },
      "outputs": [
        {
          "output_type": "execute_result",
          "data": {
            "text/plain": [
              "MiniBatchKMeans(n_clusters=2, random_state=1000)"
            ]
          },
          "metadata": {},
          "execution_count": 41
        }
      ],
      "source": [
        "cls = MiniBatchKMeans(n_clusters=2, random_state=1000)\n",
        "cls.fit(features)"
      ]
    },
    {
      "cell_type": "code",
      "execution_count": null,
      "metadata": {
        "id": "cJOJKbm9QmW0"
      },
      "outputs": [],
      "source": [
        "y_predict = cls.predict(features)"
      ]
    },
    {
      "cell_type": "code",
      "execution_count": null,
      "metadata": {
        "colab": {
          "base_uri": "https://localhost:8080/"
        },
        "id": "2S5MD8LzR4lb",
        "outputId": "bc390982-af58-41d9-8f58-cdbe64e84b67"
      },
      "outputs": [
        {
          "output_type": "execute_result",
          "data": {
            "text/plain": [
              "array([[0.00000000e+00, 0.00000000e+00, 0.00000000e+00, ...,\n",
              "        7.03942602e-05, 1.27461645e-04, 1.24886397e-04],\n",
              "       [0.00000000e+00, 0.00000000e+00, 0.00000000e+00, ...,\n",
              "        0.00000000e+00, 0.00000000e+00, 0.00000000e+00]])"
            ]
          },
          "metadata": {},
          "execution_count": 43
        }
      ],
      "source": [
        "cls.cluster_centers_"
      ]
    },
    {
      "cell_type": "code",
      "execution_count": null,
      "metadata": {
        "id": "ZsnTHMKLO0dQ"
      },
      "outputs": [],
      "source": [
        "# # reduce the features to 2D\n",
        "# pca = PCA(n_components=2, random_state=100)\n",
        "# # IncrementalPCA=IncrementalPCA(n_components=7, batch_size=200)\n",
        "# reduced_features = pca.fit_transform(features.toarray())\n",
        "# reduced_features\n",
        "# len(reduced_features) , len(reduced_features[0])"
      ]
    },
    {
      "cell_type": "code",
      "execution_count": null,
      "metadata": {
        "id": "yaVV0qerO0Ex"
      },
      "outputs": [],
      "source": [
        "# reduced_cluster_centers = pca.transform(cls.cluster_centers_)\n",
        "# reduced_cluster_centers"
      ]
    },
    {
      "cell_type": "code",
      "execution_count": null,
      "metadata": {
        "id": "sx1e6OqVO-CR"
      },
      "outputs": [],
      "source": [
        "# plt.scatter(reduced_features[:,0], reduced_features[:,1], c=cls.predict(features))\n",
        "# plt.scatter(reduced_cluster_centers[:, 0], reduced_cluster_centers[:,1], marker='x', s=150, c='b')"
      ]
    },
    {
      "cell_type": "markdown",
      "metadata": {
        "id": "9oEgDT7R9AXI"
      },
      "source": [
        "# Mahmoud (Visualization)\n",
        "#DEP & ENT Visualization\n",
        "# Plot clusters\n",
        "**reduce the features to 2D**\n",
        "\n",
        "**reduce the cluster centers to 2D**\n",
        "\n",
        "**plot cluster and cluster centers**\n",
        "\n",
        "\n",
        "\n",
        "\n"
      ]
    },
    {
      "cell_type": "code",
      "source": [
        "import numpy as np # linear algebra\n",
        "import pandas as pd # data processing, CSV file I/O (e.g. pd.read_csv)\n",
        "pd.set_option('display.max_columns', 50)\n",
        "pd.set_option('display.max_rows', 150)\n",
        "import os\n",
        "import gc\n",
        "gc.enable()\n",
        "import time\n",
        "import warnings\n",
        "warnings.filterwarnings(\"ignore\")\n",
        "import matplotlib.pyplot as plt\n",
        "import seaborn as sns\n",
        "%matplotlib inline\n",
        "from sklearn.feature_extraction.text import TfidfVectorizer\n",
        "from sklearn.linear_model import LogisticRegression\n",
        "from sklearn.model_selection import cross_val_score\n",
        "from scipy.sparse import hstack\n",
        "from scipy import stats\n",
        "%matplotlib inline\n",
        "from datetime import timedelta\n",
        "import datetime as dt\n",
        "import matplotlib.pyplot as plt\n",
        "plt.rcParams['figure.figsize'] = [16, 10]\n",
        "from sklearn.model_selection import train_test_split\n",
        "from sklearn.decomposition import PCA\n",
        "from sklearn.cluster import MiniBatchKMeans\n",
        "import warnings\n",
        "warnings.filterwarnings('ignore')\n",
        "import urllib        #for url stuff\n",
        "\n",
        "from sklearn.feature_extraction.text import TfidfVectorizer\n",
        "from sklearn.feature_extraction import text\n",
        "from IPython.display import display\n",
        "from tqdm import tqdm\n",
        "from collections import Counter\n",
        "import ast\n",
        "\n",
        "\n",
        "from sklearn.feature_extraction.text import CountVectorizer\n",
        "from textblob import TextBlob\n",
        "import scipy.stats as stats\n",
        "\n",
        "import seaborn as sns\n",
        "from sklearn.manifold import TSNE\n",
        "from sklearn.decomposition import PCA, TruncatedSVD\n",
        "import matplotlib.patches as mpatches\n",
        "import time\n",
        "\n",
        "import seaborn as sns #for making plots\n",
        "import matplotlib.pyplot as plt # for plotting\n",
        "import os  # for os commands\n",
        "\n",
        "import gensim\n",
        "from gensim import corpora, models, similarities\n",
        "import logging\n",
        "import tempfile\n",
        "from nltk.corpus import stopwords\n",
        "from string import punctuation\n",
        "from collections import OrderedDict\n",
        "\n",
        "from sklearn.decomposition import TruncatedSVD\n",
        "from sklearn.decomposition import LatentDirichletAllocation\n",
        "from sklearn.manifold import TSNE\n",
        "\n",
        "\n",
        "from bokeh.plotting import figure, output_file, show\n",
        "from bokeh.models import Label\n",
        "from bokeh.io import output_notebook"
      ],
      "metadata": {
        "id": "fnzHGH5fcaZI"
      },
      "execution_count": null,
      "outputs": []
    },
    {
      "cell_type": "code",
      "source": [
        "df = data[data['results'].notnull()]\n",
        "from sklearn import preprocessing\n",
        "le = preprocessing.LabelEncoder()\n",
        "df['results'] = le.fit_transform(df.results.values)"
      ],
      "metadata": {
        "id": "cmC6sO6tab1V"
      },
      "execution_count": null,
      "outputs": []
    },
    {
      "cell_type": "code",
      "source": [
        "# tsne code from this great kernel: https://www.kaggle.com/janiobachmann/credit-fraud-dealing-with-imbalanced-datasets\n",
        "# New_df is from the random undersample data (fewer instances)\n",
        "import time\n",
        "from sklearn.manifold import TSNE\n",
        "X = df['results']\n",
        "y = df['Target']\n",
        "\n",
        "\n",
        "# T-SNE Implementation\n",
        "t0 = time.time()\n",
        "X_reduced_tsne = TSNE(n_components=2, random_state=42).fit_transform(X.values.reshape(-1, 1))\n",
        "t1 = time.time()\n",
        "print(\"T-SNE took {:.2} s\".format(t1 - t0))"
      ],
      "metadata": {
        "colab": {
          "base_uri": "https://localhost:8080/"
        },
        "id": "SKZF4RfQaqxA",
        "outputId": "6d75fcb9-0235-4e84-d535-f8002af3a10a"
      },
      "execution_count": null,
      "outputs": [
        {
          "output_type": "stream",
          "name": "stdout",
          "text": [
            "T-SNE took 1e+02 s\n"
          ]
        }
      ]
    },
    {
      "cell_type": "code",
      "source": [
        "f, (ax1) = plt.subplots(1, 1, figsize=(12,8))\n",
        "# labels = ['Not Fake', 'Fake']\n",
        "f.suptitle('Clusters using Dimensionality Reduction', fontsize=14)\n",
        "\n",
        "\n",
        "blue_patch = mpatches.Patch(color='#0A0AFF', label='Not Fake')\n",
        "red_patch = mpatches.Patch(color='#AF0000', label='Fake')\n",
        "\n",
        "\n",
        "# t-SNE scatter plot\n",
        "ax1.scatter(X_reduced_tsne[:,0], X_reduced_tsne[:,1], c=(y == 0), cmap='coolwarm', label='Not Fake', linewidths=2)\n",
        "ax1.scatter(X_reduced_tsne[:,0], X_reduced_tsne[:,1], c=(y == 4), cmap='coolwarm', label='Fake', linewidths=2)\n",
        "ax1.set_title('t-SNE', fontsize=14)\n",
        "\n",
        "ax1.grid(True)\n",
        "\n",
        "ax1.legend(handles=[blue_patch, red_patch])\n",
        "\n",
        "\n",
        "plt.show()"
      ],
      "metadata": {
        "colab": {
          "base_uri": "https://localhost:8080/",
          "height": 540
        },
        "id": "8aVZq0nlbOAC",
        "outputId": "844e8309-f4c4-4f73-f0ef-b8efd70f1eea"
      },
      "execution_count": null,
      "outputs": [
        {
          "output_type": "display_data",
          "data": {
            "text/plain": [
              "<Figure size 864x576 with 1 Axes>"
            ],
            "image/png": "[encoded data removed]"
          },
          "metadata": {
            "needs_background": "light"
          }
        }
      ]
    },
    {
      "cell_type": "code",
      "source": [
        "html_tags = ['<P>', '</P>', '<Table>', '</Table>', '<Tr>', '</Tr>', '<Ul>', '<Ol>', '<Dl>', '</Ul>', '</Ol>', \\\n",
        "             '</Dl>', '<Li>', '<Dd>', '<Dt>', '</Li>', '</Dd>', '</Dt>']\n",
        "r_buf = ['It', 'is', 'are', 'do', 'does', 'did', 'was', 'were', 'will', 'can', 'the', 'a', 'of', 'in', 'and', 'on', \\\n",
        "         'what', 'where', 'when', 'which'] + html_tags\n",
        "\n",
        "def clean(x):\n",
        "    x = x.lower()\n",
        "    for r in r_buf:\n",
        "        x = x.replace(r, '')\n",
        "    x = re.sub(' +', ' ', x)\n",
        "    return x\n",
        "\n",
        "bin_question_tokens = ['it', 'is', 'are', 'do', 'does', 'did', 'was', 'were', 'will', 'can']\n",
        "stop_words = text.ENGLISH_STOP_WORDS.union([\"book\"])\n",
        "\n",
        "def predict(json_data, annotated=False):\n",
        "    # Parse JSON data\n",
        "    candidates = json_data['long_answer_candidates']\n",
        "    candidates = [c for c in candidates if c['top_level'] == True]\n",
        "    doc_tokenized = json_data['document_text'].split(' ')\n",
        "    question = json_data['question_text']\n",
        "    question_s = question.split(' ') \n",
        "    if annotated:\n",
        "        ann = json_data['annotations'][0]\n",
        "\n",
        "    # TFIDF for the document\n",
        "    tfidf = TfidfVectorizer(ngram_range=(1,1), stop_words=stop_words)\n",
        "    tfidf.fit([json_data['document_text']])\n",
        "    q_tfidf = tfidf.transform([question]).todense()\n",
        "\n",
        "    # Find the nearest answer from candidates\n",
        "    distances = []\n",
        "    scores = []\n",
        "    i_ann = -1\n",
        "    for i, c in enumerate(candidates):\n",
        "        s, e = c['start_token'], c['end_token']\n",
        "        t = ' '.join(doc_tokenized[s:e])\n",
        "        distances.append(levenshtein_distance(clean(question), clean(t)))\n",
        "        \n",
        "        t_tfidf = tfidf.transform([t]).todense()\n",
        "        score = 1 - spatial.distance.cosine(q_tfidf, t_tfidf)\n",
        "        \n",
        "#         score = 0\n",
        "        \n",
        "#         for w in doc_tokenized[s:e]:\n",
        "#             if w in q_s:\n",
        "#                 score += 0.1\n",
        "\n",
        "        scores.append(score)\n",
        "\n",
        "    # Format results\n",
        "#     ans = candidates[np.argmin(distances)]\n",
        "    ans = candidates[np.argmax(scores)]\n",
        "    if np.max(scores) < 0.2:\n",
        "        ans_long = '-1:-1'\n",
        "    else:\n",
        "        ans_long = str(ans['start_token']) + ':' + str(ans['end_token'])\n",
        "    if question_s[0] in bin_question_tokens:\n",
        "        ans_short = 'YES'\n",
        "    else:\n",
        "        ans_short = ''\n",
        "        \n",
        "    # Preparing data for debug\n",
        "    if annotated:\n",
        "        ann_long_text = ' '.join(doc_tokenized[ann['long_answer']['start_token']:ann['long_answer']['end_token']])\n",
        "        if ann['yes_no_answer'] == 'NONE':\n",
        "            if len(json_data['annotations'][0]['short_answers']) > 0:\n",
        "                ann_short_text = ' '.join(doc_tokenized[ann['short_answers'][0]['start_token']:ann['short_answers'][0]['end_token']])\n",
        "            else:\n",
        "                ann_short_text = ''\n",
        "        else:\n",
        "            ann_short_text = ann['yes_no_answer']\n",
        "    else:\n",
        "        ann_long_text = ''\n",
        "        ann_short_text = ''\n",
        "        \n",
        "    ans_long_text = ' '.join(doc_tokenized[ans['start_token']:ans['end_token']])\n",
        "    if len(ans_short) > 0 or ans_short == 'YES':\n",
        "        ans_short_text = ans_short\n",
        "    else:\n",
        "        ans_short_text = '' # Fix when short answers will work\n",
        "                    \n",
        "    return ans_long, ans_short, question, ann_long_text, ann_short_text, ans_long_text, ans_short"
      ],
      "metadata": {
        "id": "7RyehKaaLTzY"
      },
      "execution_count": null,
      "outputs": []
    },
    {
      "cell_type": "code",
      "source": [
        "reindexed_data = data['Post'] #.str.decode(\"utf-8\", errors=\"ignore\")"
      ],
      "metadata": {
        "id": "RfOsC_5vLXd7"
      },
      "execution_count": null,
      "outputs": []
    },
    {
      "cell_type": "code",
      "source": [
        "# Define helper functions\n",
        "def get_top_n_words(n_top_words, count_vectorizer, text_data):\n",
        "    '''\n",
        "    returns a tuple of the top n words in a sample and their \n",
        "    accompanying counts, given a CountVectorizer object and text sample\n",
        "    '''\n",
        "    vectorized_headlines = count_vectorizer.fit_transform(text_data.values)\n",
        "    vectorized_total = np.sum(vectorized_headlines, axis=0)\n",
        "    word_indices = np.flip(np.argsort(vectorized_total)[0,:], 1)\n",
        "    word_values = np.flip(np.sort(vectorized_total)[0,:],1)\n",
        "    \n",
        "    word_vectors = np.zeros((n_top_words, vectorized_headlines.shape[1]))\n",
        "    for i in range(n_top_words):\n",
        "        word_vectors[i,word_indices[0,i]] = 1\n",
        "\n",
        "    words = [word[0].encode('ascii',errors=\"ignore\").decode('utf-8',errors=\"ignore\") for \n",
        "             word in count_vectorizer.inverse_transform(word_vectors)]\n",
        "\n",
        "    return (words, word_values[0,:n_top_words].tolist()[0])"
      ],
      "metadata": {
        "id": "qCXam9UyLbOv"
      },
      "execution_count": null,
      "outputs": []
    },
    {
      "cell_type": "code",
      "source": [
        "count_vectorizer = CountVectorizer(stop_words='english')\n",
        "words, word_values = get_top_n_words(n_top_words=25,\n",
        "                                     count_vectorizer=count_vectorizer, \n",
        "                                     text_data=reindexed_data)\n",
        "\n",
        "fig, ax = plt.subplots(figsize=(10,4))\n",
        "ax.bar(range(len(words)), word_values);\n",
        "ax.set_xticks(range(len(words)));\n",
        "ax.set_xticklabels(words, rotation='vertical');\n",
        "ax.set_title('Top words in headlines dataset (excluding stop words)');\n",
        "ax.set_xlabel('Word');\n",
        "ax.set_ylabel('Number of occurences');\n",
        "plt.show()"
      ],
      "metadata": {
        "colab": {
          "base_uri": "https://localhost:8080/",
          "height": 319
        },
        "id": "Y3D2mz67Lruf",
        "outputId": "e6fafaf0-a252-47f9-c172-a93b3f89fc35"
      },
      "execution_count": null,
      "outputs": [
        {
          "output_type": "display_data",
          "data": {
            "text/plain": [
              "<Figure size 720x288 with 1 Axes>"
            ],
            "image/png": "[encoded data removed]"
          },
          "metadata": {
            "needs_background": "light"
          }
        }
      ]
    },
    {
      "cell_type": "markdown",
      "metadata": {
        "id": "MN4HlCsN0YDm"
      },
      "source": [
        "# Clustering (Brahim)"
      ]
    },
    {
      "cell_type": "code",
      "source": [
        "features.toarray()"
      ],
      "metadata": {
        "colab": {
          "base_uri": "https://localhost:8080/"
        },
        "id": "It_eeEP5yCSy",
        "outputId": "b4114a01-2650-4b2c-884f-1689b4cde3f8"
      },
      "execution_count": null,
      "outputs": [
        {
          "output_type": "execute_result",
          "data": {
            "text/plain": [
              "array([[0., 0., 0., ..., 0., 0., 0.],\n",
              "       [0., 0., 0., ..., 0., 0., 0.],\n",
              "       [0., 0., 0., ..., 0., 0., 0.],\n",
              "       ...,\n",
              "       [0., 0., 0., ..., 0., 0., 0.],\n",
              "       [0., 0., 0., ..., 0., 0., 0.],\n",
              "       [0., 0., 0., ..., 0., 0., 0.]])"
            ]
          },
          "metadata": {},
          "execution_count": 55
        }
      ]
    },
    {
      "cell_type": "markdown",
      "source": [
        "Particle Swarm Optimization clustering"
      ],
      "metadata": {
        "id": "F3qbDz-S4Lv8"
      }
    },
    {
      "cell_type": "code",
      "source": [
        "import pandas as pd\n",
        "import numpy as np\n",
        "from pso import ParticleSwarmOptimizedClustering\n",
        "\n",
        "pso = ParticleSwarmOptimizedClustering(n_cluster=2,n_particles=10,max_iter=10,data=features.toarray(),hybrid=True,print_debug=50)  \n",
        "hist=pso.run()\n",
        "\n",
        "print(\"fitness value\",hist[0][-1])"
      ],
      "metadata": {
        "colab": {
          "base_uri": "https://localhost:8080/",
          "height": 398
        },
        "id": "Rd3Nfl0WJd48",
        "outputId": "26d7d543-8869-4d6b-bcaa-625f0fb18c78"
      },
      "execution_count": null,
      "outputs": [
        {
          "output_type": "error",
          "ename": "ModuleNotFoundError",
          "evalue": "ignored",
          "traceback": [
            "\u001b[0;31m---------------------------------------------------------------------------\u001b[0m",
            "\u001b[0;31mModuleNotFoundError\u001b[0m                       Traceback (most recent call last)",
            "\u001b[0;32m<ipython-input-56-a50bbc868de7>\u001b[0m in \u001b[0;36m<module>\u001b[0;34m\u001b[0m\n\u001b[1;32m      1\u001b[0m \u001b[0;32mimport\u001b[0m \u001b[0mpandas\u001b[0m \u001b[0;32mas\u001b[0m \u001b[0mpd\u001b[0m\u001b[0;34m\u001b[0m\u001b[0;34m\u001b[0m\u001b[0m\n\u001b[1;32m      2\u001b[0m \u001b[0;32mimport\u001b[0m \u001b[0mnumpy\u001b[0m \u001b[0;32mas\u001b[0m \u001b[0mnp\u001b[0m\u001b[0;34m\u001b[0m\u001b[0;34m\u001b[0m\u001b[0m\n\u001b[0;32m----> 3\u001b[0;31m \u001b[0;32mfrom\u001b[0m \u001b[0mpso\u001b[0m \u001b[0;32mimport\u001b[0m \u001b[0mParticleSwarmOptimizedClustering\u001b[0m\u001b[0;34m\u001b[0m\u001b[0;34m\u001b[0m\u001b[0m\n\u001b[0m\u001b[1;32m      4\u001b[0m \u001b[0;34m\u001b[0m\u001b[0m\n\u001b[1;32m      5\u001b[0m \u001b[0mpso\u001b[0m \u001b[0;34m=\u001b[0m \u001b[0mParticleSwarmOptimizedClustering\u001b[0m\u001b[0;34m(\u001b[0m\u001b[0mn_cluster\u001b[0m\u001b[0;34m=\u001b[0m\u001b[0;36m2\u001b[0m\u001b[0;34m,\u001b[0m\u001b[0mn_particles\u001b[0m\u001b[0;34m=\u001b[0m\u001b[0;36m10\u001b[0m\u001b[0;34m,\u001b[0m\u001b[0mmax_iter\u001b[0m\u001b[0;34m=\u001b[0m\u001b[0;36m10\u001b[0m\u001b[0;34m,\u001b[0m\u001b[0mdata\u001b[0m\u001b[0;34m=\u001b[0m\u001b[0mfeatures\u001b[0m\u001b[0;34m.\u001b[0m\u001b[0mtoarray\u001b[0m\u001b[0;34m(\u001b[0m\u001b[0;34m)\u001b[0m\u001b[0;34m,\u001b[0m\u001b[0mhybrid\u001b[0m\u001b[0;34m=\u001b[0m\u001b[0;32mTrue\u001b[0m\u001b[0;34m,\u001b[0m\u001b[0mprint_debug\u001b[0m\u001b[0;34m=\u001b[0m\u001b[0;36m50\u001b[0m\u001b[0;34m)\u001b[0m\u001b[0;34m\u001b[0m\u001b[0;34m\u001b[0m\u001b[0m\n",
            "\u001b[0;31mModuleNotFoundError\u001b[0m: No module named 'pso'",
            "",
            "\u001b[0;31m---------------------------------------------------------------------------\u001b[0;32m\nNOTE: If your import is failing due to a missing package, you can\nmanually install dependencies using either !pip or !apt.\n\nTo view examples of installing some common dependencies, click the\n\"Open Examples\" button below.\n\u001b[0;31m---------------------------------------------------------------------------\u001b[0m\n"
          ],
          "errorDetails": {
            "actions": [
              {
                "action": "open_url",
                "actionText": "Open Examples",
                "url": "/notebooks/snippets/importing_libraries.ipynb"
              }
            ]
          }
        }
      ]
    },
    {
      "cell_type": "code",
      "source": [
        "label=hist[-1]"
      ],
      "metadata": {
        "id": "_K40NgygNFpt"
      },
      "execution_count": null,
      "outputs": []
    },
    {
      "cell_type": "markdown",
      "source": [
        "Hirarchical clustering"
      ],
      "metadata": {
        "id": "CSqVNhzT4U-p"
      }
    },
    {
      "cell_type": "code",
      "source": [
        "from sklearn.cluster import AgglomerativeClustering\n",
        "hierarchical_cluster =AgglomerativeClustering(n_clusters=2, affinity='euclidean', linkage='ward')\n",
        "hirarchi_labels=hierarchical_cluster.fit(features.toarray())\n"
      ],
      "metadata": {
        "id": "Zwx3asj93bhz"
      },
      "execution_count": null,
      "outputs": []
    },
    {
      "cell_type": "markdown",
      "metadata": {
        "id": "eGegwGKP0grx"
      },
      "source": [
        "# Evaluation (Abd Ulfatah)\n"
      ]
    },
    {
      "cell_type": "markdown",
      "metadata": {
        "id": "kZ1Fhqp6LCcr"
      },
      "source": [
        "###  Evaluation two clusters"
      ]
    },
    {
      "cell_type": "code",
      "execution_count": null,
      "metadata": {
        "id": "e08MYyKTLDgK"
      },
      "outputs": [],
      "source": [
        "from sklearn.metrics.cluster import adjusted_rand_score,adjusted_mutual_info_score,mutual_info_score,normalized_mutual_info_score,v_measure_score,homogeneity_score,completeness_score\n"
      ]
    },
    {
      "cell_type": "code",
      "execution_count": null,
      "metadata": {
        "colab": {
          "base_uri": "https://localhost:8080/"
        },
        "id": "rz3Hxv9nyw-l",
        "outputId": "29f61e0a-311c-4d8a-b56f-2a057d8eb695"
      },
      "outputs": [
        {
          "output_type": "execute_result",
          "data": {
            "text/plain": [
              "-5.446288137959454e-05"
            ]
          },
          "metadata": {},
          "execution_count": 60
        }
      ],
      "source": [
        "adjusted_rand_score(y_true,y_predict)"
      ]
    },
    {
      "cell_type": "code",
      "source": [
        "\n",
        "adjusted_rand_score(y_true,label)"
      ],
      "metadata": {
        "colab": {
          "base_uri": "https://localhost:8080/",
          "height": 175
        },
        "id": "7isj01rx2s02",
        "outputId": "cb774a98-0d20-4171-8517-1376ef2a9d4a"
      },
      "execution_count": null,
      "outputs": [
        {
          "output_type": "error",
          "ename": "NameError",
          "evalue": "ignored",
          "traceback": [
            "\u001b[0;31m---------------------------------------------------------------------------\u001b[0m",
            "\u001b[0;31mNameError\u001b[0m                                 Traceback (most recent call last)",
            "\u001b[0;32m<ipython-input-61-4158bc99a394>\u001b[0m in \u001b[0;36m<module>\u001b[0;34m\u001b[0m\n\u001b[0;32m----> 1\u001b[0;31m \u001b[0madjusted_rand_score\u001b[0m\u001b[0;34m(\u001b[0m\u001b[0my_true\u001b[0m\u001b[0;34m,\u001b[0m\u001b[0mlabel\u001b[0m\u001b[0;34m)\u001b[0m\u001b[0;34m\u001b[0m\u001b[0;34m\u001b[0m\u001b[0m\n\u001b[0m",
            "\u001b[0;31mNameError\u001b[0m: name 'label' is not defined"
          ]
        }
      ]
    },
    {
      "cell_type": "code",
      "execution_count": null,
      "metadata": {
        "colab": {
          "base_uri": "https://localhost:8080/"
        },
        "id": "gLVUo326zIZd",
        "outputId": "0384d53e-94e2-4105-be81-f51203b9fb45"
      },
      "outputs": [
        {
          "output_type": "execute_result",
          "data": {
            "text/plain": [
              "-0.00010561909431556899"
            ]
          },
          "metadata": {},
          "execution_count": 62
        }
      ],
      "source": [
        "adjusted_mutual_info_score(y_true,y_predict)"
      ]
    },
    {
      "cell_type": "code",
      "source": [
        "adjusted_mutual_info_score(y_true,label)"
      ],
      "metadata": {
        "colab": {
          "base_uri": "https://localhost:8080/",
          "height": 175
        },
        "id": "SzjshkmT3L3P",
        "outputId": "8454d361-eebc-44e6-c2f6-f15fda04ec2a"
      },
      "execution_count": null,
      "outputs": [
        {
          "output_type": "error",
          "ename": "NameError",
          "evalue": "ignored",
          "traceback": [
            "\u001b[0;31m---------------------------------------------------------------------------\u001b[0m",
            "\u001b[0;31mNameError\u001b[0m                                 Traceback (most recent call last)",
            "\u001b[0;32m<ipython-input-63-f96b4886ea9c>\u001b[0m in \u001b[0;36m<module>\u001b[0;34m\u001b[0m\n\u001b[0;32m----> 1\u001b[0;31m \u001b[0madjusted_mutual_info_score\u001b[0m\u001b[0;34m(\u001b[0m\u001b[0my_true\u001b[0m\u001b[0;34m,\u001b[0m\u001b[0mlabel\u001b[0m\u001b[0;34m)\u001b[0m\u001b[0;34m\u001b[0m\u001b[0;34m\u001b[0m\u001b[0m\n\u001b[0m",
            "\u001b[0;31mNameError\u001b[0m: name 'label' is not defined"
          ]
        }
      ]
    },
    {
      "cell_type": "code",
      "execution_count": null,
      "metadata": {
        "colab": {
          "base_uri": "https://localhost:8080/"
        },
        "id": "C947ZJ9rzILK",
        "outputId": "925679e0-1a75-4b0a-e7df-dc15b2a10af6"
      },
      "outputs": [
        {
          "output_type": "execute_result",
          "data": {
            "text/plain": [
              "5.031570654165374e-06"
            ]
          },
          "metadata": {},
          "execution_count": 64
        }
      ],
      "source": [
        "mutual_info_score(y_true,y_predict)"
      ]
    },
    {
      "cell_type": "code",
      "source": [
        "mutual_info_score(y_true,label)"
      ],
      "metadata": {
        "colab": {
          "base_uri": "https://localhost:8080/",
          "height": 175
        },
        "id": "q8R0OGr1VxFk",
        "outputId": "4c8973fc-e4cc-482b-aa92-b0722c62e293"
      },
      "execution_count": null,
      "outputs": [
        {
          "output_type": "error",
          "ename": "NameError",
          "evalue": "ignored",
          "traceback": [
            "\u001b[0;31m---------------------------------------------------------------------------\u001b[0m",
            "\u001b[0;31mNameError\u001b[0m                                 Traceback (most recent call last)",
            "\u001b[0;32m<ipython-input-65-2cba9907defb>\u001b[0m in \u001b[0;36m<module>\u001b[0;34m\u001b[0m\n\u001b[0;32m----> 1\u001b[0;31m \u001b[0mmutual_info_score\u001b[0m\u001b[0;34m(\u001b[0m\u001b[0my_true\u001b[0m\u001b[0;34m,\u001b[0m\u001b[0mlabel\u001b[0m\u001b[0;34m)\u001b[0m\u001b[0;34m\u001b[0m\u001b[0;34m\u001b[0m\u001b[0m\n\u001b[0m",
            "\u001b[0;31mNameError\u001b[0m: name 'label' is not defined"
          ]
        }
      ]
    },
    {
      "cell_type": "code",
      "execution_count": null,
      "metadata": {
        "id": "1L4n4T8FzH8W"
      },
      "outputs": [],
      "source": [
        "normalized_mutual_info_score(y_true,y_predict)"
      ]
    },
    {
      "cell_type": "code",
      "source": [
        "normalized_mutual_info_score(y_true,label)"
      ],
      "metadata": {
        "id": "v17iw1gKV3uI"
      },
      "execution_count": null,
      "outputs": []
    },
    {
      "cell_type": "code",
      "execution_count": null,
      "metadata": {
        "id": "Q48pktLQzHrX"
      },
      "outputs": [],
      "source": [
        "v_measure_score(y_true,y_predict)"
      ]
    },
    {
      "cell_type": "code",
      "source": [
        "v_measure_score(y_true,label)"
      ],
      "metadata": {
        "id": "Tbb89W5EV_Az"
      },
      "execution_count": null,
      "outputs": []
    },
    {
      "cell_type": "code",
      "execution_count": null,
      "metadata": {
        "id": "sLJw0xC0zHO3"
      },
      "outputs": [],
      "source": [
        "homogeneity_score(y_true,y_predict)"
      ]
    },
    {
      "cell_type": "code",
      "source": [
        "homogeneity_score(y_true,label)"
      ],
      "metadata": {
        "id": "9Zgcq4YOWDW6"
      },
      "execution_count": null,
      "outputs": []
    },
    {
      "cell_type": "code",
      "execution_count": null,
      "metadata": {
        "id": "xNlnAN84zOMQ"
      },
      "outputs": [],
      "source": [
        "completeness_score(y_true,y_predict)"
      ]
    },
    {
      "cell_type": "code",
      "source": [
        "completeness_score(y_true,label)"
      ],
      "metadata": {
        "id": "qdpHQZRVWJSy"
      },
      "execution_count": null,
      "outputs": []
    },
    {
      "cell_type": "code",
      "source": [],
      "metadata": {
        "id": "TiWHzWba0RkC"
      },
      "execution_count": null,
      "outputs": []
    },
    {
      "cell_type": "code",
      "source": [],
      "metadata": {
        "id": "IO6T4WYmnHBX"
      },
      "execution_count": null,
      "outputs": []
    },
    {
      "cell_type": "code",
      "source": [],
      "metadata": {
        "id": "YC-QwzPS0Rl6"
      },
      "execution_count": null,
      "outputs": []
    },
    {
      "cell_type": "code",
      "source": [],
      "metadata": {
        "id": "bxHmfznh0RpD"
      },
      "execution_count": null,
      "outputs": []
    },
    {
      "cell_type": "code",
      "source": [],
      "metadata": {
        "id": "EJyvrKv70Rrs"
      },
      "execution_count": null,
      "outputs": []
    },
    {
      "cell_type": "code",
      "source": [],
      "metadata": {
        "id": "4IBDk1TK0Ru_"
      },
      "execution_count": null,
      "outputs": []
    },
    {
      "cell_type": "code",
      "source": [],
      "metadata": {
        "id": "nCx8kYjV0SUH"
      },
      "execution_count": null,
      "outputs": []
    },
    {
      "cell_type": "code",
      "source": [],
      "metadata": {
        "id": "c8zqqLxS0Shm"
      },
      "execution_count": null,
      "outputs": []
    },
    {
      "cell_type": "code",
      "source": [],
      "metadata": {
        "id": "uGj6_WXQ0SkV"
      },
      "execution_count": null,
      "outputs": []
    },
    {
      "cell_type": "code",
      "source": [],
      "metadata": {
        "id": "bkXUor7G0SoA"
      },
      "execution_count": null,
      "outputs": []
    },
    {
      "cell_type": "code",
      "source": [],
      "metadata": {
        "id": "4YeqYa580SqP"
      },
      "execution_count": null,
      "outputs": []
    },
    {
      "cell_type": "code",
      "source": [],
      "metadata": {
        "id": "4V9HKY3K0Ssg"
      },
      "execution_count": null,
      "outputs": []
    },
    {
      "cell_type": "code",
      "source": [],
      "metadata": {
        "id": "5XyKBjSJ0SvC"
      },
      "execution_count": null,
      "outputs": []
    },
    {
      "cell_type": "code",
      "source": [],
      "metadata": {
        "id": "pmjlTS7w0SxC"
      },
      "execution_count": null,
      "outputs": []
    },
    {
      "cell_type": "code",
      "source": [],
      "metadata": {
        "id": "tXW5p09p0Szr"
      },
      "execution_count": null,
      "outputs": []
    },
    {
      "cell_type": "code",
      "source": [],
      "metadata": {
        "id": "VZxS8ubd0THa"
      },
      "execution_count": null,
      "outputs": []
    },
    {
      "cell_type": "code",
      "source": [],
      "metadata": {
        "id": "fykHaTy60TJ4"
      },
      "execution_count": null,
      "outputs": []
    },
    {
      "cell_type": "code",
      "source": [],
      "metadata": {
        "id": "IdRFaZJa0TSc"
      },
      "execution_count": null,
      "outputs": []
    },
    {
      "cell_type": "code",
      "source": [],
      "metadata": {
        "id": "QxCvNPu60TYN"
      },
      "execution_count": null,
      "outputs": []
    },
    {
      "cell_type": "code",
      "source": [],
      "metadata": {
        "id": "_Lhv4YOj0Tag"
      },
      "execution_count": null,
      "outputs": []
    },
    {
      "cell_type": "code",
      "source": [],
      "metadata": {
        "id": "hQIfKoKb0Tcw"
      },
      "execution_count": null,
      "outputs": []
    },
    {
      "cell_type": "code",
      "source": [],
      "metadata": {
        "id": "u-FaJu-10ThQ"
      },
      "execution_count": null,
      "outputs": []
    },
    {
      "cell_type": "code",
      "source": [],
      "metadata": {
        "id": "QoeMW8gq0Tjh"
      },
      "execution_count": null,
      "outputs": []
    },
    {
      "cell_type": "code",
      "source": [],
      "metadata": {
        "id": "EE2uXuDL0Tln"
      },
      "execution_count": null,
      "outputs": []
    },
    {
      "cell_type": "code",
      "source": [],
      "metadata": {
        "id": "g640VVQS0Tnz"
      },
      "execution_count": null,
      "outputs": []
    },
    {
      "cell_type": "code",
      "source": [],
      "metadata": {
        "id": "s2jERFaz0TqC"
      },
      "execution_count": null,
      "outputs": []
    },
    {
      "cell_type": "code",
      "source": [],
      "metadata": {
        "id": "FUuiu8CQ0Ttz"
      },
      "execution_count": null,
      "outputs": []
    },
    {
      "cell_type": "code",
      "source": [],
      "metadata": {
        "id": "YKt8Bd-D0TwL"
      },
      "execution_count": null,
      "outputs": []
    },
    {
      "cell_type": "code",
      "source": [],
      "metadata": {
        "id": "9cxXO7LW0TyW"
      },
      "execution_count": null,
      "outputs": []
    },
    {
      "cell_type": "code",
      "source": [],
      "metadata": {
        "id": "lUeKUTLH0T10"
      },
      "execution_count": null,
      "outputs": []
    },
    {
      "cell_type": "code",
      "source": [],
      "metadata": {
        "id": "SsLhKOND0T4I"
      },
      "execution_count": null,
      "outputs": []
    },
    {
      "cell_type": "code",
      "source": [],
      "metadata": {
        "id": "UNYUVpNn0T6-"
      },
      "execution_count": null,
      "outputs": []
    },
    {
      "cell_type": "code",
      "source": [],
      "metadata": {
        "id": "6ozE1xpG0T9V"
      },
      "execution_count": null,
      "outputs": []
    },
    {
      "cell_type": "code",
      "source": [
        "pip install pycocotools==2.0.0"
      ],
      "metadata": {
        "id": "79zTHigR0T_o"
      },
      "execution_count": null,
      "outputs": []
    },
    {
      "cell_type": "code",
      "source": [
        "import numpy"
      ],
      "metadata": {
        "id": "Of7jeg-S0UB3"
      },
      "execution_count": null,
      "outputs": []
    },
    {
      "cell_type": "code",
      "source": [
        "!pip install --upgrade numpy"
      ],
      "metadata": {
        "id": "hRpLI2S10UET"
      },
      "execution_count": null,
      "outputs": []
    },
    {
      "cell_type": "code",
      "source": [],
      "metadata": {
        "id": "WLvtLFgz0UHP"
      },
      "execution_count": null,
      "outputs": []
    },
    {
      "cell_type": "code",
      "source": [],
      "metadata": {
        "id": "dBnByjS20UKF"
      },
      "execution_count": null,
      "outputs": []
    },
    {
      "cell_type": "code",
      "source": [
        "#!pip install gensim\n",
        "!pip install --upgrade gensim"
      ],
      "metadata": {
        "id": "RQT1b0GR0UMD"
      },
      "execution_count": null,
      "outputs": []
    },
    {
      "cell_type": "code",
      "source": [
        "import gensim"
      ],
      "metadata": {
        "id": "Su11jUhKqTzs"
      },
      "execution_count": null,
      "outputs": []
    },
    {
      "cell_type": "code",
      "source": [
        "#!pip install pyldavis"
      ],
      "metadata": {
        "id": "H5V2_mOW0UOg"
      },
      "execution_count": null,
      "outputs": []
    },
    {
      "cell_type": "code",
      "source": [
        "import pyLDAvis"
      ],
      "metadata": {
        "id": "P2gVpqqc0UQj",
        "colab": {
          "base_uri": "https://localhost:8080/"
        },
        "outputId": "0865fd5c-1490-47ca-f825-86d5d4941da1"
      },
      "execution_count": null,
      "outputs": [
        {
          "output_type": "stream",
          "name": "stderr",
          "text": [
            "/usr/local/lib/python3.8/dist-packages/past/types/oldstr.py:5: DeprecationWarning: Using or importing the ABCs from 'collections' instead of from 'collections.abc' is deprecated since Python 3.3, and in 3.10 it will stop working\n",
            "  from collections import Iterable\n",
            "/usr/local/lib/python3.8/dist-packages/past/builtins/misc.py:4: DeprecationWarning: Using or importing the ABCs from 'collections' instead of from 'collections.abc' is deprecated since Python 3.3, and in 3.10 it will stop working\n",
            "  from collections import Mapping\n"
          ]
        }
      ]
    },
    {
      "cell_type": "code",
      "source": [],
      "metadata": {
        "id": "lFNdR4gG0UUN"
      },
      "execution_count": null,
      "outputs": []
    }
  ],
  "metadata": {
    "colab": {
      "provenance": [],
      "collapsed_sections": [
        "xUj94bZ2yzs5",
        "c7ErTu0uzyVy",
        "irUoKWlL0MlE"
      ],
      "include_colab_link": true
    },
    "kernelspec": {
      "display_name": "Python 3",
      "name": "python3"
    },
    "language_info": {
      "name": "python"
    }
  },
  "nbformat": 4,
  "nbformat_minor": 0
}
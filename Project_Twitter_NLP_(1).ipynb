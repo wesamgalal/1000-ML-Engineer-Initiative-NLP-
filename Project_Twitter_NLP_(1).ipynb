{
  "cells": [
    {
      "cell_type": "markdown",
      "metadata": {
        "id": "view-in-github",
        "colab_type": "text"
      },
      "source": [
        "<a href=\"https://colab.research.google.com/github/wesamgalal/1000-ML-Engineer-Initiative-NLP-/blob/main/Project_Twitter_NLP_(1).ipynb\" target=\"_parent\"><img src=\"https://colab.research.google.com/assets/colab-badge.svg\" alt=\"Open In Colab\"/></a>"
      ]
    },
    {
      "cell_type": "markdown",
      "metadata": {
        "id": "CmouhaJ_SkFj"
      },
      "source": [
        "# Calling libraries:"
      ]
    },
    {
      "cell_type": "code",
      "source": [
        "from google.colab import drive\n",
        "drive.mount('/content/drive')"
      ],
      "metadata": {
        "colab": {
          "base_uri": "https://localhost:8080/"
        },
        "id": "0qggQQbAVYq_",
        "outputId": "207f471b-0f89-4ed3-ed94-761e410194b7"
      },
      "execution_count": null,
      "outputs": [
        {
          "output_type": "stream",
          "name": "stdout",
          "text": [
            "Drive already mounted at /content/drive; to attempt to forcibly remount, call drive.mount(\"/content/drive\", force_remount=True).\n"
          ]
        }
      ]
    },
    {
      "cell_type": "code",
      "execution_count": null,
      "metadata": {
        "colab": {
          "base_uri": "https://localhost:8080/"
        },
        "id": "N4KGfHcR0X5N",
        "outputId": "2df0e6a8-3117-4184-8cca-2baf7c35b349"
      },
      "outputs": [
        {
          "output_type": "stream",
          "name": "stderr",
          "text": [
            "[nltk_data] Downloading package punkt to /root/nltk_data...\n",
            "[nltk_data]   Package punkt is already up-to-date!\n"
          ]
        },
        {
          "output_type": "stream",
          "name": "stdout",
          "text": [
            "Looking in indexes: https://pypi.org/simple, https://us-python.pkg.dev/colab-wheels/public/simple/\n",
            "Requirement already satisfied: emoji in /usr/local/lib/python3.8/dist-packages (2.2.0)\n"
          ]
        }
      ],
      "source": [
        "\n",
        "import numpy as np # linear algebra\n",
        "import pandas as pd # data processing\n",
        "import matplotlib.pyplot as plt\n",
        "import re\n",
        "import string\n",
        "import spacy\n",
        "import time\n",
        "import warnings\n",
        "import seaborn as sns\n",
        "from spacy import displacy\n",
        "Text_Visualization = spacy.load('en_core_web_sm')\n",
        "import nltk\n",
        "nltk.download('punkt')\n",
        "from nltk.tokenize import word_tokenize\n",
        "from nltk.corpus import stopwords\n",
        "from string import punctuation\n",
        "from textblob import TextBlob\n",
        "%pip install emoji\n",
        "import emoji\n",
        "from sklearn.feature_extraction.text import CountVectorizer\n",
        "from sklearn.feature_extraction.text import TfidfVectorizer\n",
        "from sklearn.cluster import MiniBatchKMeans\n",
        "from sklearn.cluster import KMeans\n",
        "from sklearn.decomposition import PCA\n",
        "from sklearn.manifold import TSNE\n",
        "import matplotlib.patches as mpatches\n",
        "from yellowbrick.cluster import KElbowVisualizer\n",
        "pd.set_option(\"display.max_colwidth\", 200)\n",
        "warnings.filterwarnings(\"ignore\")\n",
        "plt.rcParams['figure.figsize'] = [16, 10]\n"
      ]
    },
    {
      "cell_type": "markdown",
      "metadata": {
        "id": "xUj94bZ2yzs5"
      },
      "source": [
        "# Read & Data analysis "
      ]
    },
    {
      "cell_type": "code",
      "execution_count": null,
      "metadata": {
        "id": "dQPeezhN0khn",
        "colab": {
          "base_uri": "https://localhost:8080/"
        },
        "outputId": "ac65b448-88fb-4d8b-af19-5d856ea85c3f"
      },
      "outputs": [
        {
          "output_type": "execute_result",
          "data": {
            "text/plain": [
              "         0           1                             2         3              4  \\\n",
              "287542   0  1994249685  Mon Jun 01 11:38:46 PDT 2009  NO_QUERY  RosalieCullen   \n",
              "1378226  4  2051982212  Fri Jun 05 23:19:14 PDT 2009  NO_QUERY    alynnolivia   \n",
              "597149   0  2219198445  Thu Jun 18 00:00:37 PDT 2009  NO_QUERY      skimmylou   \n",
              "628147   0  2231192822  Thu Jun 18 18:10:15 PDT 2009  NO_QUERY       shabooka   \n",
              "114337   0  1826242895  Sun May 17 08:02:23 PDT 2009  NO_QUERY     KyleSadler   \n",
              "\n",
              "                                                                                                            5  \n",
              "287542                                  Once again I'm sitting by myself outside in the court yard at school   \n",
              "1378226  can totally finally afford a dining room table!!! perhaps this may be accomplished on my sunday off   \n",
              "597149                                                                         My phone is being ridiculous.   \n",
              "628147                                                                  jus startted here dnt no wat to do!!   \n",
              "114337                     first Sunday at Lighthouse! no one around here has twitter  that i know of atleast  "
            ],
            "text/html": [
              "\n",
              "  <div id=\"df-6f373c43-00e3-43a9-829d-d4fec9836f60\">\n",
              "    <div class=\"colab-df-container\">\n",
              "      <div>\n",
              "<style scoped>\n",
              "    .dataframe tbody tr th:only-of-type {\n",
              "        vertical-align: middle;\n",
              "    }\n",
              "\n",
              "    .dataframe tbody tr th {\n",
              "        vertical-align: top;\n",
              "    }\n",
              "\n",
              "    .dataframe thead th {\n",
              "        text-align: right;\n",
              "    }\n",
              "</style>\n",
              "<table border=\"1\" class=\"dataframe\">\n",
              "  <thead>\n",
              "    <tr style=\"text-align: right;\">\n",
              "      <th></th>\n",
              "      <th>0</th>\n",
              "      <th>1</th>\n",
              "      <th>2</th>\n",
              "      <th>3</th>\n",
              "      <th>4</th>\n",
              "      <th>5</th>\n",
              "    </tr>\n",
              "  </thead>\n",
              "  <tbody>\n",
              "    <tr>\n",
              "      <th>287542</th>\n",
              "      <td>0</td>\n",
              "      <td>1994249685</td>\n",
              "      <td>Mon Jun 01 11:38:46 PDT 2009</td>\n",
              "      <td>NO_QUERY</td>\n",
              "      <td>RosalieCullen</td>\n",
              "      <td>Once again I'm sitting by myself outside in the court yard at school</td>\n",
              "    </tr>\n",
              "    <tr>\n",
              "      <th>1378226</th>\n",
              "      <td>4</td>\n",
              "      <td>2051982212</td>\n",
              "      <td>Fri Jun 05 23:19:14 PDT 2009</td>\n",
              "      <td>NO_QUERY</td>\n",
              "      <td>alynnolivia</td>\n",
              "      <td>can totally finally afford a dining room table!!! perhaps this may be accomplished on my sunday off</td>\n",
              "    </tr>\n",
              "    <tr>\n",
              "      <th>597149</th>\n",
              "      <td>0</td>\n",
              "      <td>2219198445</td>\n",
              "      <td>Thu Jun 18 00:00:37 PDT 2009</td>\n",
              "      <td>NO_QUERY</td>\n",
              "      <td>skimmylou</td>\n",
              "      <td>My phone is being ridiculous.</td>\n",
              "    </tr>\n",
              "    <tr>\n",
              "      <th>628147</th>\n",
              "      <td>0</td>\n",
              "      <td>2231192822</td>\n",
              "      <td>Thu Jun 18 18:10:15 PDT 2009</td>\n",
              "      <td>NO_QUERY</td>\n",
              "      <td>shabooka</td>\n",
              "      <td>jus startted here dnt no wat to do!!</td>\n",
              "    </tr>\n",
              "    <tr>\n",
              "      <th>114337</th>\n",
              "      <td>0</td>\n",
              "      <td>1826242895</td>\n",
              "      <td>Sun May 17 08:02:23 PDT 2009</td>\n",
              "      <td>NO_QUERY</td>\n",
              "      <td>KyleSadler</td>\n",
              "      <td>first Sunday at Lighthouse! no one around here has twitter  that i know of atleast</td>\n",
              "    </tr>\n",
              "  </tbody>\n",
              "</table>\n",
              "</div>\n",
              "      <button class=\"colab-df-convert\" onclick=\"convertToInteractive('df-6f373c43-00e3-43a9-829d-d4fec9836f60')\"\n",
              "              title=\"Convert this dataframe to an interactive table.\"\n",
              "              style=\"display:none;\">\n",
              "        \n",
              "  <svg xmlns=\"http://www.w3.org/2000/svg\" height=\"24px\"viewBox=\"0 0 24 24\"\n",
              "       width=\"24px\">\n",
              "    <path d=\"M0 0h24v24H0V0z\" fill=\"none\"/>\n",
              "    <path d=\"M18.56 5.44l.94 2.06.94-2.06 2.06-.94-2.06-.94-.94-2.06-.94 2.06-2.06.94zm-11 1L8.5 8.5l.94-2.06 2.06-.94-2.06-.94L8.5 2.5l-.94 2.06-2.06.94zm10 10l.94 2.06.94-2.06 2.06-.94-2.06-.94-.94-2.06-.94 2.06-2.06.94z\"/><path d=\"M17.41 7.96l-1.37-1.37c-.4-.4-.92-.59-1.43-.59-.52 0-1.04.2-1.43.59L10.3 9.45l-7.72 7.72c-.78.78-.78 2.05 0 2.83L4 21.41c.39.39.9.59 1.41.59.51 0 1.02-.2 1.41-.59l7.78-7.78 2.81-2.81c.8-.78.8-2.07 0-2.86zM5.41 20L4 18.59l7.72-7.72 1.47 1.35L5.41 20z\"/>\n",
              "  </svg>\n",
              "      </button>\n",
              "      \n",
              "  <style>\n",
              "    .colab-df-container {\n",
              "      display:flex;\n",
              "      flex-wrap:wrap;\n",
              "      gap: 12px;\n",
              "    }\n",
              "\n",
              "    .colab-df-convert {\n",
              "      background-color: #E8F0FE;\n",
              "      border: none;\n",
              "      border-radius: 50%;\n",
              "      cursor: pointer;\n",
              "      display: none;\n",
              "      fill: #1967D2;\n",
              "      height: 32px;\n",
              "      padding: 0 0 0 0;\n",
              "      width: 32px;\n",
              "    }\n",
              "\n",
              "    .colab-df-convert:hover {\n",
              "      background-color: #E2EBFA;\n",
              "      box-shadow: 0px 1px 2px rgba(60, 64, 67, 0.3), 0px 1px 3px 1px rgba(60, 64, 67, 0.15);\n",
              "      fill: #174EA6;\n",
              "    }\n",
              "\n",
              "    [theme=dark] .colab-df-convert {\n",
              "      background-color: #3B4455;\n",
              "      fill: #D2E3FC;\n",
              "    }\n",
              "\n",
              "    [theme=dark] .colab-df-convert:hover {\n",
              "      background-color: #434B5C;\n",
              "      box-shadow: 0px 1px 3px 1px rgba(0, 0, 0, 0.15);\n",
              "      filter: drop-shadow(0px 1px 2px rgba(0, 0, 0, 0.3));\n",
              "      fill: #FFFFFF;\n",
              "    }\n",
              "  </style>\n",
              "\n",
              "      <script>\n",
              "        const buttonEl =\n",
              "          document.querySelector('#df-6f373c43-00e3-43a9-829d-d4fec9836f60 button.colab-df-convert');\n",
              "        buttonEl.style.display =\n",
              "          google.colab.kernel.accessAllowed ? 'block' : 'none';\n",
              "\n",
              "        async function convertToInteractive(key) {\n",
              "          const element = document.querySelector('#df-6f373c43-00e3-43a9-829d-d4fec9836f60');\n",
              "          const dataTable =\n",
              "            await google.colab.kernel.invokeFunction('convertToInteractive',\n",
              "                                                     [key], {});\n",
              "          if (!dataTable) return;\n",
              "\n",
              "          const docLinkHtml = 'Like what you see? Visit the ' +\n",
              "            '<a target=\"_blank\" href=https://colab.research.google.com/notebooks/data_table.ipynb>data table notebook</a>'\n",
              "            + ' to learn more about interactive tables.';\n",
              "          element.innerHTML = '';\n",
              "          dataTable['output_type'] = 'display_data';\n",
              "          await google.colab.output.renderOutput(dataTable, element);\n",
              "          const docLink = document.createElement('div');\n",
              "          docLink.innerHTML = docLinkHtml;\n",
              "          element.appendChild(docLink);\n",
              "        }\n",
              "      </script>\n",
              "    </div>\n",
              "  </div>\n",
              "  "
            ]
          },
          "metadata": {},
          "execution_count": 199
        }
      ],
      "source": [
        "#Read data        \n",
        "data = pd.read_csv(\"/content/drive/MyDrive/tweets.csv\",encoding='ISO-8859-1',header=None)\n",
        "data=data.sample(10000)\n",
        "\n",
        "\n",
        "data.head()"
      ]
    },
    {
      "cell_type": "code",
      "execution_count": null,
      "metadata": {
        "id": "QOsD3gI-ssDN",
        "colab": {
          "base_uri": "https://localhost:8080/"
        },
        "outputId": "adbed03e-38a7-4040-ad12-cb8bf63a948f"
      },
      "outputs": [
        {
          "output_type": "execute_result",
          "data": {
            "text/plain": [
              "         Target          ID                          Date  NO_QUERY  \\\n",
              "287542        0  1994249685  Mon Jun 01 11:38:46 PDT 2009  NO_QUERY   \n",
              "1378226       4  2051982212  Fri Jun 05 23:19:14 PDT 2009  NO_QUERY   \n",
              "597149        0  2219198445  Thu Jun 18 00:00:37 PDT 2009  NO_QUERY   \n",
              "628147        0  2231192822  Thu Jun 18 18:10:15 PDT 2009  NO_QUERY   \n",
              "114337        0  1826242895  Sun May 17 08:02:23 PDT 2009  NO_QUERY   \n",
              "\n",
              "                Auther  \\\n",
              "287542   RosalieCullen   \n",
              "1378226    alynnolivia   \n",
              "597149       skimmylou   \n",
              "628147        shabooka   \n",
              "114337      KyleSadler   \n",
              "\n",
              "                                                                                                         Post  \n",
              "287542                                  Once again I'm sitting by myself outside in the court yard at school   \n",
              "1378226  can totally finally afford a dining room table!!! perhaps this may be accomplished on my sunday off   \n",
              "597149                                                                         My phone is being ridiculous.   \n",
              "628147                                                                  jus startted here dnt no wat to do!!   \n",
              "114337                     first Sunday at Lighthouse! no one around here has twitter  that i know of atleast  "
            ],
            "text/html": [
              "\n",
              "  <div id=\"df-54672ee2-1ee0-4074-8571-ac413057e10a\">\n",
              "    <div class=\"colab-df-container\">\n",
              "      <div>\n",
              "<style scoped>\n",
              "    .dataframe tbody tr th:only-of-type {\n",
              "        vertical-align: middle;\n",
              "    }\n",
              "\n",
              "    .dataframe tbody tr th {\n",
              "        vertical-align: top;\n",
              "    }\n",
              "\n",
              "    .dataframe thead th {\n",
              "        text-align: right;\n",
              "    }\n",
              "</style>\n",
              "<table border=\"1\" class=\"dataframe\">\n",
              "  <thead>\n",
              "    <tr style=\"text-align: right;\">\n",
              "      <th></th>\n",
              "      <th>Target</th>\n",
              "      <th>ID</th>\n",
              "      <th>Date</th>\n",
              "      <th>NO_QUERY</th>\n",
              "      <th>Auther</th>\n",
              "      <th>Post</th>\n",
              "    </tr>\n",
              "  </thead>\n",
              "  <tbody>\n",
              "    <tr>\n",
              "      <th>287542</th>\n",
              "      <td>0</td>\n",
              "      <td>1994249685</td>\n",
              "      <td>Mon Jun 01 11:38:46 PDT 2009</td>\n",
              "      <td>NO_QUERY</td>\n",
              "      <td>RosalieCullen</td>\n",
              "      <td>Once again I'm sitting by myself outside in the court yard at school</td>\n",
              "    </tr>\n",
              "    <tr>\n",
              "      <th>1378226</th>\n",
              "      <td>4</td>\n",
              "      <td>2051982212</td>\n",
              "      <td>Fri Jun 05 23:19:14 PDT 2009</td>\n",
              "      <td>NO_QUERY</td>\n",
              "      <td>alynnolivia</td>\n",
              "      <td>can totally finally afford a dining room table!!! perhaps this may be accomplished on my sunday off</td>\n",
              "    </tr>\n",
              "    <tr>\n",
              "      <th>597149</th>\n",
              "      <td>0</td>\n",
              "      <td>2219198445</td>\n",
              "      <td>Thu Jun 18 00:00:37 PDT 2009</td>\n",
              "      <td>NO_QUERY</td>\n",
              "      <td>skimmylou</td>\n",
              "      <td>My phone is being ridiculous.</td>\n",
              "    </tr>\n",
              "    <tr>\n",
              "      <th>628147</th>\n",
              "      <td>0</td>\n",
              "      <td>2231192822</td>\n",
              "      <td>Thu Jun 18 18:10:15 PDT 2009</td>\n",
              "      <td>NO_QUERY</td>\n",
              "      <td>shabooka</td>\n",
              "      <td>jus startted here dnt no wat to do!!</td>\n",
              "    </tr>\n",
              "    <tr>\n",
              "      <th>114337</th>\n",
              "      <td>0</td>\n",
              "      <td>1826242895</td>\n",
              "      <td>Sun May 17 08:02:23 PDT 2009</td>\n",
              "      <td>NO_QUERY</td>\n",
              "      <td>KyleSadler</td>\n",
              "      <td>first Sunday at Lighthouse! no one around here has twitter  that i know of atleast</td>\n",
              "    </tr>\n",
              "  </tbody>\n",
              "</table>\n",
              "</div>\n",
              "      <button class=\"colab-df-convert\" onclick=\"convertToInteractive('df-54672ee2-1ee0-4074-8571-ac413057e10a')\"\n",
              "              title=\"Convert this dataframe to an interactive table.\"\n",
              "              style=\"display:none;\">\n",
              "        \n",
              "  <svg xmlns=\"http://www.w3.org/2000/svg\" height=\"24px\"viewBox=\"0 0 24 24\"\n",
              "       width=\"24px\">\n",
              "    <path d=\"M0 0h24v24H0V0z\" fill=\"none\"/>\n",
              "    <path d=\"M18.56 5.44l.94 2.06.94-2.06 2.06-.94-2.06-.94-.94-2.06-.94 2.06-2.06.94zm-11 1L8.5 8.5l.94-2.06 2.06-.94-2.06-.94L8.5 2.5l-.94 2.06-2.06.94zm10 10l.94 2.06.94-2.06 2.06-.94-2.06-.94-.94-2.06-.94 2.06-2.06.94z\"/><path d=\"M17.41 7.96l-1.37-1.37c-.4-.4-.92-.59-1.43-.59-.52 0-1.04.2-1.43.59L10.3 9.45l-7.72 7.72c-.78.78-.78 2.05 0 2.83L4 21.41c.39.39.9.59 1.41.59.51 0 1.02-.2 1.41-.59l7.78-7.78 2.81-2.81c.8-.78.8-2.07 0-2.86zM5.41 20L4 18.59l7.72-7.72 1.47 1.35L5.41 20z\"/>\n",
              "  </svg>\n",
              "      </button>\n",
              "      \n",
              "  <style>\n",
              "    .colab-df-container {\n",
              "      display:flex;\n",
              "      flex-wrap:wrap;\n",
              "      gap: 12px;\n",
              "    }\n",
              "\n",
              "    .colab-df-convert {\n",
              "      background-color: #E8F0FE;\n",
              "      border: none;\n",
              "      border-radius: 50%;\n",
              "      cursor: pointer;\n",
              "      display: none;\n",
              "      fill: #1967D2;\n",
              "      height: 32px;\n",
              "      padding: 0 0 0 0;\n",
              "      width: 32px;\n",
              "    }\n",
              "\n",
              "    .colab-df-convert:hover {\n",
              "      background-color: #E2EBFA;\n",
              "      box-shadow: 0px 1px 2px rgba(60, 64, 67, 0.3), 0px 1px 3px 1px rgba(60, 64, 67, 0.15);\n",
              "      fill: #174EA6;\n",
              "    }\n",
              "\n",
              "    [theme=dark] .colab-df-convert {\n",
              "      background-color: #3B4455;\n",
              "      fill: #D2E3FC;\n",
              "    }\n",
              "\n",
              "    [theme=dark] .colab-df-convert:hover {\n",
              "      background-color: #434B5C;\n",
              "      box-shadow: 0px 1px 3px 1px rgba(0, 0, 0, 0.15);\n",
              "      filter: drop-shadow(0px 1px 2px rgba(0, 0, 0, 0.3));\n",
              "      fill: #FFFFFF;\n",
              "    }\n",
              "  </style>\n",
              "\n",
              "      <script>\n",
              "        const buttonEl =\n",
              "          document.querySelector('#df-54672ee2-1ee0-4074-8571-ac413057e10a button.colab-df-convert');\n",
              "        buttonEl.style.display =\n",
              "          google.colab.kernel.accessAllowed ? 'block' : 'none';\n",
              "\n",
              "        async function convertToInteractive(key) {\n",
              "          const element = document.querySelector('#df-54672ee2-1ee0-4074-8571-ac413057e10a');\n",
              "          const dataTable =\n",
              "            await google.colab.kernel.invokeFunction('convertToInteractive',\n",
              "                                                     [key], {});\n",
              "          if (!dataTable) return;\n",
              "\n",
              "          const docLinkHtml = 'Like what you see? Visit the ' +\n",
              "            '<a target=\"_blank\" href=https://colab.research.google.com/notebooks/data_table.ipynb>data table notebook</a>'\n",
              "            + ' to learn more about interactive tables.';\n",
              "          element.innerHTML = '';\n",
              "          dataTable['output_type'] = 'display_data';\n",
              "          await google.colab.output.renderOutput(dataTable, element);\n",
              "          const docLink = document.createElement('div');\n",
              "          docLink.innerHTML = docLinkHtml;\n",
              "          element.appendChild(docLink);\n",
              "        }\n",
              "      </script>\n",
              "    </div>\n",
              "  </div>\n",
              "  "
            ]
          },
          "metadata": {},
          "execution_count": 200
        }
      ],
      "source": [
        "#create a name for each column to modify them easy\n",
        "data.columns= ['Target', 'ID', 'Date', 'NO_QUERY', 'Auther', 'Post']\n",
        "\n",
        "data.head()"
      ]
    },
    {
      "cell_type": "code",
      "execution_count": null,
      "metadata": {
        "id": "ztlzX7GTMYV5",
        "colab": {
          "base_uri": "https://localhost:8080/"
        },
        "outputId": "a20a9b43-656e-47af-dd94-6743045d55de"
      },
      "outputs": [
        {
          "output_type": "stream",
          "name": "stdout",
          "text": [
            "(10000, 6)\n",
            "....................................\n",
            "           Target            ID\n",
            "count  10000.0000  1.000000e+04\n",
            "mean       2.0012  1.998540e+09\n",
            "std        2.0001  1.912809e+08\n",
            "min        0.0000  1.467825e+09\n",
            "25%        0.0000  1.957097e+09\n",
            "50%        4.0000  2.001331e+09\n",
            "75%        4.0000  2.176645e+09\n",
            "max        4.0000  2.329175e+09\n",
            "....................................\n",
            "<class 'pandas.core.frame.DataFrame'>\n",
            "Int64Index: 10000 entries, 287542 to 262795\n",
            "Data columns (total 6 columns):\n",
            " #   Column    Non-Null Count  Dtype \n",
            "---  ------    --------------  ----- \n",
            " 0   Target    10000 non-null  int64 \n",
            " 1   ID        10000 non-null  int64 \n",
            " 2   Date      10000 non-null  object\n",
            " 3   NO_QUERY  10000 non-null  object\n",
            " 4   Auther    10000 non-null  object\n",
            " 5   Post      10000 non-null  object\n",
            "dtypes: int64(2), object(4)\n",
            "memory usage: 546.9+ KB\n",
            "....................................\n",
            "Target       int64\n",
            "ID           int64\n",
            "Date        object\n",
            "NO_QUERY    object\n",
            "Auther      object\n",
            "Post        object\n",
            "dtype: object\n"
          ]
        }
      ],
      "source": [
        "#data information\n",
        "print(data.shape)\n",
        "print(\"....................................\")\n",
        "print(data.describe())\n",
        "print(\"....................................\")\n",
        "data.info()\n",
        "print(\"....................................\")\n",
        "print(data.dtypes)"
      ]
    },
    {
      "cell_type": "code",
      "execution_count": null,
      "metadata": {
        "id": "Wg6Q3CZRR3eM",
        "colab": {
          "base_uri": "https://localhost:8080/"
        },
        "outputId": "6b9b9e9a-fdab-492f-fb16-63c4d78c23fa"
      },
      "outputs": [
        {
          "output_type": "execute_result",
          "data": {
            "text/plain": [
              "4    5003\n",
              "0    4997\n",
              "Name: Target, dtype: int64"
            ]
          },
          "metadata": {},
          "execution_count": 202
        }
      ],
      "source": [
        "#no. of Target values\n",
        "data[\"Target\"].value_counts()"
      ]
    },
    {
      "cell_type": "markdown",
      "metadata": {
        "id": "c7ErTu0uzyVy"
      },
      "source": [
        "# Cleaning Data "
      ]
    },
    {
      "cell_type": "markdown",
      "metadata": {
        "id": "E6e0BtYvtDQ6"
      },
      "source": [
        "<font color='red'><font size = 5 >Start Cleaning our data</font>"
      ]
    },
    {
      "cell_type": "markdown",
      "metadata": {
        "id": "dzXR5Ah5uOh7"
      },
      "source": [
        "<font color='blue'><font size = 2 >     1. Lowercasing all the letters</font>"
      ]
    },
    {
      "cell_type": "code",
      "execution_count": null,
      "metadata": {
        "id": "E_xSBTYXsuM6",
        "colab": {
          "base_uri": "https://localhost:8080/"
        },
        "outputId": "665c7c5e-dd11-4ad9-dd71-e261c48add10"
      },
      "outputs": [
        {
          "output_type": "display_data",
          "data": {
            "text/plain": [
              "         Target          ID                          Date  NO_QUERY  \\\n",
              "287542        0  1994249685  Mon Jun 01 11:38:46 PDT 2009  NO_QUERY   \n",
              "1378226       4  2051982212  Fri Jun 05 23:19:14 PDT 2009  NO_QUERY   \n",
              "597149        0  2219198445  Thu Jun 18 00:00:37 PDT 2009  NO_QUERY   \n",
              "628147        0  2231192822  Thu Jun 18 18:10:15 PDT 2009  NO_QUERY   \n",
              "114337        0  1826242895  Sun May 17 08:02:23 PDT 2009  NO_QUERY   \n",
              "...         ...         ...                           ...       ...   \n",
              "957071        4  1825371036  Sun May 17 05:27:05 PDT 2009  NO_QUERY   \n",
              "970199        4  1828014361  Sun May 17 11:54:55 PDT 2009  NO_QUERY   \n",
              "1471597       4  2065234772  Sun Jun 07 08:10:36 PDT 2009  NO_QUERY   \n",
              "1194741       4  1984500151  Sun May 31 15:13:42 PDT 2009  NO_QUERY   \n",
              "262795        0  1986326870  Sun May 31 18:40:35 PDT 2009  NO_QUERY   \n",
              "\n",
              "                Auther  \\\n",
              "287542   RosalieCullen   \n",
              "1378226    alynnolivia   \n",
              "597149       skimmylou   \n",
              "628147        shabooka   \n",
              "114337      KyleSadler   \n",
              "...                ...   \n",
              "957071   burntbroccoli   \n",
              "970199      MzGemini87   \n",
              "1471597     sherryinbc   \n",
              "1194741         gaabs_   \n",
              "262795            audm   \n",
              "\n",
              "                                                                                                                                    Post  \\\n",
              "287542                                                             Once again I'm sitting by myself outside in the court yard at school    \n",
              "1378226                             can totally finally afford a dining room table!!! perhaps this may be accomplished on my sunday off    \n",
              "597149                                                                                                    My phone is being ridiculous.    \n",
              "628147                                                                                             jus startted here dnt no wat to do!!    \n",
              "114337                                                first Sunday at Lighthouse! no one around here has twitter  that i know of atleast   \n",
              "...                                                                                                                                  ...   \n",
              "957071                                                                                            @wantit talking to yourself again eh?    \n",
              "970199       Omg good afternoon all I can't believe i missed church again lord plz forgive me forgive for missing the word on today lol    \n",
              "1471597  @carinafox5 HAHA! I JUST picked up my @idolscott tickets from Tmaster, yup, bought them a month ago and never went to get them    \n",
              "1194741                                                                      @tommcfly haha, owwn Tom! was beautiful in FaustÃ£o today!    \n",
              "262795                                                                                    @judd40 final on Sunday? wtf?  also poor SuBo    \n",
              "\n",
              "                                                                                                                                 results  \n",
              "287542                                                             once again i'm sitting by myself outside in the court yard at school   \n",
              "1378226                             can totally finally afford a dining room table!!! perhaps this may be accomplished on my sunday off   \n",
              "597149                                                                                                    my phone is being ridiculous.   \n",
              "628147                                                                                             jus startted here dnt no wat to do!!   \n",
              "114337                                                first sunday at lighthouse! no one around here has twitter  that i know of atleast  \n",
              "...                                                                                                                                  ...  \n",
              "957071                                                                                            @wantit talking to yourself again eh?   \n",
              "970199       omg good afternoon all i can't believe i missed church again lord plz forgive me forgive for missing the word on today lol   \n",
              "1471597  @carinafox5 haha! i just picked up my @idolscott tickets from tmaster, yup, bought them a month ago and never went to get them   \n",
              "1194741                                                                      @tommcfly haha, owwn tom! was beautiful in faustã£o today!   \n",
              "262795                                                                                    @judd40 final on sunday? wtf?  also poor subo   \n",
              "\n",
              "[10000 rows x 7 columns]"
            ],
            "text/html": [
              "\n",
              "  <div id=\"df-036f93c5-7ce3-437d-892b-80c6d2308b7f\">\n",
              "    <div class=\"colab-df-container\">\n",
              "      <div>\n",
              "<style scoped>\n",
              "    .dataframe tbody tr th:only-of-type {\n",
              "        vertical-align: middle;\n",
              "    }\n",
              "\n",
              "    .dataframe tbody tr th {\n",
              "        vertical-align: top;\n",
              "    }\n",
              "\n",
              "    .dataframe thead th {\n",
              "        text-align: right;\n",
              "    }\n",
              "</style>\n",
              "<table border=\"1\" class=\"dataframe\">\n",
              "  <thead>\n",
              "    <tr style=\"text-align: right;\">\n",
              "      <th></th>\n",
              "      <th>Target</th>\n",
              "      <th>ID</th>\n",
              "      <th>Date</th>\n",
              "      <th>NO_QUERY</th>\n",
              "      <th>Auther</th>\n",
              "      <th>Post</th>\n",
              "      <th>results</th>\n",
              "    </tr>\n",
              "  </thead>\n",
              "  <tbody>\n",
              "    <tr>\n",
              "      <th>287542</th>\n",
              "      <td>0</td>\n",
              "      <td>1994249685</td>\n",
              "      <td>Mon Jun 01 11:38:46 PDT 2009</td>\n",
              "      <td>NO_QUERY</td>\n",
              "      <td>RosalieCullen</td>\n",
              "      <td>Once again I'm sitting by myself outside in the court yard at school</td>\n",
              "      <td>once again i'm sitting by myself outside in the court yard at school</td>\n",
              "    </tr>\n",
              "    <tr>\n",
              "      <th>1378226</th>\n",
              "      <td>4</td>\n",
              "      <td>2051982212</td>\n",
              "      <td>Fri Jun 05 23:19:14 PDT 2009</td>\n",
              "      <td>NO_QUERY</td>\n",
              "      <td>alynnolivia</td>\n",
              "      <td>can totally finally afford a dining room table!!! perhaps this may be accomplished on my sunday off</td>\n",
              "      <td>can totally finally afford a dining room table!!! perhaps this may be accomplished on my sunday off</td>\n",
              "    </tr>\n",
              "    <tr>\n",
              "      <th>597149</th>\n",
              "      <td>0</td>\n",
              "      <td>2219198445</td>\n",
              "      <td>Thu Jun 18 00:00:37 PDT 2009</td>\n",
              "      <td>NO_QUERY</td>\n",
              "      <td>skimmylou</td>\n",
              "      <td>My phone is being ridiculous.</td>\n",
              "      <td>my phone is being ridiculous.</td>\n",
              "    </tr>\n",
              "    <tr>\n",
              "      <th>628147</th>\n",
              "      <td>0</td>\n",
              "      <td>2231192822</td>\n",
              "      <td>Thu Jun 18 18:10:15 PDT 2009</td>\n",
              "      <td>NO_QUERY</td>\n",
              "      <td>shabooka</td>\n",
              "      <td>jus startted here dnt no wat to do!!</td>\n",
              "      <td>jus startted here dnt no wat to do!!</td>\n",
              "    </tr>\n",
              "    <tr>\n",
              "      <th>114337</th>\n",
              "      <td>0</td>\n",
              "      <td>1826242895</td>\n",
              "      <td>Sun May 17 08:02:23 PDT 2009</td>\n",
              "      <td>NO_QUERY</td>\n",
              "      <td>KyleSadler</td>\n",
              "      <td>first Sunday at Lighthouse! no one around here has twitter  that i know of atleast</td>\n",
              "      <td>first sunday at lighthouse! no one around here has twitter  that i know of atleast</td>\n",
              "    </tr>\n",
              "    <tr>\n",
              "      <th>...</th>\n",
              "      <td>...</td>\n",
              "      <td>...</td>\n",
              "      <td>...</td>\n",
              "      <td>...</td>\n",
              "      <td>...</td>\n",
              "      <td>...</td>\n",
              "      <td>...</td>\n",
              "    </tr>\n",
              "    <tr>\n",
              "      <th>957071</th>\n",
              "      <td>4</td>\n",
              "      <td>1825371036</td>\n",
              "      <td>Sun May 17 05:27:05 PDT 2009</td>\n",
              "      <td>NO_QUERY</td>\n",
              "      <td>burntbroccoli</td>\n",
              "      <td>@wantit talking to yourself again eh?</td>\n",
              "      <td>@wantit talking to yourself again eh?</td>\n",
              "    </tr>\n",
              "    <tr>\n",
              "      <th>970199</th>\n",
              "      <td>4</td>\n",
              "      <td>1828014361</td>\n",
              "      <td>Sun May 17 11:54:55 PDT 2009</td>\n",
              "      <td>NO_QUERY</td>\n",
              "      <td>MzGemini87</td>\n",
              "      <td>Omg good afternoon all I can't believe i missed church again lord plz forgive me forgive for missing the word on today lol</td>\n",
              "      <td>omg good afternoon all i can't believe i missed church again lord plz forgive me forgive for missing the word on today lol</td>\n",
              "    </tr>\n",
              "    <tr>\n",
              "      <th>1471597</th>\n",
              "      <td>4</td>\n",
              "      <td>2065234772</td>\n",
              "      <td>Sun Jun 07 08:10:36 PDT 2009</td>\n",
              "      <td>NO_QUERY</td>\n",
              "      <td>sherryinbc</td>\n",
              "      <td>@carinafox5 HAHA! I JUST picked up my @idolscott tickets from Tmaster, yup, bought them a month ago and never went to get them</td>\n",
              "      <td>@carinafox5 haha! i just picked up my @idolscott tickets from tmaster, yup, bought them a month ago and never went to get them</td>\n",
              "    </tr>\n",
              "    <tr>\n",
              "      <th>1194741</th>\n",
              "      <td>4</td>\n",
              "      <td>1984500151</td>\n",
              "      <td>Sun May 31 15:13:42 PDT 2009</td>\n",
              "      <td>NO_QUERY</td>\n",
              "      <td>gaabs_</td>\n",
              "      <td>@tommcfly haha, owwn Tom! was beautiful in FaustÃ£o today!</td>\n",
              "      <td>@tommcfly haha, owwn tom! was beautiful in faustã£o today!</td>\n",
              "    </tr>\n",
              "    <tr>\n",
              "      <th>262795</th>\n",
              "      <td>0</td>\n",
              "      <td>1986326870</td>\n",
              "      <td>Sun May 31 18:40:35 PDT 2009</td>\n",
              "      <td>NO_QUERY</td>\n",
              "      <td>audm</td>\n",
              "      <td>@judd40 final on Sunday? wtf?  also poor SuBo</td>\n",
              "      <td>@judd40 final on sunday? wtf?  also poor subo</td>\n",
              "    </tr>\n",
              "  </tbody>\n",
              "</table>\n",
              "<p>10000 rows × 7 columns</p>\n",
              "</div>\n",
              "      <button class=\"colab-df-convert\" onclick=\"convertToInteractive('df-036f93c5-7ce3-437d-892b-80c6d2308b7f')\"\n",
              "              title=\"Convert this dataframe to an interactive table.\"\n",
              "              style=\"display:none;\">\n",
              "        \n",
              "  <svg xmlns=\"http://www.w3.org/2000/svg\" height=\"24px\"viewBox=\"0 0 24 24\"\n",
              "       width=\"24px\">\n",
              "    <path d=\"M0 0h24v24H0V0z\" fill=\"none\"/>\n",
              "    <path d=\"M18.56 5.44l.94 2.06.94-2.06 2.06-.94-2.06-.94-.94-2.06-.94 2.06-2.06.94zm-11 1L8.5 8.5l.94-2.06 2.06-.94-2.06-.94L8.5 2.5l-.94 2.06-2.06.94zm10 10l.94 2.06.94-2.06 2.06-.94-2.06-.94-.94-2.06-.94 2.06-2.06.94z\"/><path d=\"M17.41 7.96l-1.37-1.37c-.4-.4-.92-.59-1.43-.59-.52 0-1.04.2-1.43.59L10.3 9.45l-7.72 7.72c-.78.78-.78 2.05 0 2.83L4 21.41c.39.39.9.59 1.41.59.51 0 1.02-.2 1.41-.59l7.78-7.78 2.81-2.81c.8-.78.8-2.07 0-2.86zM5.41 20L4 18.59l7.72-7.72 1.47 1.35L5.41 20z\"/>\n",
              "  </svg>\n",
              "      </button>\n",
              "      \n",
              "  <style>\n",
              "    .colab-df-container {\n",
              "      display:flex;\n",
              "      flex-wrap:wrap;\n",
              "      gap: 12px;\n",
              "    }\n",
              "\n",
              "    .colab-df-convert {\n",
              "      background-color: #E8F0FE;\n",
              "      border: none;\n",
              "      border-radius: 50%;\n",
              "      cursor: pointer;\n",
              "      display: none;\n",
              "      fill: #1967D2;\n",
              "      height: 32px;\n",
              "      padding: 0 0 0 0;\n",
              "      width: 32px;\n",
              "    }\n",
              "\n",
              "    .colab-df-convert:hover {\n",
              "      background-color: #E2EBFA;\n",
              "      box-shadow: 0px 1px 2px rgba(60, 64, 67, 0.3), 0px 1px 3px 1px rgba(60, 64, 67, 0.15);\n",
              "      fill: #174EA6;\n",
              "    }\n",
              "\n",
              "    [theme=dark] .colab-df-convert {\n",
              "      background-color: #3B4455;\n",
              "      fill: #D2E3FC;\n",
              "    }\n",
              "\n",
              "    [theme=dark] .colab-df-convert:hover {\n",
              "      background-color: #434B5C;\n",
              "      box-shadow: 0px 1px 3px 1px rgba(0, 0, 0, 0.15);\n",
              "      filter: drop-shadow(0px 1px 2px rgba(0, 0, 0, 0.3));\n",
              "      fill: #FFFFFF;\n",
              "    }\n",
              "  </style>\n",
              "\n",
              "      <script>\n",
              "        const buttonEl =\n",
              "          document.querySelector('#df-036f93c5-7ce3-437d-892b-80c6d2308b7f button.colab-df-convert');\n",
              "        buttonEl.style.display =\n",
              "          google.colab.kernel.accessAllowed ? 'block' : 'none';\n",
              "\n",
              "        async function convertToInteractive(key) {\n",
              "          const element = document.querySelector('#df-036f93c5-7ce3-437d-892b-80c6d2308b7f');\n",
              "          const dataTable =\n",
              "            await google.colab.kernel.invokeFunction('convertToInteractive',\n",
              "                                                     [key], {});\n",
              "          if (!dataTable) return;\n",
              "\n",
              "          const docLinkHtml = 'Like what you see? Visit the ' +\n",
              "            '<a target=\"_blank\" href=https://colab.research.google.com/notebooks/data_table.ipynb>data table notebook</a>'\n",
              "            + ' to learn more about interactive tables.';\n",
              "          element.innerHTML = '';\n",
              "          dataTable['output_type'] = 'display_data';\n",
              "          await google.colab.output.renderOutput(dataTable, element);\n",
              "          const docLink = document.createElement('div');\n",
              "          docLink.innerHTML = docLinkHtml;\n",
              "          element.appendChild(docLink);\n",
              "        }\n",
              "      </script>\n",
              "    </div>\n",
              "  </div>\n",
              "  "
            ]
          },
          "metadata": {}
        }
      ],
      "source": [
        "data['results'] = data['Post'].str.lower()\n",
        "display(data)"
      ]
    },
    {
      "cell_type": "markdown",
      "metadata": {
        "id": "TiDbJAufeN54"
      },
      "source": [
        "<font color='blue'><font size = 2 >2.Removing Consecutive letters</font>\n",
        " "
      ]
    },
    {
      "cell_type": "code",
      "execution_count": null,
      "metadata": {
        "id": "VabDN1u9eckP",
        "colab": {
          "base_uri": "https://localhost:8080/"
        },
        "outputId": "c6a8a89f-4525-4e19-d3da-6005456aa801"
      },
      "outputs": [
        {
          "output_type": "execute_result",
          "data": {
            "text/plain": [
              "957071                                                                                              @wantit talking to yourself again eh? \n",
              "970199         omg good afternoon all i can't believe i missed church again lord plz forgive me forgive for missing the word on today lol \n",
              "1471597    @carinafox5 haha! i just picked up my @idolscott tickets from tmaster, yup, bought them a month ago and never went to get them \n",
              "1194741                                                                        @tommcfly haha, owwn tom! was beautiful in faustã£o today! \n",
              "262795                                                                                      @judd40 final on sunday? wtf?  also poor subo \n",
              "Name: results, dtype: object"
            ]
          },
          "metadata": {},
          "execution_count": 204
        }
      ],
      "source": [
        "#Removing Consecutive letters: 3 or more consecutive letters are replaced by 2 letters. (eg: \"Heyyyy\" to \"Heyy\")\n",
        "#cause some words like \"all\" if we replaced \"ll\" with only one \"l\" will lose the meaning\n",
        "#str = \"heyyyyyy\"\n",
        "#print(re.sub(r\"(.)\\1\\1+\", r\"\\1\\1\", str))\n",
        "#output will be : heyy\n",
        "\n",
        "def cleaning_repeating_char(text):\n",
        "    return re.sub(r'(.)\\1\\1+', r'\\1\\1', text)\n",
        "data['results'] = data['results'].apply(lambda x: cleaning_repeating_char(x))\n",
        "data['results'].tail()\n"
      ]
    },
    {
      "cell_type": "markdown",
      "metadata": {
        "id": "IvkFvRftgGdv"
      },
      "source": [
        "<font color='blue'><font size = 2 >3.Replace all emojis </font>\n"
      ]
    },
    {
      "cell_type": "code",
      "execution_count": null,
      "metadata": {
        "id": "PpsxhMJegW6g",
        "colab": {
          "base_uri": "https://localhost:8080/"
        },
        "outputId": "0fb1c5a0-9fd8-44ec-c9c0-454fdf718e5b"
      },
      "outputs": [
        {
          "output_type": "execute_result",
          "data": {
            "text/plain": [
              "957071                                                                                              @wantit talking to yourself again eh? \n",
              "970199         omg good afternoon all i can't believe i missed church again lord plz forgive me forgive for missing the word on today lol \n",
              "1471597    @carinafox5 haha! i just picked up my @idolscott tickets from tmaster, yup, bought them a month ago and never went to get them \n",
              "1194741                                                                        @tommcfly haha, owwn tom! was beautiful in faustã£o today! \n",
              "262795                                                                                      @judd40 final on sunday? wtf?  also poor subo \n",
              "Name: results, dtype: object"
            ]
          },
          "metadata": {},
          "execution_count": 205
        }
      ],
      "source": [
        "#ex: The emoji 💣 or the shortcode :bomb: will be converted to \"bomba\" its meaning in English by demojize()\n",
        "data['results'] = data['results'].apply(lambda x: emoji.demojize(x,language='es'))\n",
        "data['results'].tail()\n"
      ]
    },
    {
      "cell_type": "markdown",
      "metadata": {
        "id": "oqMlj4yeueKb"
      },
      "source": [
        "<font color='blue'><font size = 2 >4. Remove Hashtags</font>"
      ]
    },
    {
      "cell_type": "code",
      "execution_count": null,
      "metadata": {
        "id": "KZhHO-YsuZkc",
        "colab": {
          "base_uri": "https://localhost:8080/"
        },
        "outputId": "ba5f0807-652a-4eb8-dcfb-d02f8a873ba4"
      },
      "outputs": [
        {
          "output_type": "execute_result",
          "data": {
            "text/plain": [
              "957071                                                                                              @wantit talking to yourself again eh? \n",
              "970199         omg good afternoon all i can't believe i missed church again lord plz forgive me forgive for missing the word on today lol \n",
              "1471597    @carinafox5 haha! i just picked up my @idolscott tickets from tmaster, yup, bought them a month ago and never went to get them \n",
              "1194741                                                                        @tommcfly haha, owwn tom! was beautiful in faustã£o today! \n",
              "262795                                                                                      @judd40 final on sunday? wtf?  also poor subo \n",
              "Name: results, dtype: object"
            ]
          },
          "metadata": {},
          "execution_count": 206
        }
      ],
      "source": [
        "def cleaning_hashtag(hash):\n",
        "    hash_pattern = re.compile(r'#[A-Za-z0-9_]+')\n",
        "    return hash_pattern.sub(r'', hash) \n",
        "data['results'] = data['results'].apply(lambda x: cleaning_hashtag(x))\n",
        "data['results'].tail()"
      ]
    },
    {
      "cell_type": "markdown",
      "metadata": {
        "id": "iWO1fz5lunVL"
      },
      "source": [
        "<font color='blue'><font size = 2 >5. Remove @ or mentions</font>"
      ]
    },
    {
      "cell_type": "code",
      "execution_count": null,
      "metadata": {
        "id": "tGAeKhnXuZ0H",
        "colab": {
          "base_uri": "https://localhost:8080/"
        },
        "outputId": "412b2d71-454c-45f0-a200-e4a18f469c42"
      },
      "outputs": [
        {
          "output_type": "execute_result",
          "data": {
            "text/plain": [
              "957071                                                                                                  talking to yourself again eh? \n",
              "970199     omg good afternoon all i can't believe i missed church again lord plz forgive me forgive for missing the word on today lol \n",
              "1471597                      haha! i just picked up my  tickets from tmaster, yup, bought them a month ago and never went to get them \n",
              "1194741                                                                              haha, owwn tom! was beautiful in faustã£o today! \n",
              "262795                                                                                          final on sunday? wtf?  also poor subo \n",
              "Name: results, dtype: object"
            ]
          },
          "metadata": {},
          "execution_count": 207
        }
      ],
      "source": [
        "def cleaning_ment(ment):\n",
        "    ment_pattern = re.compile(r'@[A-Za-z0-9_]+')\n",
        "    return ment_pattern.sub(r'', ment) \n",
        "data['results'] = data['results'].apply(lambda x: cleaning_ment(x))\n",
        "data['results'].tail()"
      ]
    },
    {
      "cell_type": "markdown",
      "metadata": {
        "id": "Ay0HFZByus9k"
      },
      "source": [
        "<font color='blue'><font size = 2 >6. Remove links</font>"
      ]
    },
    {
      "cell_type": "code",
      "execution_count": null,
      "metadata": {
        "id": "_zf_PuWruZ4P",
        "colab": {
          "base_uri": "https://localhost:8080/"
        },
        "outputId": "67224dd5-6fb9-4eed-da7d-0878d2d4c8dc"
      },
      "outputs": [
        {
          "output_type": "execute_result",
          "data": {
            "text/plain": [
              "957071                                                                                                  talking to yourself again eh? \n",
              "970199     omg good afternoon all i can't believe i missed church again lord plz forgive me forgive for missing the word on today lol \n",
              "1471597                      haha! i just picked up my  tickets from tmaster, yup, bought them a month ago and never went to get them \n",
              "1194741                                                                              haha, owwn tom! was beautiful in faustã£o today! \n",
              "262795                                                                                          final on sunday? wtf?  also poor subo \n",
              "Name: results, dtype: object"
            ]
          },
          "metadata": {},
          "execution_count": 208
        }
      ],
      "source": [
        "def cleaning_lnk(lnk):\n",
        "    lnk_pattern = re.compile(r'http\\S+|www.\\S+|<.*?>')\n",
        "    return lnk_pattern.sub(r'', lnk) \n",
        "data['results'] = data['results'].apply(lambda x: cleaning_lnk(x))\n",
        "data['results'].tail()"
      ]
    },
    {
      "cell_type": "markdown",
      "metadata": {
        "id": "gZ8KPEE9SkFs"
      },
      "source": [
        "# Visualization"
      ]
    },
    {
      "cell_type": "markdown",
      "metadata": {
        "id": "cM2kBiS2As8E"
      },
      "source": [
        "<font color='blue'><font size = 2 >Visualizing the dependency</font>"
      ]
    },
    {
      "cell_type": "code",
      "execution_count": null,
      "metadata": {
        "id": "EI0n4-6OioAW",
        "colab": {
          "base_uri": "https://localhost:8080/",
          "height": 1000
        },
        "outputId": "23984e83-09f9-44ac-a65c-85e3a290a878"
      },
      "outputs": [
        {
          "output_type": "display_data",
          "data": {
            "text/plain": [
              "<IPython.core.display.HTML object>"
            ],
            "text/html": [
              "<span class=\"tex2jax_ignore\"><svg xmlns=\"http://www.w3.org/2000/svg\" xmlns:xlink=\"http://www.w3.org/1999/xlink\" xml:lang=\"en\" id=\"2b781e907b29436db991bb02046a315d-0\" class=\"displacy\" width=\"1450\" height=\"337.0\" direction=\"ltr\" style=\"max-width: none; height: 337.0px; color: #30c8b6; background: #193380; font-family: Arial; direction: ltr\">\n",
              "<text class=\"displacy-token\" fill=\"currentColor\" text-anchor=\"middle\" y=\"247.0\">\n",
              "    <tspan class=\"displacy-word\" fill=\"currentColor\" x=\"50\">once</tspan>\n",
              "    <tspan class=\"displacy-tag\" dy=\"2em\" fill=\"currentColor\" x=\"50\">ADV</tspan>\n",
              "</text>\n",
              "\n",
              "<text class=\"displacy-token\" fill=\"currentColor\" text-anchor=\"middle\" y=\"247.0\">\n",
              "    <tspan class=\"displacy-word\" fill=\"currentColor\" x=\"150\">again</tspan>\n",
              "    <tspan class=\"displacy-tag\" dy=\"2em\" fill=\"currentColor\" x=\"150\">ADV</tspan>\n",
              "</text>\n",
              "\n",
              "<text class=\"displacy-token\" fill=\"currentColor\" text-anchor=\"middle\" y=\"247.0\">\n",
              "    <tspan class=\"displacy-word\" fill=\"currentColor\" x=\"250\">i</tspan>\n",
              "    <tspan class=\"displacy-tag\" dy=\"2em\" fill=\"currentColor\" x=\"250\">PRON</tspan>\n",
              "</text>\n",
              "\n",
              "<text class=\"displacy-token\" fill=\"currentColor\" text-anchor=\"middle\" y=\"247.0\">\n",
              "    <tspan class=\"displacy-word\" fill=\"currentColor\" x=\"350\">'m</tspan>\n",
              "    <tspan class=\"displacy-tag\" dy=\"2em\" fill=\"currentColor\" x=\"350\">AUX</tspan>\n",
              "</text>\n",
              "\n",
              "<text class=\"displacy-token\" fill=\"currentColor\" text-anchor=\"middle\" y=\"247.0\">\n",
              "    <tspan class=\"displacy-word\" fill=\"currentColor\" x=\"450\">sitting</tspan>\n",
              "    <tspan class=\"displacy-tag\" dy=\"2em\" fill=\"currentColor\" x=\"450\">VERB</tspan>\n",
              "</text>\n",
              "\n",
              "<text class=\"displacy-token\" fill=\"currentColor\" text-anchor=\"middle\" y=\"247.0\">\n",
              "    <tspan class=\"displacy-word\" fill=\"currentColor\" x=\"550\">by</tspan>\n",
              "    <tspan class=\"displacy-tag\" dy=\"2em\" fill=\"currentColor\" x=\"550\">ADP</tspan>\n",
              "</text>\n",
              "\n",
              "<text class=\"displacy-token\" fill=\"currentColor\" text-anchor=\"middle\" y=\"247.0\">\n",
              "    <tspan class=\"displacy-word\" fill=\"currentColor\" x=\"650\">myself</tspan>\n",
              "    <tspan class=\"displacy-tag\" dy=\"2em\" fill=\"currentColor\" x=\"650\">PRON</tspan>\n",
              "</text>\n",
              "\n",
              "<text class=\"displacy-token\" fill=\"currentColor\" text-anchor=\"middle\" y=\"247.0\">\n",
              "    <tspan class=\"displacy-word\" fill=\"currentColor\" x=\"750\">outside</tspan>\n",
              "    <tspan class=\"displacy-tag\" dy=\"2em\" fill=\"currentColor\" x=\"750\">ADV</tspan>\n",
              "</text>\n",
              "\n",
              "<text class=\"displacy-token\" fill=\"currentColor\" text-anchor=\"middle\" y=\"247.0\">\n",
              "    <tspan class=\"displacy-word\" fill=\"currentColor\" x=\"850\">in</tspan>\n",
              "    <tspan class=\"displacy-tag\" dy=\"2em\" fill=\"currentColor\" x=\"850\">ADP</tspan>\n",
              "</text>\n",
              "\n",
              "<text class=\"displacy-token\" fill=\"currentColor\" text-anchor=\"middle\" y=\"247.0\">\n",
              "    <tspan class=\"displacy-word\" fill=\"currentColor\" x=\"950\">the</tspan>\n",
              "    <tspan class=\"displacy-tag\" dy=\"2em\" fill=\"currentColor\" x=\"950\">DET</tspan>\n",
              "</text>\n",
              "\n",
              "<text class=\"displacy-token\" fill=\"currentColor\" text-anchor=\"middle\" y=\"247.0\">\n",
              "    <tspan class=\"displacy-word\" fill=\"currentColor\" x=\"1050\">court</tspan>\n",
              "    <tspan class=\"displacy-tag\" dy=\"2em\" fill=\"currentColor\" x=\"1050\">NOUN</tspan>\n",
              "</text>\n",
              "\n",
              "<text class=\"displacy-token\" fill=\"currentColor\" text-anchor=\"middle\" y=\"247.0\">\n",
              "    <tspan class=\"displacy-word\" fill=\"currentColor\" x=\"1150\">yard</tspan>\n",
              "    <tspan class=\"displacy-tag\" dy=\"2em\" fill=\"currentColor\" x=\"1150\">NOUN</tspan>\n",
              "</text>\n",
              "\n",
              "<text class=\"displacy-token\" fill=\"currentColor\" text-anchor=\"middle\" y=\"247.0\">\n",
              "    <tspan class=\"displacy-word\" fill=\"currentColor\" x=\"1250\">at</tspan>\n",
              "    <tspan class=\"displacy-tag\" dy=\"2em\" fill=\"currentColor\" x=\"1250\">ADP</tspan>\n",
              "</text>\n",
              "\n",
              "<text class=\"displacy-token\" fill=\"currentColor\" text-anchor=\"middle\" y=\"247.0\">\n",
              "    <tspan class=\"displacy-word\" fill=\"currentColor\" x=\"1350\">school</tspan>\n",
              "    <tspan class=\"displacy-tag\" dy=\"2em\" fill=\"currentColor\" x=\"1350\">NOUN</tspan>\n",
              "</text>\n",
              "\n",
              "<g class=\"displacy-arrow\">\n",
              "    <path class=\"displacy-arc\" id=\"arrow-2b781e907b29436db991bb02046a315d-0-0\" stroke-width=\"2px\" d=\"M70,202.0 C70,152.0 135.0,152.0 135.0,202.0\" fill=\"none\" stroke=\"currentColor\"/>\n",
              "    <text dy=\"1.25em\" style=\"font-size: 0.8em; letter-spacing: 1px\">\n",
              "        <textPath xlink:href=\"#arrow-2b781e907b29436db991bb02046a315d-0-0\" class=\"displacy-label\" startOffset=\"50%\" side=\"left\" fill=\"currentColor\" text-anchor=\"middle\">advmod</textPath>\n",
              "    </text>\n",
              "    <path class=\"displacy-arrowhead\" d=\"M70,204.0 L62,192.0 78,192.0\" fill=\"currentColor\"/>\n",
              "</g>\n",
              "\n",
              "<g class=\"displacy-arrow\">\n",
              "    <path class=\"displacy-arc\" id=\"arrow-2b781e907b29436db991bb02046a315d-0-1\" stroke-width=\"2px\" d=\"M170,202.0 C170,52.0 445.0,52.0 445.0,202.0\" fill=\"none\" stroke=\"currentColor\"/>\n",
              "    <text dy=\"1.25em\" style=\"font-size: 0.8em; letter-spacing: 1px\">\n",
              "        <textPath xlink:href=\"#arrow-2b781e907b29436db991bb02046a315d-0-1\" class=\"displacy-label\" startOffset=\"50%\" side=\"left\" fill=\"currentColor\" text-anchor=\"middle\">advmod</textPath>\n",
              "    </text>\n",
              "    <path class=\"displacy-arrowhead\" d=\"M170,204.0 L162,192.0 178,192.0\" fill=\"currentColor\"/>\n",
              "</g>\n",
              "\n",
              "<g class=\"displacy-arrow\">\n",
              "    <path class=\"displacy-arc\" id=\"arrow-2b781e907b29436db991bb02046a315d-0-2\" stroke-width=\"2px\" d=\"M270,202.0 C270,102.0 440.0,102.0 440.0,202.0\" fill=\"none\" stroke=\"currentColor\"/>\n",
              "    <text dy=\"1.25em\" style=\"font-size: 0.8em; letter-spacing: 1px\">\n",
              "        <textPath xlink:href=\"#arrow-2b781e907b29436db991bb02046a315d-0-2\" class=\"displacy-label\" startOffset=\"50%\" side=\"left\" fill=\"currentColor\" text-anchor=\"middle\">nsubj</textPath>\n",
              "    </text>\n",
              "    <path class=\"displacy-arrowhead\" d=\"M270,204.0 L262,192.0 278,192.0\" fill=\"currentColor\"/>\n",
              "</g>\n",
              "\n",
              "<g class=\"displacy-arrow\">\n",
              "    <path class=\"displacy-arc\" id=\"arrow-2b781e907b29436db991bb02046a315d-0-3\" stroke-width=\"2px\" d=\"M370,202.0 C370,152.0 435.0,152.0 435.0,202.0\" fill=\"none\" stroke=\"currentColor\"/>\n",
              "    <text dy=\"1.25em\" style=\"font-size: 0.8em; letter-spacing: 1px\">\n",
              "        <textPath xlink:href=\"#arrow-2b781e907b29436db991bb02046a315d-0-3\" class=\"displacy-label\" startOffset=\"50%\" side=\"left\" fill=\"currentColor\" text-anchor=\"middle\">aux</textPath>\n",
              "    </text>\n",
              "    <path class=\"displacy-arrowhead\" d=\"M370,204.0 L362,192.0 378,192.0\" fill=\"currentColor\"/>\n",
              "</g>\n",
              "\n",
              "<g class=\"displacy-arrow\">\n",
              "    <path class=\"displacy-arc\" id=\"arrow-2b781e907b29436db991bb02046a315d-0-4\" stroke-width=\"2px\" d=\"M470,202.0 C470,152.0 535.0,152.0 535.0,202.0\" fill=\"none\" stroke=\"currentColor\"/>\n",
              "    <text dy=\"1.25em\" style=\"font-size: 0.8em; letter-spacing: 1px\">\n",
              "        <textPath xlink:href=\"#arrow-2b781e907b29436db991bb02046a315d-0-4\" class=\"displacy-label\" startOffset=\"50%\" side=\"left\" fill=\"currentColor\" text-anchor=\"middle\">prep</textPath>\n",
              "    </text>\n",
              "    <path class=\"displacy-arrowhead\" d=\"M535.0,204.0 L543.0,192.0 527.0,192.0\" fill=\"currentColor\"/>\n",
              "</g>\n",
              "\n",
              "<g class=\"displacy-arrow\">\n",
              "    <path class=\"displacy-arc\" id=\"arrow-2b781e907b29436db991bb02046a315d-0-5\" stroke-width=\"2px\" d=\"M570,202.0 C570,152.0 635.0,152.0 635.0,202.0\" fill=\"none\" stroke=\"currentColor\"/>\n",
              "    <text dy=\"1.25em\" style=\"font-size: 0.8em; letter-spacing: 1px\">\n",
              "        <textPath xlink:href=\"#arrow-2b781e907b29436db991bb02046a315d-0-5\" class=\"displacy-label\" startOffset=\"50%\" side=\"left\" fill=\"currentColor\" text-anchor=\"middle\">pobj</textPath>\n",
              "    </text>\n",
              "    <path class=\"displacy-arrowhead\" d=\"M635.0,204.0 L643.0,192.0 627.0,192.0\" fill=\"currentColor\"/>\n",
              "</g>\n",
              "\n",
              "<g class=\"displacy-arrow\">\n",
              "    <path class=\"displacy-arc\" id=\"arrow-2b781e907b29436db991bb02046a315d-0-6\" stroke-width=\"2px\" d=\"M470,202.0 C470,102.0 740.0,102.0 740.0,202.0\" fill=\"none\" stroke=\"currentColor\"/>\n",
              "    <text dy=\"1.25em\" style=\"font-size: 0.8em; letter-spacing: 1px\">\n",
              "        <textPath xlink:href=\"#arrow-2b781e907b29436db991bb02046a315d-0-6\" class=\"displacy-label\" startOffset=\"50%\" side=\"left\" fill=\"currentColor\" text-anchor=\"middle\">advmod</textPath>\n",
              "    </text>\n",
              "    <path class=\"displacy-arrowhead\" d=\"M740.0,204.0 L748.0,192.0 732.0,192.0\" fill=\"currentColor\"/>\n",
              "</g>\n",
              "\n",
              "<g class=\"displacy-arrow\">\n",
              "    <path class=\"displacy-arc\" id=\"arrow-2b781e907b29436db991bb02046a315d-0-7\" stroke-width=\"2px\" d=\"M470,202.0 C470,52.0 845.0,52.0 845.0,202.0\" fill=\"none\" stroke=\"currentColor\"/>\n",
              "    <text dy=\"1.25em\" style=\"font-size: 0.8em; letter-spacing: 1px\">\n",
              "        <textPath xlink:href=\"#arrow-2b781e907b29436db991bb02046a315d-0-7\" class=\"displacy-label\" startOffset=\"50%\" side=\"left\" fill=\"currentColor\" text-anchor=\"middle\">prep</textPath>\n",
              "    </text>\n",
              "    <path class=\"displacy-arrowhead\" d=\"M845.0,204.0 L853.0,192.0 837.0,192.0\" fill=\"currentColor\"/>\n",
              "</g>\n",
              "\n",
              "<g class=\"displacy-arrow\">\n",
              "    <path class=\"displacy-arc\" id=\"arrow-2b781e907b29436db991bb02046a315d-0-8\" stroke-width=\"2px\" d=\"M970,202.0 C970,102.0 1140.0,102.0 1140.0,202.0\" fill=\"none\" stroke=\"currentColor\"/>\n",
              "    <text dy=\"1.25em\" style=\"font-size: 0.8em; letter-spacing: 1px\">\n",
              "        <textPath xlink:href=\"#arrow-2b781e907b29436db991bb02046a315d-0-8\" class=\"displacy-label\" startOffset=\"50%\" side=\"left\" fill=\"currentColor\" text-anchor=\"middle\">det</textPath>\n",
              "    </text>\n",
              "    <path class=\"displacy-arrowhead\" d=\"M970,204.0 L962,192.0 978,192.0\" fill=\"currentColor\"/>\n",
              "</g>\n",
              "\n",
              "<g class=\"displacy-arrow\">\n",
              "    <path class=\"displacy-arc\" id=\"arrow-2b781e907b29436db991bb02046a315d-0-9\" stroke-width=\"2px\" d=\"M1070,202.0 C1070,152.0 1135.0,152.0 1135.0,202.0\" fill=\"none\" stroke=\"currentColor\"/>\n",
              "    <text dy=\"1.25em\" style=\"font-size: 0.8em; letter-spacing: 1px\">\n",
              "        <textPath xlink:href=\"#arrow-2b781e907b29436db991bb02046a315d-0-9\" class=\"displacy-label\" startOffset=\"50%\" side=\"left\" fill=\"currentColor\" text-anchor=\"middle\">compound</textPath>\n",
              "    </text>\n",
              "    <path class=\"displacy-arrowhead\" d=\"M1070,204.0 L1062,192.0 1078,192.0\" fill=\"currentColor\"/>\n",
              "</g>\n",
              "\n",
              "<g class=\"displacy-arrow\">\n",
              "    <path class=\"displacy-arc\" id=\"arrow-2b781e907b29436db991bb02046a315d-0-10\" stroke-width=\"2px\" d=\"M870,202.0 C870,52.0 1145.0,52.0 1145.0,202.0\" fill=\"none\" stroke=\"currentColor\"/>\n",
              "    <text dy=\"1.25em\" style=\"font-size: 0.8em; letter-spacing: 1px\">\n",
              "        <textPath xlink:href=\"#arrow-2b781e907b29436db991bb02046a315d-0-10\" class=\"displacy-label\" startOffset=\"50%\" side=\"left\" fill=\"currentColor\" text-anchor=\"middle\">pobj</textPath>\n",
              "    </text>\n",
              "    <path class=\"displacy-arrowhead\" d=\"M1145.0,204.0 L1153.0,192.0 1137.0,192.0\" fill=\"currentColor\"/>\n",
              "</g>\n",
              "\n",
              "<g class=\"displacy-arrow\">\n",
              "    <path class=\"displacy-arc\" id=\"arrow-2b781e907b29436db991bb02046a315d-0-11\" stroke-width=\"2px\" d=\"M470,202.0 C470,2.0 1250.0,2.0 1250.0,202.0\" fill=\"none\" stroke=\"currentColor\"/>\n",
              "    <text dy=\"1.25em\" style=\"font-size: 0.8em; letter-spacing: 1px\">\n",
              "        <textPath xlink:href=\"#arrow-2b781e907b29436db991bb02046a315d-0-11\" class=\"displacy-label\" startOffset=\"50%\" side=\"left\" fill=\"currentColor\" text-anchor=\"middle\">prep</textPath>\n",
              "    </text>\n",
              "    <path class=\"displacy-arrowhead\" d=\"M1250.0,204.0 L1258.0,192.0 1242.0,192.0\" fill=\"currentColor\"/>\n",
              "</g>\n",
              "\n",
              "<g class=\"displacy-arrow\">\n",
              "    <path class=\"displacy-arc\" id=\"arrow-2b781e907b29436db991bb02046a315d-0-12\" stroke-width=\"2px\" d=\"M1270,202.0 C1270,152.0 1335.0,152.0 1335.0,202.0\" fill=\"none\" stroke=\"currentColor\"/>\n",
              "    <text dy=\"1.25em\" style=\"font-size: 0.8em; letter-spacing: 1px\">\n",
              "        <textPath xlink:href=\"#arrow-2b781e907b29436db991bb02046a315d-0-12\" class=\"displacy-label\" startOffset=\"50%\" side=\"left\" fill=\"currentColor\" text-anchor=\"middle\">pobj</textPath>\n",
              "    </text>\n",
              "    <path class=\"displacy-arrowhead\" d=\"M1335.0,204.0 L1343.0,192.0 1327.0,192.0\" fill=\"currentColor\"/>\n",
              "</g>\n",
              "</svg>\n",
              "\n",
              "<svg xmlns=\"http://www.w3.org/2000/svg\" xmlns:xlink=\"http://www.w3.org/1999/xlink\" xml:lang=\"en\" id=\"2b781e907b29436db991bb02046a315d-1\" class=\"displacy\" width=\"1750\" height=\"337.0\" direction=\"ltr\" style=\"max-width: none; height: 337.0px; color: #30c8b6; background: #193380; font-family: Arial; direction: ltr\">\n",
              "<text class=\"displacy-token\" fill=\"currentColor\" text-anchor=\"middle\" y=\"247.0\">\n",
              "    <tspan class=\"displacy-word\" fill=\"currentColor\" x=\"50\">can</tspan>\n",
              "    <tspan class=\"displacy-tag\" dy=\"2em\" fill=\"currentColor\" x=\"50\">AUX</tspan>\n",
              "</text>\n",
              "\n",
              "<text class=\"displacy-token\" fill=\"currentColor\" text-anchor=\"middle\" y=\"247.0\">\n",
              "    <tspan class=\"displacy-word\" fill=\"currentColor\" x=\"150\">totally</tspan>\n",
              "    <tspan class=\"displacy-tag\" dy=\"2em\" fill=\"currentColor\" x=\"150\">ADV</tspan>\n",
              "</text>\n",
              "\n",
              "<text class=\"displacy-token\" fill=\"currentColor\" text-anchor=\"middle\" y=\"247.0\">\n",
              "    <tspan class=\"displacy-word\" fill=\"currentColor\" x=\"250\">finally</tspan>\n",
              "    <tspan class=\"displacy-tag\" dy=\"2em\" fill=\"currentColor\" x=\"250\">ADV</tspan>\n",
              "</text>\n",
              "\n",
              "<text class=\"displacy-token\" fill=\"currentColor\" text-anchor=\"middle\" y=\"247.0\">\n",
              "    <tspan class=\"displacy-word\" fill=\"currentColor\" x=\"350\">afford</tspan>\n",
              "    <tspan class=\"displacy-tag\" dy=\"2em\" fill=\"currentColor\" x=\"350\">VERB</tspan>\n",
              "</text>\n",
              "\n",
              "<text class=\"displacy-token\" fill=\"currentColor\" text-anchor=\"middle\" y=\"247.0\">\n",
              "    <tspan class=\"displacy-word\" fill=\"currentColor\" x=\"450\">a</tspan>\n",
              "    <tspan class=\"displacy-tag\" dy=\"2em\" fill=\"currentColor\" x=\"450\">DET</tspan>\n",
              "</text>\n",
              "\n",
              "<text class=\"displacy-token\" fill=\"currentColor\" text-anchor=\"middle\" y=\"247.0\">\n",
              "    <tspan class=\"displacy-word\" fill=\"currentColor\" x=\"550\">dining</tspan>\n",
              "    <tspan class=\"displacy-tag\" dy=\"2em\" fill=\"currentColor\" x=\"550\">NOUN</tspan>\n",
              "</text>\n",
              "\n",
              "<text class=\"displacy-token\" fill=\"currentColor\" text-anchor=\"middle\" y=\"247.0\">\n",
              "    <tspan class=\"displacy-word\" fill=\"currentColor\" x=\"650\">room</tspan>\n",
              "    <tspan class=\"displacy-tag\" dy=\"2em\" fill=\"currentColor\" x=\"650\">NOUN</tspan>\n",
              "</text>\n",
              "\n",
              "<text class=\"displacy-token\" fill=\"currentColor\" text-anchor=\"middle\" y=\"247.0\">\n",
              "    <tspan class=\"displacy-word\" fill=\"currentColor\" x=\"750\">table!!</tspan>\n",
              "    <tspan class=\"displacy-tag\" dy=\"2em\" fill=\"currentColor\" x=\"750\">NOUN</tspan>\n",
              "</text>\n",
              "\n",
              "<text class=\"displacy-token\" fill=\"currentColor\" text-anchor=\"middle\" y=\"247.0\">\n",
              "    <tspan class=\"displacy-word\" fill=\"currentColor\" x=\"850\">perhaps</tspan>\n",
              "    <tspan class=\"displacy-tag\" dy=\"2em\" fill=\"currentColor\" x=\"850\">ADV</tspan>\n",
              "</text>\n",
              "\n",
              "<text class=\"displacy-token\" fill=\"currentColor\" text-anchor=\"middle\" y=\"247.0\">\n",
              "    <tspan class=\"displacy-word\" fill=\"currentColor\" x=\"950\">this</tspan>\n",
              "    <tspan class=\"displacy-tag\" dy=\"2em\" fill=\"currentColor\" x=\"950\">PRON</tspan>\n",
              "</text>\n",
              "\n",
              "<text class=\"displacy-token\" fill=\"currentColor\" text-anchor=\"middle\" y=\"247.0\">\n",
              "    <tspan class=\"displacy-word\" fill=\"currentColor\" x=\"1050\">may</tspan>\n",
              "    <tspan class=\"displacy-tag\" dy=\"2em\" fill=\"currentColor\" x=\"1050\">AUX</tspan>\n",
              "</text>\n",
              "\n",
              "<text class=\"displacy-token\" fill=\"currentColor\" text-anchor=\"middle\" y=\"247.0\">\n",
              "    <tspan class=\"displacy-word\" fill=\"currentColor\" x=\"1150\">be</tspan>\n",
              "    <tspan class=\"displacy-tag\" dy=\"2em\" fill=\"currentColor\" x=\"1150\">AUX</tspan>\n",
              "</text>\n",
              "\n",
              "<text class=\"displacy-token\" fill=\"currentColor\" text-anchor=\"middle\" y=\"247.0\">\n",
              "    <tspan class=\"displacy-word\" fill=\"currentColor\" x=\"1250\">accomplished</tspan>\n",
              "    <tspan class=\"displacy-tag\" dy=\"2em\" fill=\"currentColor\" x=\"1250\">VERB</tspan>\n",
              "</text>\n",
              "\n",
              "<text class=\"displacy-token\" fill=\"currentColor\" text-anchor=\"middle\" y=\"247.0\">\n",
              "    <tspan class=\"displacy-word\" fill=\"currentColor\" x=\"1350\">on</tspan>\n",
              "    <tspan class=\"displacy-tag\" dy=\"2em\" fill=\"currentColor\" x=\"1350\">ADP</tspan>\n",
              "</text>\n",
              "\n",
              "<text class=\"displacy-token\" fill=\"currentColor\" text-anchor=\"middle\" y=\"247.0\">\n",
              "    <tspan class=\"displacy-word\" fill=\"currentColor\" x=\"1450\">my</tspan>\n",
              "    <tspan class=\"displacy-tag\" dy=\"2em\" fill=\"currentColor\" x=\"1450\">PRON</tspan>\n",
              "</text>\n",
              "\n",
              "<text class=\"displacy-token\" fill=\"currentColor\" text-anchor=\"middle\" y=\"247.0\">\n",
              "    <tspan class=\"displacy-word\" fill=\"currentColor\" x=\"1550\">sunday</tspan>\n",
              "    <tspan class=\"displacy-tag\" dy=\"2em\" fill=\"currentColor\" x=\"1550\">NOUN</tspan>\n",
              "</text>\n",
              "\n",
              "<text class=\"displacy-token\" fill=\"currentColor\" text-anchor=\"middle\" y=\"247.0\">\n",
              "    <tspan class=\"displacy-word\" fill=\"currentColor\" x=\"1650\">off</tspan>\n",
              "    <tspan class=\"displacy-tag\" dy=\"2em\" fill=\"currentColor\" x=\"1650\">ADV</tspan>\n",
              "</text>\n",
              "\n",
              "<g class=\"displacy-arrow\">\n",
              "    <path class=\"displacy-arc\" id=\"arrow-2b781e907b29436db991bb02046a315d-1-0\" stroke-width=\"2px\" d=\"M70,202.0 C70,52.0 345.0,52.0 345.0,202.0\" fill=\"none\" stroke=\"currentColor\"/>\n",
              "    <text dy=\"1.25em\" style=\"font-size: 0.8em; letter-spacing: 1px\">\n",
              "        <textPath xlink:href=\"#arrow-2b781e907b29436db991bb02046a315d-1-0\" class=\"displacy-label\" startOffset=\"50%\" side=\"left\" fill=\"currentColor\" text-anchor=\"middle\">aux</textPath>\n",
              "    </text>\n",
              "    <path class=\"displacy-arrowhead\" d=\"M70,204.0 L62,192.0 78,192.0\" fill=\"currentColor\"/>\n",
              "</g>\n",
              "\n",
              "<g class=\"displacy-arrow\">\n",
              "    <path class=\"displacy-arc\" id=\"arrow-2b781e907b29436db991bb02046a315d-1-1\" stroke-width=\"2px\" d=\"M170,202.0 C170,102.0 340.0,102.0 340.0,202.0\" fill=\"none\" stroke=\"currentColor\"/>\n",
              "    <text dy=\"1.25em\" style=\"font-size: 0.8em; letter-spacing: 1px\">\n",
              "        <textPath xlink:href=\"#arrow-2b781e907b29436db991bb02046a315d-1-1\" class=\"displacy-label\" startOffset=\"50%\" side=\"left\" fill=\"currentColor\" text-anchor=\"middle\">advmod</textPath>\n",
              "    </text>\n",
              "    <path class=\"displacy-arrowhead\" d=\"M170,204.0 L162,192.0 178,192.0\" fill=\"currentColor\"/>\n",
              "</g>\n",
              "\n",
              "<g class=\"displacy-arrow\">\n",
              "    <path class=\"displacy-arc\" id=\"arrow-2b781e907b29436db991bb02046a315d-1-2\" stroke-width=\"2px\" d=\"M270,202.0 C270,152.0 335.0,152.0 335.0,202.0\" fill=\"none\" stroke=\"currentColor\"/>\n",
              "    <text dy=\"1.25em\" style=\"font-size: 0.8em; letter-spacing: 1px\">\n",
              "        <textPath xlink:href=\"#arrow-2b781e907b29436db991bb02046a315d-1-2\" class=\"displacy-label\" startOffset=\"50%\" side=\"left\" fill=\"currentColor\" text-anchor=\"middle\">advmod</textPath>\n",
              "    </text>\n",
              "    <path class=\"displacy-arrowhead\" d=\"M270,204.0 L262,192.0 278,192.0\" fill=\"currentColor\"/>\n",
              "</g>\n",
              "\n",
              "<g class=\"displacy-arrow\">\n",
              "    <path class=\"displacy-arc\" id=\"arrow-2b781e907b29436db991bb02046a315d-1-3\" stroke-width=\"2px\" d=\"M470,202.0 C470,102.0 740.0,102.0 740.0,202.0\" fill=\"none\" stroke=\"currentColor\"/>\n",
              "    <text dy=\"1.25em\" style=\"font-size: 0.8em; letter-spacing: 1px\">\n",
              "        <textPath xlink:href=\"#arrow-2b781e907b29436db991bb02046a315d-1-3\" class=\"displacy-label\" startOffset=\"50%\" side=\"left\" fill=\"currentColor\" text-anchor=\"middle\">det</textPath>\n",
              "    </text>\n",
              "    <path class=\"displacy-arrowhead\" d=\"M470,204.0 L462,192.0 478,192.0\" fill=\"currentColor\"/>\n",
              "</g>\n",
              "\n",
              "<g class=\"displacy-arrow\">\n",
              "    <path class=\"displacy-arc\" id=\"arrow-2b781e907b29436db991bb02046a315d-1-4\" stroke-width=\"2px\" d=\"M570,202.0 C570,152.0 635.0,152.0 635.0,202.0\" fill=\"none\" stroke=\"currentColor\"/>\n",
              "    <text dy=\"1.25em\" style=\"font-size: 0.8em; letter-spacing: 1px\">\n",
              "        <textPath xlink:href=\"#arrow-2b781e907b29436db991bb02046a315d-1-4\" class=\"displacy-label\" startOffset=\"50%\" side=\"left\" fill=\"currentColor\" text-anchor=\"middle\">compound</textPath>\n",
              "    </text>\n",
              "    <path class=\"displacy-arrowhead\" d=\"M570,204.0 L562,192.0 578,192.0\" fill=\"currentColor\"/>\n",
              "</g>\n",
              "\n",
              "<g class=\"displacy-arrow\">\n",
              "    <path class=\"displacy-arc\" id=\"arrow-2b781e907b29436db991bb02046a315d-1-5\" stroke-width=\"2px\" d=\"M670,202.0 C670,152.0 735.0,152.0 735.0,202.0\" fill=\"none\" stroke=\"currentColor\"/>\n",
              "    <text dy=\"1.25em\" style=\"font-size: 0.8em; letter-spacing: 1px\">\n",
              "        <textPath xlink:href=\"#arrow-2b781e907b29436db991bb02046a315d-1-5\" class=\"displacy-label\" startOffset=\"50%\" side=\"left\" fill=\"currentColor\" text-anchor=\"middle\">compound</textPath>\n",
              "    </text>\n",
              "    <path class=\"displacy-arrowhead\" d=\"M670,204.0 L662,192.0 678,192.0\" fill=\"currentColor\"/>\n",
              "</g>\n",
              "\n",
              "<g class=\"displacy-arrow\">\n",
              "    <path class=\"displacy-arc\" id=\"arrow-2b781e907b29436db991bb02046a315d-1-6\" stroke-width=\"2px\" d=\"M370,202.0 C370,52.0 745.0,52.0 745.0,202.0\" fill=\"none\" stroke=\"currentColor\"/>\n",
              "    <text dy=\"1.25em\" style=\"font-size: 0.8em; letter-spacing: 1px\">\n",
              "        <textPath xlink:href=\"#arrow-2b781e907b29436db991bb02046a315d-1-6\" class=\"displacy-label\" startOffset=\"50%\" side=\"left\" fill=\"currentColor\" text-anchor=\"middle\">dobj</textPath>\n",
              "    </text>\n",
              "    <path class=\"displacy-arrowhead\" d=\"M745.0,204.0 L753.0,192.0 737.0,192.0\" fill=\"currentColor\"/>\n",
              "</g>\n",
              "\n",
              "<g class=\"displacy-arrow\">\n",
              "    <path class=\"displacy-arc\" id=\"arrow-2b781e907b29436db991bb02046a315d-1-7\" stroke-width=\"2px\" d=\"M870,202.0 C870,2.0 1250.0,2.0 1250.0,202.0\" fill=\"none\" stroke=\"currentColor\"/>\n",
              "    <text dy=\"1.25em\" style=\"font-size: 0.8em; letter-spacing: 1px\">\n",
              "        <textPath xlink:href=\"#arrow-2b781e907b29436db991bb02046a315d-1-7\" class=\"displacy-label\" startOffset=\"50%\" side=\"left\" fill=\"currentColor\" text-anchor=\"middle\">advmod</textPath>\n",
              "    </text>\n",
              "    <path class=\"displacy-arrowhead\" d=\"M870,204.0 L862,192.0 878,192.0\" fill=\"currentColor\"/>\n",
              "</g>\n",
              "\n",
              "<g class=\"displacy-arrow\">\n",
              "    <path class=\"displacy-arc\" id=\"arrow-2b781e907b29436db991bb02046a315d-1-8\" stroke-width=\"2px\" d=\"M970,202.0 C970,52.0 1245.0,52.0 1245.0,202.0\" fill=\"none\" stroke=\"currentColor\"/>\n",
              "    <text dy=\"1.25em\" style=\"font-size: 0.8em; letter-spacing: 1px\">\n",
              "        <textPath xlink:href=\"#arrow-2b781e907b29436db991bb02046a315d-1-8\" class=\"displacy-label\" startOffset=\"50%\" side=\"left\" fill=\"currentColor\" text-anchor=\"middle\">nsubjpass</textPath>\n",
              "    </text>\n",
              "    <path class=\"displacy-arrowhead\" d=\"M970,204.0 L962,192.0 978,192.0\" fill=\"currentColor\"/>\n",
              "</g>\n",
              "\n",
              "<g class=\"displacy-arrow\">\n",
              "    <path class=\"displacy-arc\" id=\"arrow-2b781e907b29436db991bb02046a315d-1-9\" stroke-width=\"2px\" d=\"M1070,202.0 C1070,102.0 1240.0,102.0 1240.0,202.0\" fill=\"none\" stroke=\"currentColor\"/>\n",
              "    <text dy=\"1.25em\" style=\"font-size: 0.8em; letter-spacing: 1px\">\n",
              "        <textPath xlink:href=\"#arrow-2b781e907b29436db991bb02046a315d-1-9\" class=\"displacy-label\" startOffset=\"50%\" side=\"left\" fill=\"currentColor\" text-anchor=\"middle\">aux</textPath>\n",
              "    </text>\n",
              "    <path class=\"displacy-arrowhead\" d=\"M1070,204.0 L1062,192.0 1078,192.0\" fill=\"currentColor\"/>\n",
              "</g>\n",
              "\n",
              "<g class=\"displacy-arrow\">\n",
              "    <path class=\"displacy-arc\" id=\"arrow-2b781e907b29436db991bb02046a315d-1-10\" stroke-width=\"2px\" d=\"M1170,202.0 C1170,152.0 1235.0,152.0 1235.0,202.0\" fill=\"none\" stroke=\"currentColor\"/>\n",
              "    <text dy=\"1.25em\" style=\"font-size: 0.8em; letter-spacing: 1px\">\n",
              "        <textPath xlink:href=\"#arrow-2b781e907b29436db991bb02046a315d-1-10\" class=\"displacy-label\" startOffset=\"50%\" side=\"left\" fill=\"currentColor\" text-anchor=\"middle\">auxpass</textPath>\n",
              "    </text>\n",
              "    <path class=\"displacy-arrowhead\" d=\"M1170,204.0 L1162,192.0 1178,192.0\" fill=\"currentColor\"/>\n",
              "</g>\n",
              "\n",
              "<g class=\"displacy-arrow\">\n",
              "    <path class=\"displacy-arc\" id=\"arrow-2b781e907b29436db991bb02046a315d-1-11\" stroke-width=\"2px\" d=\"M1270,202.0 C1270,152.0 1335.0,152.0 1335.0,202.0\" fill=\"none\" stroke=\"currentColor\"/>\n",
              "    <text dy=\"1.25em\" style=\"font-size: 0.8em; letter-spacing: 1px\">\n",
              "        <textPath xlink:href=\"#arrow-2b781e907b29436db991bb02046a315d-1-11\" class=\"displacy-label\" startOffset=\"50%\" side=\"left\" fill=\"currentColor\" text-anchor=\"middle\">prep</textPath>\n",
              "    </text>\n",
              "    <path class=\"displacy-arrowhead\" d=\"M1335.0,204.0 L1343.0,192.0 1327.0,192.0\" fill=\"currentColor\"/>\n",
              "</g>\n",
              "\n",
              "<g class=\"displacy-arrow\">\n",
              "    <path class=\"displacy-arc\" id=\"arrow-2b781e907b29436db991bb02046a315d-1-12\" stroke-width=\"2px\" d=\"M1470,202.0 C1470,152.0 1535.0,152.0 1535.0,202.0\" fill=\"none\" stroke=\"currentColor\"/>\n",
              "    <text dy=\"1.25em\" style=\"font-size: 0.8em; letter-spacing: 1px\">\n",
              "        <textPath xlink:href=\"#arrow-2b781e907b29436db991bb02046a315d-1-12\" class=\"displacy-label\" startOffset=\"50%\" side=\"left\" fill=\"currentColor\" text-anchor=\"middle\">poss</textPath>\n",
              "    </text>\n",
              "    <path class=\"displacy-arrowhead\" d=\"M1470,204.0 L1462,192.0 1478,192.0\" fill=\"currentColor\"/>\n",
              "</g>\n",
              "\n",
              "<g class=\"displacy-arrow\">\n",
              "    <path class=\"displacy-arc\" id=\"arrow-2b781e907b29436db991bb02046a315d-1-13\" stroke-width=\"2px\" d=\"M1370,202.0 C1370,102.0 1540.0,102.0 1540.0,202.0\" fill=\"none\" stroke=\"currentColor\"/>\n",
              "    <text dy=\"1.25em\" style=\"font-size: 0.8em; letter-spacing: 1px\">\n",
              "        <textPath xlink:href=\"#arrow-2b781e907b29436db991bb02046a315d-1-13\" class=\"displacy-label\" startOffset=\"50%\" side=\"left\" fill=\"currentColor\" text-anchor=\"middle\">pobj</textPath>\n",
              "    </text>\n",
              "    <path class=\"displacy-arrowhead\" d=\"M1540.0,204.0 L1548.0,192.0 1532.0,192.0\" fill=\"currentColor\"/>\n",
              "</g>\n",
              "\n",
              "<g class=\"displacy-arrow\">\n",
              "    <path class=\"displacy-arc\" id=\"arrow-2b781e907b29436db991bb02046a315d-1-14\" stroke-width=\"2px\" d=\"M1270,202.0 C1270,52.0 1645.0,52.0 1645.0,202.0\" fill=\"none\" stroke=\"currentColor\"/>\n",
              "    <text dy=\"1.25em\" style=\"font-size: 0.8em; letter-spacing: 1px\">\n",
              "        <textPath xlink:href=\"#arrow-2b781e907b29436db991bb02046a315d-1-14\" class=\"displacy-label\" startOffset=\"50%\" side=\"left\" fill=\"currentColor\" text-anchor=\"middle\">advmod</textPath>\n",
              "    </text>\n",
              "    <path class=\"displacy-arrowhead\" d=\"M1645.0,204.0 L1653.0,192.0 1637.0,192.0\" fill=\"currentColor\"/>\n",
              "</g>\n",
              "</svg>\n",
              "\n",
              "<svg xmlns=\"http://www.w3.org/2000/svg\" xmlns:xlink=\"http://www.w3.org/1999/xlink\" xml:lang=\"en\" id=\"2b781e907b29436db991bb02046a315d-2\" class=\"displacy\" width=\"550\" height=\"237.0\" direction=\"ltr\" style=\"max-width: none; height: 237.0px; color: #30c8b6; background: #193380; font-family: Arial; direction: ltr\">\n",
              "<text class=\"displacy-token\" fill=\"currentColor\" text-anchor=\"middle\" y=\"147.0\">\n",
              "    <tspan class=\"displacy-word\" fill=\"currentColor\" x=\"50\">my</tspan>\n",
              "    <tspan class=\"displacy-tag\" dy=\"2em\" fill=\"currentColor\" x=\"50\">PRON</tspan>\n",
              "</text>\n",
              "\n",
              "<text class=\"displacy-token\" fill=\"currentColor\" text-anchor=\"middle\" y=\"147.0\">\n",
              "    <tspan class=\"displacy-word\" fill=\"currentColor\" x=\"150\">phone</tspan>\n",
              "    <tspan class=\"displacy-tag\" dy=\"2em\" fill=\"currentColor\" x=\"150\">NOUN</tspan>\n",
              "</text>\n",
              "\n",
              "<text class=\"displacy-token\" fill=\"currentColor\" text-anchor=\"middle\" y=\"147.0\">\n",
              "    <tspan class=\"displacy-word\" fill=\"currentColor\" x=\"250\">is</tspan>\n",
              "    <tspan class=\"displacy-tag\" dy=\"2em\" fill=\"currentColor\" x=\"250\">AUX</tspan>\n",
              "</text>\n",
              "\n",
              "<text class=\"displacy-token\" fill=\"currentColor\" text-anchor=\"middle\" y=\"147.0\">\n",
              "    <tspan class=\"displacy-word\" fill=\"currentColor\" x=\"350\">being</tspan>\n",
              "    <tspan class=\"displacy-tag\" dy=\"2em\" fill=\"currentColor\" x=\"350\">AUX</tspan>\n",
              "</text>\n",
              "\n",
              "<text class=\"displacy-token\" fill=\"currentColor\" text-anchor=\"middle\" y=\"147.0\">\n",
              "    <tspan class=\"displacy-word\" fill=\"currentColor\" x=\"450\">ridiculous.</tspan>\n",
              "    <tspan class=\"displacy-tag\" dy=\"2em\" fill=\"currentColor\" x=\"450\">ADJ</tspan>\n",
              "</text>\n",
              "\n",
              "<g class=\"displacy-arrow\">\n",
              "    <path class=\"displacy-arc\" id=\"arrow-2b781e907b29436db991bb02046a315d-2-0\" stroke-width=\"2px\" d=\"M70,102.0 C70,52.0 145.0,52.0 145.0,102.0\" fill=\"none\" stroke=\"currentColor\"/>\n",
              "    <text dy=\"1.25em\" style=\"font-size: 0.8em; letter-spacing: 1px\">\n",
              "        <textPath xlink:href=\"#arrow-2b781e907b29436db991bb02046a315d-2-0\" class=\"displacy-label\" startOffset=\"50%\" side=\"left\" fill=\"currentColor\" text-anchor=\"middle\">poss</textPath>\n",
              "    </text>\n",
              "    <path class=\"displacy-arrowhead\" d=\"M70,104.0 L62,92.0 78,92.0\" fill=\"currentColor\"/>\n",
              "</g>\n",
              "\n",
              "<g class=\"displacy-arrow\">\n",
              "    <path class=\"displacy-arc\" id=\"arrow-2b781e907b29436db991bb02046a315d-2-1\" stroke-width=\"2px\" d=\"M170,102.0 C170,2.0 350.0,2.0 350.0,102.0\" fill=\"none\" stroke=\"currentColor\"/>\n",
              "    <text dy=\"1.25em\" style=\"font-size: 0.8em; letter-spacing: 1px\">\n",
              "        <textPath xlink:href=\"#arrow-2b781e907b29436db991bb02046a315d-2-1\" class=\"displacy-label\" startOffset=\"50%\" side=\"left\" fill=\"currentColor\" text-anchor=\"middle\">nsubj</textPath>\n",
              "    </text>\n",
              "    <path class=\"displacy-arrowhead\" d=\"M170,104.0 L162,92.0 178,92.0\" fill=\"currentColor\"/>\n",
              "</g>\n",
              "\n",
              "<g class=\"displacy-arrow\">\n",
              "    <path class=\"displacy-arc\" id=\"arrow-2b781e907b29436db991bb02046a315d-2-2\" stroke-width=\"2px\" d=\"M270,102.0 C270,52.0 345.0,52.0 345.0,102.0\" fill=\"none\" stroke=\"currentColor\"/>\n",
              "    <text dy=\"1.25em\" style=\"font-size: 0.8em; letter-spacing: 1px\">\n",
              "        <textPath xlink:href=\"#arrow-2b781e907b29436db991bb02046a315d-2-2\" class=\"displacy-label\" startOffset=\"50%\" side=\"left\" fill=\"currentColor\" text-anchor=\"middle\">aux</textPath>\n",
              "    </text>\n",
              "    <path class=\"displacy-arrowhead\" d=\"M270,104.0 L262,92.0 278,92.0\" fill=\"currentColor\"/>\n",
              "</g>\n",
              "\n",
              "<g class=\"displacy-arrow\">\n",
              "    <path class=\"displacy-arc\" id=\"arrow-2b781e907b29436db991bb02046a315d-2-3\" stroke-width=\"2px\" d=\"M370,102.0 C370,52.0 445.0,52.0 445.0,102.0\" fill=\"none\" stroke=\"currentColor\"/>\n",
              "    <text dy=\"1.25em\" style=\"font-size: 0.8em; letter-spacing: 1px\">\n",
              "        <textPath xlink:href=\"#arrow-2b781e907b29436db991bb02046a315d-2-3\" class=\"displacy-label\" startOffset=\"50%\" side=\"left\" fill=\"currentColor\" text-anchor=\"middle\">acomp</textPath>\n",
              "    </text>\n",
              "    <path class=\"displacy-arrowhead\" d=\"M445.0,104.0 L453.0,92.0 437.0,92.0\" fill=\"currentColor\"/>\n",
              "</g>\n",
              "</svg>\n",
              "\n",
              "<svg xmlns=\"http://www.w3.org/2000/svg\" xmlns:xlink=\"http://www.w3.org/1999/xlink\" xml:lang=\"en\" id=\"2b781e907b29436db991bb02046a315d-3\" class=\"displacy\" width=\"850\" height=\"237.0\" direction=\"ltr\" style=\"max-width: none; height: 237.0px; color: #30c8b6; background: #193380; font-family: Arial; direction: ltr\">\n",
              "<text class=\"displacy-token\" fill=\"currentColor\" text-anchor=\"middle\" y=\"147.0\">\n",
              "    <tspan class=\"displacy-word\" fill=\"currentColor\" x=\"50\">jus</tspan>\n",
              "    <tspan class=\"displacy-tag\" dy=\"2em\" fill=\"currentColor\" x=\"50\">NOUN</tspan>\n",
              "</text>\n",
              "\n",
              "<text class=\"displacy-token\" fill=\"currentColor\" text-anchor=\"middle\" y=\"147.0\">\n",
              "    <tspan class=\"displacy-word\" fill=\"currentColor\" x=\"150\">startted</tspan>\n",
              "    <tspan class=\"displacy-tag\" dy=\"2em\" fill=\"currentColor\" x=\"150\">VERB</tspan>\n",
              "</text>\n",
              "\n",
              "<text class=\"displacy-token\" fill=\"currentColor\" text-anchor=\"middle\" y=\"147.0\">\n",
              "    <tspan class=\"displacy-word\" fill=\"currentColor\" x=\"250\">here</tspan>\n",
              "    <tspan class=\"displacy-tag\" dy=\"2em\" fill=\"currentColor\" x=\"250\">ADV</tspan>\n",
              "</text>\n",
              "\n",
              "<text class=\"displacy-token\" fill=\"currentColor\" text-anchor=\"middle\" y=\"147.0\">\n",
              "    <tspan class=\"displacy-word\" fill=\"currentColor\" x=\"350\">dnt</tspan>\n",
              "    <tspan class=\"displacy-tag\" dy=\"2em\" fill=\"currentColor\" x=\"350\">INTJ</tspan>\n",
              "</text>\n",
              "\n",
              "<text class=\"displacy-token\" fill=\"currentColor\" text-anchor=\"middle\" y=\"147.0\">\n",
              "    <tspan class=\"displacy-word\" fill=\"currentColor\" x=\"450\">no</tspan>\n",
              "    <tspan class=\"displacy-tag\" dy=\"2em\" fill=\"currentColor\" x=\"450\">DET</tspan>\n",
              "</text>\n",
              "\n",
              "<text class=\"displacy-token\" fill=\"currentColor\" text-anchor=\"middle\" y=\"147.0\">\n",
              "    <tspan class=\"displacy-word\" fill=\"currentColor\" x=\"550\">wat</tspan>\n",
              "    <tspan class=\"displacy-tag\" dy=\"2em\" fill=\"currentColor\" x=\"550\">NOUN</tspan>\n",
              "</text>\n",
              "\n",
              "<text class=\"displacy-token\" fill=\"currentColor\" text-anchor=\"middle\" y=\"147.0\">\n",
              "    <tspan class=\"displacy-word\" fill=\"currentColor\" x=\"650\">to</tspan>\n",
              "    <tspan class=\"displacy-tag\" dy=\"2em\" fill=\"currentColor\" x=\"650\">PART</tspan>\n",
              "</text>\n",
              "\n",
              "<text class=\"displacy-token\" fill=\"currentColor\" text-anchor=\"middle\" y=\"147.0\">\n",
              "    <tspan class=\"displacy-word\" fill=\"currentColor\" x=\"750\">do!!</tspan>\n",
              "    <tspan class=\"displacy-tag\" dy=\"2em\" fill=\"currentColor\" x=\"750\">VERB</tspan>\n",
              "</text>\n",
              "\n",
              "<g class=\"displacy-arrow\">\n",
              "    <path class=\"displacy-arc\" id=\"arrow-2b781e907b29436db991bb02046a315d-3-0\" stroke-width=\"2px\" d=\"M70,102.0 C70,2.0 350.0,2.0 350.0,102.0\" fill=\"none\" stroke=\"currentColor\"/>\n",
              "    <text dy=\"1.25em\" style=\"font-size: 0.8em; letter-spacing: 1px\">\n",
              "        <textPath xlink:href=\"#arrow-2b781e907b29436db991bb02046a315d-3-0\" class=\"displacy-label\" startOffset=\"50%\" side=\"left\" fill=\"currentColor\" text-anchor=\"middle\">nsubj</textPath>\n",
              "    </text>\n",
              "    <path class=\"displacy-arrowhead\" d=\"M70,104.0 L62,92.0 78,92.0\" fill=\"currentColor\"/>\n",
              "</g>\n",
              "\n",
              "<g class=\"displacy-arrow\">\n",
              "    <path class=\"displacy-arc\" id=\"arrow-2b781e907b29436db991bb02046a315d-3-1\" stroke-width=\"2px\" d=\"M70,102.0 C70,52.0 145.0,52.0 145.0,102.0\" fill=\"none\" stroke=\"currentColor\"/>\n",
              "    <text dy=\"1.25em\" style=\"font-size: 0.8em; letter-spacing: 1px\">\n",
              "        <textPath xlink:href=\"#arrow-2b781e907b29436db991bb02046a315d-3-1\" class=\"displacy-label\" startOffset=\"50%\" side=\"left\" fill=\"currentColor\" text-anchor=\"middle\">acl</textPath>\n",
              "    </text>\n",
              "    <path class=\"displacy-arrowhead\" d=\"M145.0,104.0 L153.0,92.0 137.0,92.0\" fill=\"currentColor\"/>\n",
              "</g>\n",
              "\n",
              "<g class=\"displacy-arrow\">\n",
              "    <path class=\"displacy-arc\" id=\"arrow-2b781e907b29436db991bb02046a315d-3-2\" stroke-width=\"2px\" d=\"M170,102.0 C170,52.0 245.0,52.0 245.0,102.0\" fill=\"none\" stroke=\"currentColor\"/>\n",
              "    <text dy=\"1.25em\" style=\"font-size: 0.8em; letter-spacing: 1px\">\n",
              "        <textPath xlink:href=\"#arrow-2b781e907b29436db991bb02046a315d-3-2\" class=\"displacy-label\" startOffset=\"50%\" side=\"left\" fill=\"currentColor\" text-anchor=\"middle\">advmod</textPath>\n",
              "    </text>\n",
              "    <path class=\"displacy-arrowhead\" d=\"M245.0,104.0 L253.0,92.0 237.0,92.0\" fill=\"currentColor\"/>\n",
              "</g>\n",
              "\n",
              "<g class=\"displacy-arrow\">\n",
              "    <path class=\"displacy-arc\" id=\"arrow-2b781e907b29436db991bb02046a315d-3-3\" stroke-width=\"2px\" d=\"M470,102.0 C470,52.0 545.0,52.0 545.0,102.0\" fill=\"none\" stroke=\"currentColor\"/>\n",
              "    <text dy=\"1.25em\" style=\"font-size: 0.8em; letter-spacing: 1px\">\n",
              "        <textPath xlink:href=\"#arrow-2b781e907b29436db991bb02046a315d-3-3\" class=\"displacy-label\" startOffset=\"50%\" side=\"left\" fill=\"currentColor\" text-anchor=\"middle\">det</textPath>\n",
              "    </text>\n",
              "    <path class=\"displacy-arrowhead\" d=\"M470,104.0 L462,92.0 478,92.0\" fill=\"currentColor\"/>\n",
              "</g>\n",
              "\n",
              "<g class=\"displacy-arrow\">\n",
              "    <path class=\"displacy-arc\" id=\"arrow-2b781e907b29436db991bb02046a315d-3-4\" stroke-width=\"2px\" d=\"M370,102.0 C370,2.0 550.0,2.0 550.0,102.0\" fill=\"none\" stroke=\"currentColor\"/>\n",
              "    <text dy=\"1.25em\" style=\"font-size: 0.8em; letter-spacing: 1px\">\n",
              "        <textPath xlink:href=\"#arrow-2b781e907b29436db991bb02046a315d-3-4\" class=\"displacy-label\" startOffset=\"50%\" side=\"left\" fill=\"currentColor\" text-anchor=\"middle\">dobj</textPath>\n",
              "    </text>\n",
              "    <path class=\"displacy-arrowhead\" d=\"M550.0,104.0 L558.0,92.0 542.0,92.0\" fill=\"currentColor\"/>\n",
              "</g>\n",
              "\n",
              "<g class=\"displacy-arrow\">\n",
              "    <path class=\"displacy-arc\" id=\"arrow-2b781e907b29436db991bb02046a315d-3-5\" stroke-width=\"2px\" d=\"M670,102.0 C670,52.0 745.0,52.0 745.0,102.0\" fill=\"none\" stroke=\"currentColor\"/>\n",
              "    <text dy=\"1.25em\" style=\"font-size: 0.8em; letter-spacing: 1px\">\n",
              "        <textPath xlink:href=\"#arrow-2b781e907b29436db991bb02046a315d-3-5\" class=\"displacy-label\" startOffset=\"50%\" side=\"left\" fill=\"currentColor\" text-anchor=\"middle\">aux</textPath>\n",
              "    </text>\n",
              "    <path class=\"displacy-arrowhead\" d=\"M670,104.0 L662,92.0 678,92.0\" fill=\"currentColor\"/>\n",
              "</g>\n",
              "\n",
              "<g class=\"displacy-arrow\">\n",
              "    <path class=\"displacy-arc\" id=\"arrow-2b781e907b29436db991bb02046a315d-3-6\" stroke-width=\"2px\" d=\"M570,102.0 C570,2.0 750.0,2.0 750.0,102.0\" fill=\"none\" stroke=\"currentColor\"/>\n",
              "    <text dy=\"1.25em\" style=\"font-size: 0.8em; letter-spacing: 1px\">\n",
              "        <textPath xlink:href=\"#arrow-2b781e907b29436db991bb02046a315d-3-6\" class=\"displacy-label\" startOffset=\"50%\" side=\"left\" fill=\"currentColor\" text-anchor=\"middle\">relcl</textPath>\n",
              "    </text>\n",
              "    <path class=\"displacy-arrowhead\" d=\"M750.0,104.0 L758.0,92.0 742.0,92.0\" fill=\"currentColor\"/>\n",
              "</g>\n",
              "</svg>\n",
              "\n",
              "<svg xmlns=\"http://www.w3.org/2000/svg\" xmlns:xlink=\"http://www.w3.org/1999/xlink\" xml:lang=\"en\" id=\"2b781e907b29436db991bb02046a315d-4\" class=\"displacy\" width=\"1650\" height=\"287.0\" direction=\"ltr\" style=\"max-width: none; height: 287.0px; color: #30c8b6; background: #193380; font-family: Arial; direction: ltr\">\n",
              "<text class=\"displacy-token\" fill=\"currentColor\" text-anchor=\"middle\" y=\"197.0\">\n",
              "    <tspan class=\"displacy-word\" fill=\"currentColor\" x=\"50\">first</tspan>\n",
              "    <tspan class=\"displacy-tag\" dy=\"2em\" fill=\"currentColor\" x=\"50\">ADJ</tspan>\n",
              "</text>\n",
              "\n",
              "<text class=\"displacy-token\" fill=\"currentColor\" text-anchor=\"middle\" y=\"197.0\">\n",
              "    <tspan class=\"displacy-word\" fill=\"currentColor\" x=\"150\">sunday</tspan>\n",
              "    <tspan class=\"displacy-tag\" dy=\"2em\" fill=\"currentColor\" x=\"150\">PROPN</tspan>\n",
              "</text>\n",
              "\n",
              "<text class=\"displacy-token\" fill=\"currentColor\" text-anchor=\"middle\" y=\"197.0\">\n",
              "    <tspan class=\"displacy-word\" fill=\"currentColor\" x=\"250\">at</tspan>\n",
              "    <tspan class=\"displacy-tag\" dy=\"2em\" fill=\"currentColor\" x=\"250\">ADP</tspan>\n",
              "</text>\n",
              "\n",
              "<text class=\"displacy-token\" fill=\"currentColor\" text-anchor=\"middle\" y=\"197.0\">\n",
              "    <tspan class=\"displacy-word\" fill=\"currentColor\" x=\"350\">lighthouse!</tspan>\n",
              "    <tspan class=\"displacy-tag\" dy=\"2em\" fill=\"currentColor\" x=\"350\">NOUN</tspan>\n",
              "</text>\n",
              "\n",
              "<text class=\"displacy-token\" fill=\"currentColor\" text-anchor=\"middle\" y=\"197.0\">\n",
              "    <tspan class=\"displacy-word\" fill=\"currentColor\" x=\"450\">no</tspan>\n",
              "    <tspan class=\"displacy-tag\" dy=\"2em\" fill=\"currentColor\" x=\"450\">DET</tspan>\n",
              "</text>\n",
              "\n",
              "<text class=\"displacy-token\" fill=\"currentColor\" text-anchor=\"middle\" y=\"197.0\">\n",
              "    <tspan class=\"displacy-word\" fill=\"currentColor\" x=\"550\">one</tspan>\n",
              "    <tspan class=\"displacy-tag\" dy=\"2em\" fill=\"currentColor\" x=\"550\">NOUN</tspan>\n",
              "</text>\n",
              "\n",
              "<text class=\"displacy-token\" fill=\"currentColor\" text-anchor=\"middle\" y=\"197.0\">\n",
              "    <tspan class=\"displacy-word\" fill=\"currentColor\" x=\"650\">around</tspan>\n",
              "    <tspan class=\"displacy-tag\" dy=\"2em\" fill=\"currentColor\" x=\"650\">ADP</tspan>\n",
              "</text>\n",
              "\n",
              "<text class=\"displacy-token\" fill=\"currentColor\" text-anchor=\"middle\" y=\"197.0\">\n",
              "    <tspan class=\"displacy-word\" fill=\"currentColor\" x=\"750\">here</tspan>\n",
              "    <tspan class=\"displacy-tag\" dy=\"2em\" fill=\"currentColor\" x=\"750\">ADV</tspan>\n",
              "</text>\n",
              "\n",
              "<text class=\"displacy-token\" fill=\"currentColor\" text-anchor=\"middle\" y=\"197.0\">\n",
              "    <tspan class=\"displacy-word\" fill=\"currentColor\" x=\"850\">has</tspan>\n",
              "    <tspan class=\"displacy-tag\" dy=\"2em\" fill=\"currentColor\" x=\"850\">VERB</tspan>\n",
              "</text>\n",
              "\n",
              "<text class=\"displacy-token\" fill=\"currentColor\" text-anchor=\"middle\" y=\"197.0\">\n",
              "    <tspan class=\"displacy-word\" fill=\"currentColor\" x=\"950\">twitter</tspan>\n",
              "    <tspan class=\"displacy-tag\" dy=\"2em\" fill=\"currentColor\" x=\"950\">NOUN</tspan>\n",
              "</text>\n",
              "\n",
              "<text class=\"displacy-token\" fill=\"currentColor\" text-anchor=\"middle\" y=\"197.0\">\n",
              "    <tspan class=\"displacy-word\" fill=\"currentColor\" x=\"1050\"> </tspan>\n",
              "    <tspan class=\"displacy-tag\" dy=\"2em\" fill=\"currentColor\" x=\"1050\">SPACE</tspan>\n",
              "</text>\n",
              "\n",
              "<text class=\"displacy-token\" fill=\"currentColor\" text-anchor=\"middle\" y=\"197.0\">\n",
              "    <tspan class=\"displacy-word\" fill=\"currentColor\" x=\"1150\">that</tspan>\n",
              "    <tspan class=\"displacy-tag\" dy=\"2em\" fill=\"currentColor\" x=\"1150\">SCONJ</tspan>\n",
              "</text>\n",
              "\n",
              "<text class=\"displacy-token\" fill=\"currentColor\" text-anchor=\"middle\" y=\"197.0\">\n",
              "    <tspan class=\"displacy-word\" fill=\"currentColor\" x=\"1250\">i</tspan>\n",
              "    <tspan class=\"displacy-tag\" dy=\"2em\" fill=\"currentColor\" x=\"1250\">PRON</tspan>\n",
              "</text>\n",
              "\n",
              "<text class=\"displacy-token\" fill=\"currentColor\" text-anchor=\"middle\" y=\"197.0\">\n",
              "    <tspan class=\"displacy-word\" fill=\"currentColor\" x=\"1350\">know</tspan>\n",
              "    <tspan class=\"displacy-tag\" dy=\"2em\" fill=\"currentColor\" x=\"1350\">VERB</tspan>\n",
              "</text>\n",
              "\n",
              "<text class=\"displacy-token\" fill=\"currentColor\" text-anchor=\"middle\" y=\"197.0\">\n",
              "    <tspan class=\"displacy-word\" fill=\"currentColor\" x=\"1450\">of</tspan>\n",
              "    <tspan class=\"displacy-tag\" dy=\"2em\" fill=\"currentColor\" x=\"1450\">ADP</tspan>\n",
              "</text>\n",
              "\n",
              "<text class=\"displacy-token\" fill=\"currentColor\" text-anchor=\"middle\" y=\"197.0\">\n",
              "    <tspan class=\"displacy-word\" fill=\"currentColor\" x=\"1550\">atleast</tspan>\n",
              "    <tspan class=\"displacy-tag\" dy=\"2em\" fill=\"currentColor\" x=\"1550\">NOUN</tspan>\n",
              "</text>\n",
              "\n",
              "<g class=\"displacy-arrow\">\n",
              "    <path class=\"displacy-arc\" id=\"arrow-2b781e907b29436db991bb02046a315d-4-0\" stroke-width=\"2px\" d=\"M70,152.0 C70,102.0 140.0,102.0 140.0,152.0\" fill=\"none\" stroke=\"currentColor\"/>\n",
              "    <text dy=\"1.25em\" style=\"font-size: 0.8em; letter-spacing: 1px\">\n",
              "        <textPath xlink:href=\"#arrow-2b781e907b29436db991bb02046a315d-4-0\" class=\"displacy-label\" startOffset=\"50%\" side=\"left\" fill=\"currentColor\" text-anchor=\"middle\">amod</textPath>\n",
              "    </text>\n",
              "    <path class=\"displacy-arrowhead\" d=\"M70,154.0 L62,142.0 78,142.0\" fill=\"currentColor\"/>\n",
              "</g>\n",
              "\n",
              "<g class=\"displacy-arrow\">\n",
              "    <path class=\"displacy-arc\" id=\"arrow-2b781e907b29436db991bb02046a315d-4-1\" stroke-width=\"2px\" d=\"M170,152.0 C170,102.0 240.0,102.0 240.0,152.0\" fill=\"none\" stroke=\"currentColor\"/>\n",
              "    <text dy=\"1.25em\" style=\"font-size: 0.8em; letter-spacing: 1px\">\n",
              "        <textPath xlink:href=\"#arrow-2b781e907b29436db991bb02046a315d-4-1\" class=\"displacy-label\" startOffset=\"50%\" side=\"left\" fill=\"currentColor\" text-anchor=\"middle\">prep</textPath>\n",
              "    </text>\n",
              "    <path class=\"displacy-arrowhead\" d=\"M240.0,154.0 L248.0,142.0 232.0,142.0\" fill=\"currentColor\"/>\n",
              "</g>\n",
              "\n",
              "<g class=\"displacy-arrow\">\n",
              "    <path class=\"displacy-arc\" id=\"arrow-2b781e907b29436db991bb02046a315d-4-2\" stroke-width=\"2px\" d=\"M270,152.0 C270,102.0 340.0,102.0 340.0,152.0\" fill=\"none\" stroke=\"currentColor\"/>\n",
              "    <text dy=\"1.25em\" style=\"font-size: 0.8em; letter-spacing: 1px\">\n",
              "        <textPath xlink:href=\"#arrow-2b781e907b29436db991bb02046a315d-4-2\" class=\"displacy-label\" startOffset=\"50%\" side=\"left\" fill=\"currentColor\" text-anchor=\"middle\">pobj</textPath>\n",
              "    </text>\n",
              "    <path class=\"displacy-arrowhead\" d=\"M340.0,154.0 L348.0,142.0 332.0,142.0\" fill=\"currentColor\"/>\n",
              "</g>\n",
              "\n",
              "<g class=\"displacy-arrow\">\n",
              "    <path class=\"displacy-arc\" id=\"arrow-2b781e907b29436db991bb02046a315d-4-3\" stroke-width=\"2px\" d=\"M470,152.0 C470,102.0 540.0,102.0 540.0,152.0\" fill=\"none\" stroke=\"currentColor\"/>\n",
              "    <text dy=\"1.25em\" style=\"font-size: 0.8em; letter-spacing: 1px\">\n",
              "        <textPath xlink:href=\"#arrow-2b781e907b29436db991bb02046a315d-4-3\" class=\"displacy-label\" startOffset=\"50%\" side=\"left\" fill=\"currentColor\" text-anchor=\"middle\">det</textPath>\n",
              "    </text>\n",
              "    <path class=\"displacy-arrowhead\" d=\"M470,154.0 L462,142.0 478,142.0\" fill=\"currentColor\"/>\n",
              "</g>\n",
              "\n",
              "<g class=\"displacy-arrow\">\n",
              "    <path class=\"displacy-arc\" id=\"arrow-2b781e907b29436db991bb02046a315d-4-4\" stroke-width=\"2px\" d=\"M570,152.0 C570,52.0 845.0,52.0 845.0,152.0\" fill=\"none\" stroke=\"currentColor\"/>\n",
              "    <text dy=\"1.25em\" style=\"font-size: 0.8em; letter-spacing: 1px\">\n",
              "        <textPath xlink:href=\"#arrow-2b781e907b29436db991bb02046a315d-4-4\" class=\"displacy-label\" startOffset=\"50%\" side=\"left\" fill=\"currentColor\" text-anchor=\"middle\">nsubj</textPath>\n",
              "    </text>\n",
              "    <path class=\"displacy-arrowhead\" d=\"M570,154.0 L562,142.0 578,142.0\" fill=\"currentColor\"/>\n",
              "</g>\n",
              "\n",
              "<g class=\"displacy-arrow\">\n",
              "    <path class=\"displacy-arc\" id=\"arrow-2b781e907b29436db991bb02046a315d-4-5\" stroke-width=\"2px\" d=\"M570,152.0 C570,102.0 640.0,102.0 640.0,152.0\" fill=\"none\" stroke=\"currentColor\"/>\n",
              "    <text dy=\"1.25em\" style=\"font-size: 0.8em; letter-spacing: 1px\">\n",
              "        <textPath xlink:href=\"#arrow-2b781e907b29436db991bb02046a315d-4-5\" class=\"displacy-label\" startOffset=\"50%\" side=\"left\" fill=\"currentColor\" text-anchor=\"middle\">prep</textPath>\n",
              "    </text>\n",
              "    <path class=\"displacy-arrowhead\" d=\"M640.0,154.0 L648.0,142.0 632.0,142.0\" fill=\"currentColor\"/>\n",
              "</g>\n",
              "\n",
              "<g class=\"displacy-arrow\">\n",
              "    <path class=\"displacy-arc\" id=\"arrow-2b781e907b29436db991bb02046a315d-4-6\" stroke-width=\"2px\" d=\"M670,152.0 C670,102.0 740.0,102.0 740.0,152.0\" fill=\"none\" stroke=\"currentColor\"/>\n",
              "    <text dy=\"1.25em\" style=\"font-size: 0.8em; letter-spacing: 1px\">\n",
              "        <textPath xlink:href=\"#arrow-2b781e907b29436db991bb02046a315d-4-6\" class=\"displacy-label\" startOffset=\"50%\" side=\"left\" fill=\"currentColor\" text-anchor=\"middle\">pcomp</textPath>\n",
              "    </text>\n",
              "    <path class=\"displacy-arrowhead\" d=\"M740.0,154.0 L748.0,142.0 732.0,142.0\" fill=\"currentColor\"/>\n",
              "</g>\n",
              "\n",
              "<g class=\"displacy-arrow\">\n",
              "    <path class=\"displacy-arc\" id=\"arrow-2b781e907b29436db991bb02046a315d-4-7\" stroke-width=\"2px\" d=\"M870,152.0 C870,102.0 940.0,102.0 940.0,152.0\" fill=\"none\" stroke=\"currentColor\"/>\n",
              "    <text dy=\"1.25em\" style=\"font-size: 0.8em; letter-spacing: 1px\">\n",
              "        <textPath xlink:href=\"#arrow-2b781e907b29436db991bb02046a315d-4-7\" class=\"displacy-label\" startOffset=\"50%\" side=\"left\" fill=\"currentColor\" text-anchor=\"middle\">dobj</textPath>\n",
              "    </text>\n",
              "    <path class=\"displacy-arrowhead\" d=\"M940.0,154.0 L948.0,142.0 932.0,142.0\" fill=\"currentColor\"/>\n",
              "</g>\n",
              "\n",
              "<g class=\"displacy-arrow\">\n",
              "    <path class=\"displacy-arc\" id=\"arrow-2b781e907b29436db991bb02046a315d-4-8\" stroke-width=\"2px\" d=\"M970,152.0 C970,102.0 1040.0,102.0 1040.0,152.0\" fill=\"none\" stroke=\"currentColor\"/>\n",
              "    <text dy=\"1.25em\" style=\"font-size: 0.8em; letter-spacing: 1px\">\n",
              "        <textPath xlink:href=\"#arrow-2b781e907b29436db991bb02046a315d-4-8\" class=\"displacy-label\" startOffset=\"50%\" side=\"left\" fill=\"currentColor\" text-anchor=\"middle\">dep</textPath>\n",
              "    </text>\n",
              "    <path class=\"displacy-arrowhead\" d=\"M1040.0,154.0 L1048.0,142.0 1032.0,142.0\" fill=\"currentColor\"/>\n",
              "</g>\n",
              "\n",
              "<g class=\"displacy-arrow\">\n",
              "    <path class=\"displacy-arc\" id=\"arrow-2b781e907b29436db991bb02046a315d-4-9\" stroke-width=\"2px\" d=\"M1170,152.0 C1170,52.0 1345.0,52.0 1345.0,152.0\" fill=\"none\" stroke=\"currentColor\"/>\n",
              "    <text dy=\"1.25em\" style=\"font-size: 0.8em; letter-spacing: 1px\">\n",
              "        <textPath xlink:href=\"#arrow-2b781e907b29436db991bb02046a315d-4-9\" class=\"displacy-label\" startOffset=\"50%\" side=\"left\" fill=\"currentColor\" text-anchor=\"middle\">dobj</textPath>\n",
              "    </text>\n",
              "    <path class=\"displacy-arrowhead\" d=\"M1170,154.0 L1162,142.0 1178,142.0\" fill=\"currentColor\"/>\n",
              "</g>\n",
              "\n",
              "<g class=\"displacy-arrow\">\n",
              "    <path class=\"displacy-arc\" id=\"arrow-2b781e907b29436db991bb02046a315d-4-10\" stroke-width=\"2px\" d=\"M1270,152.0 C1270,102.0 1340.0,102.0 1340.0,152.0\" fill=\"none\" stroke=\"currentColor\"/>\n",
              "    <text dy=\"1.25em\" style=\"font-size: 0.8em; letter-spacing: 1px\">\n",
              "        <textPath xlink:href=\"#arrow-2b781e907b29436db991bb02046a315d-4-10\" class=\"displacy-label\" startOffset=\"50%\" side=\"left\" fill=\"currentColor\" text-anchor=\"middle\">nsubj</textPath>\n",
              "    </text>\n",
              "    <path class=\"displacy-arrowhead\" d=\"M1270,154.0 L1262,142.0 1278,142.0\" fill=\"currentColor\"/>\n",
              "</g>\n",
              "\n",
              "<g class=\"displacy-arrow\">\n",
              "    <path class=\"displacy-arc\" id=\"arrow-2b781e907b29436db991bb02046a315d-4-11\" stroke-width=\"2px\" d=\"M970,152.0 C970,2.0 1350.0,2.0 1350.0,152.0\" fill=\"none\" stroke=\"currentColor\"/>\n",
              "    <text dy=\"1.25em\" style=\"font-size: 0.8em; letter-spacing: 1px\">\n",
              "        <textPath xlink:href=\"#arrow-2b781e907b29436db991bb02046a315d-4-11\" class=\"displacy-label\" startOffset=\"50%\" side=\"left\" fill=\"currentColor\" text-anchor=\"middle\">relcl</textPath>\n",
              "    </text>\n",
              "    <path class=\"displacy-arrowhead\" d=\"M1350.0,154.0 L1358.0,142.0 1342.0,142.0\" fill=\"currentColor\"/>\n",
              "</g>\n",
              "\n",
              "<g class=\"displacy-arrow\">\n",
              "    <path class=\"displacy-arc\" id=\"arrow-2b781e907b29436db991bb02046a315d-4-12\" stroke-width=\"2px\" d=\"M1370,152.0 C1370,102.0 1440.0,102.0 1440.0,152.0\" fill=\"none\" stroke=\"currentColor\"/>\n",
              "    <text dy=\"1.25em\" style=\"font-size: 0.8em; letter-spacing: 1px\">\n",
              "        <textPath xlink:href=\"#arrow-2b781e907b29436db991bb02046a315d-4-12\" class=\"displacy-label\" startOffset=\"50%\" side=\"left\" fill=\"currentColor\" text-anchor=\"middle\">prep</textPath>\n",
              "    </text>\n",
              "    <path class=\"displacy-arrowhead\" d=\"M1440.0,154.0 L1448.0,142.0 1432.0,142.0\" fill=\"currentColor\"/>\n",
              "</g>\n",
              "\n",
              "<g class=\"displacy-arrow\">\n",
              "    <path class=\"displacy-arc\" id=\"arrow-2b781e907b29436db991bb02046a315d-4-13\" stroke-width=\"2px\" d=\"M1470,152.0 C1470,102.0 1540.0,102.0 1540.0,152.0\" fill=\"none\" stroke=\"currentColor\"/>\n",
              "    <text dy=\"1.25em\" style=\"font-size: 0.8em; letter-spacing: 1px\">\n",
              "        <textPath xlink:href=\"#arrow-2b781e907b29436db991bb02046a315d-4-13\" class=\"displacy-label\" startOffset=\"50%\" side=\"left\" fill=\"currentColor\" text-anchor=\"middle\">pobj</textPath>\n",
              "    </text>\n",
              "    <path class=\"displacy-arrowhead\" d=\"M1540.0,154.0 L1548.0,142.0 1532.0,142.0\" fill=\"currentColor\"/>\n",
              "</g>\n",
              "</svg></span>"
            ]
          },
          "metadata": {}
        }
      ],
      "source": [
        "doc_dep = data[\"results\"][:5].apply(lambda x: Text_Visualization(x))\n",
        "option_dep ={'distance': 100, \"color\": \"#30c8b6\", \"bg\": \"#193380\", \"font\": \"Arial\"}\n",
        "displacy.render(doc_dep, style='dep', jupyter=True, options=option_dep)"
      ]
    },
    {
      "cell_type": "markdown",
      "metadata": {
        "id": "kxcls0jmA9Iu"
      },
      "source": [
        "<font color='blue'><font size = 2 >Visualizing the entity recognizer</font>"
      ]
    },
    {
      "cell_type": "code",
      "execution_count": null,
      "metadata": {
        "id": "rn4HByvZi5BH",
        "colab": {
          "base_uri": "https://localhost:8080/",
          "height": 367
        },
        "outputId": "8bfcb37c-71da-4859-ae7a-6d2664974002"
      },
      "outputs": [
        {
          "output_type": "display_data",
          "data": {
            "text/plain": [
              "<IPython.core.display.HTML object>"
            ],
            "text/html": [
              "<span class=\"tex2jax_ignore\"><div class=\"entities\" style=\"line-height: 2.5; direction: ltr\">once again i'm sitting by myself outside in the court yard at school </div>\n",
              "\n",
              "<div class=\"entities\" style=\"line-height: 2.5; direction: ltr\">can totally finally afford a dining room table!! perhaps this may be accomplished on my \n",
              "<mark class=\"entity\" style=\"background: #bfe1d9; padding: 0.45em 0.6em; margin: 0 0.25em; line-height: 1; border-radius: 0.35em;\">\n",
              "    sunday\n",
              "    <span style=\"font-size: 0.8em; font-weight: bold; line-height: 1; border-radius: 0.35em; vertical-align: middle; margin-left: 0.5rem\">DATE</span>\n",
              "</mark>\n",
              " off </div>\n",
              "\n",
              "<div class=\"entities\" style=\"line-height: 2.5; direction: ltr\">my phone is being ridiculous. </div>\n",
              "\n",
              "<div class=\"entities\" style=\"line-height: 2.5; direction: ltr\">jus startted here dnt no wat to do!! </div>\n",
              "\n",
              "<div class=\"entities\" style=\"line-height: 2.5; direction: ltr\">\n",
              "<mark class=\"entity\" style=\"background: #e4e7d2; padding: 0.45em 0.6em; margin: 0 0.25em; line-height: 1; border-radius: 0.35em;\">\n",
              "    first\n",
              "    <span style=\"font-size: 0.8em; font-weight: bold; line-height: 1; border-radius: 0.35em; vertical-align: middle; margin-left: 0.5rem\">ORDINAL</span>\n",
              "</mark>\n",
              " \n",
              "<mark class=\"entity\" style=\"background: #bfe1d9; padding: 0.45em 0.6em; margin: 0 0.25em; line-height: 1; border-radius: 0.35em;\">\n",
              "    sunday\n",
              "    <span style=\"font-size: 0.8em; font-weight: bold; line-height: 1; border-radius: 0.35em; vertical-align: middle; margin-left: 0.5rem\">DATE</span>\n",
              "</mark>\n",
              " at lighthouse! no one around here has twitter  that i know of atleast</div>\n",
              "\n",
              "<div class=\"entities\" style=\"line-height: 2.5; direction: ltr\">love that \n",
              "<mark class=\"entity\" style=\"background: #feca74; padding: 0.45em 0.6em; margin: 0 0.25em; line-height: 1; border-radius: 0.35em;\">\n",
              "    boston\n",
              "    <span style=\"font-size: 0.8em; font-weight: bold; line-height: 1; border-radius: 0.35em; vertical-align: middle; margin-left: 0.5rem\">GPE</span>\n",
              "</mark>\n",
              " has \n",
              "<mark class=\"entity\" style=\"background: #bfe1d9; padding: 0.45em 0.6em; margin: 0 0.25em; line-height: 1; border-radius: 0.35em;\">\n",
              "    an unofficial holiday\n",
              "    <span style=\"font-size: 0.8em; font-weight: bold; line-height: 1; border-radius: 0.35em; vertical-align: middle; margin-left: 0.5rem\">DATE</span>\n",
              "</mark>\n",
              " \n",
              "<mark class=\"entity\" style=\"background: #bfe1d9; padding: 0.45em 0.6em; margin: 0 0.25em; line-height: 1; border-radius: 0.35em;\">\n",
              "    today\n",
              "    <span style=\"font-size: 0.8em; font-weight: bold; line-height: 1; border-radius: 0.35em; vertical-align: middle; margin-left: 0.5rem\">DATE</span>\n",
              "</mark>\n",
              "  marathon party at leigh's in \n",
              "<mark class=\"entity\" style=\"background: #bfe1d9; padding: 0.45em 0.6em; margin: 0 0.25em; line-height: 1; border-radius: 0.35em;\">\n",
              "    about an hour\n",
              "    <span style=\"font-size: 0.8em; font-weight: bold; line-height: 1; border-radius: 0.35em; vertical-align: middle; margin-left: 0.5rem\">TIME</span>\n",
              "</mark>\n",
              "!</div>\n",
              "\n",
              "<div class=\"entities\" style=\"line-height: 2.5; direction: ltr\">  - cute </div>\n",
              "\n",
              "<div class=\"entities\" style=\"line-height: 2.5; direction: ltr\">\n",
              "<mark class=\"entity\" style=\"background: #aa9cfc; padding: 0.45em 0.6em; margin: 0 0.25em; line-height: 1; border-radius: 0.35em;\">\n",
              "    jerson\n",
              "    <span style=\"font-size: 0.8em; font-weight: bold; line-height: 1; border-radius: 0.35em; vertical-align: middle; margin-left: 0.5rem\">PERSON</span>\n",
              "</mark>\n",
              " is here .. my dearest bebe ku !  peace</div>\n",
              "\n",
              "<div class=\"entities\" style=\"line-height: 2.5; direction: ltr\">i want a drink buhd ! </div>\n",
              "\n",
              "<div class=\"entities\" style=\"line-height: 2.5; direction: ltr\">do you guys think my groggy, \n",
              "<mark class=\"entity\" style=\"background: #bfe1d9; padding: 0.45em 0.6em; margin: 0 0.25em; line-height: 1; border-radius: 0.35em;\">\n",
              "    early-morning\n",
              "    <span style=\"font-size: 0.8em; font-weight: bold; line-height: 1; border-radius: 0.35em; vertical-align: middle; margin-left: 0.5rem\">TIME</span>\n",
              "</mark>\n",
              " f-word will drastically increase the number of porn site &amp;quot;followers&amp;quot; i have to block? </div></span>"
            ]
          },
          "metadata": {}
        }
      ],
      "source": [
        "doc_ent = data[\"results\"][:10].apply(lambda x: Text_Visualization(x))\n",
        "#doc_ent.user_data[\"title\"] = \"ENT\"\n",
        "displacy.render(doc_ent, style='ent', jupyter=True)"
      ]
    },
    {
      "cell_type": "code",
      "execution_count": null,
      "metadata": {
        "id": "__bWoraySkFt"
      },
      "outputs": [],
      "source": []
    },
    {
      "cell_type": "markdown",
      "metadata": {
        "id": "-AY8CcJlvDuw"
      },
      "source": [
        "<font color='blue'><font size = 2 >7. Remove puctuations and non-alphanumeric</font>"
      ]
    },
    {
      "cell_type": "code",
      "execution_count": null,
      "metadata": {
        "id": "RZ8dYzKRu5zu",
        "colab": {
          "base_uri": "https://localhost:8080/"
        },
        "outputId": "11b2c6ed-c7c6-4767-a3fe-cae47a160272"
      },
      "outputs": [
        {
          "output_type": "execute_result",
          "data": {
            "text/plain": [
              "957071                                                                                                  talking to yourself again eh \n",
              "970199     omg good afternoon all i cant believe i missed church again lord plz forgive me forgive for missing the word on today lol \n",
              "1471597                        haha i just picked up my  tickets from tmaster yup bought them a month ago and never went to get them \n",
              "1194741                                                                                haha owwn tom was beautiful in faustã£o today \n",
              "262795                                                                                           final on sunday wtf  also poor subo \n",
              "Name: results, dtype: object"
            ]
          },
          "metadata": {},
          "execution_count": 211
        }
      ],
      "source": [
        "#remove (anything not alphanumeric,whitespace or digit)\n",
        "def cleaning_punc(punc):\n",
        "    for char in string.punctuation:\n",
        "        punc = punc.replace(char, '')\n",
        "    return punc\n",
        "data['results'] = data['results'].apply(cleaning_punc)\n",
        "data['results'].tail()"
      ]
    },
    {
      "cell_type": "markdown",
      "metadata": {
        "id": "NwYRFIbZvU4n"
      },
      "source": [
        "<font color='blue'><font size = 2 >8.Tokenization </font>"
      ]
    },
    {
      "cell_type": "code",
      "execution_count": null,
      "metadata": {
        "id": "jEiiSrpclpNi",
        "colab": {
          "base_uri": "https://localhost:8080/"
        },
        "outputId": "1b364d3e-73e2-499b-88af-37acb68552ad"
      },
      "outputs": [
        {
          "output_type": "execute_result",
          "data": {
            "text/plain": [
              "957071                                                                                                                    [talking, to, yourself, again, eh]\n",
              "970199     [omg, good, afternoon, all, i, cant, believe, i, missed, church, again, lord, plz, forgive, me, forgive, for, missing, the, word, on, today, lol]\n",
              "1471597                           [haha, i, just, picked, up, my, tickets, from, tmaster, yup, bought, them, a, month, ago, and, never, went, to, get, them]\n",
              "1194741                                                                                               [haha, owwn, tom, was, beautiful, in, faustã£o, today]\n",
              "262795                                                                                                            [final, on, sunday, wtf, also, poor, subo]\n",
              "Name: results, dtype: object"
            ]
          },
          "metadata": {},
          "execution_count": 212
        }
      ],
      "source": [
        "#Tokenization\n",
        "data['results'] = data['results'].apply(lambda x: word_tokenize(x))\n",
        "data['results'].tail()"
      ]
    },
    {
      "cell_type": "markdown",
      "metadata": {
        "id": "YT3-MrYPyFrs"
      },
      "source": [
        "<font color='blue'><font size = 2 >9.Remove Stop Words </font>"
      ]
    },
    {
      "cell_type": "code",
      "execution_count": null,
      "metadata": {
        "id": "6-YI1c8-vMIH"
      },
      "outputs": [],
      "source": [
        "# Import stopwords with scikit-learn\n",
        "from sklearn.feature_extraction import text\n",
        "stop = text.ENGLISH_STOP_WORDS"
      ]
    },
    {
      "cell_type": "code",
      "execution_count": null,
      "metadata": {
        "id": "xWOXM2I_vhK0"
      },
      "outputs": [],
      "source": [
        "# add new column 'results' to asign 'post' column without stop words\n",
        "data['results']= data['results'].apply(lambda x: [item for item in x if item not in stop])"
      ]
    },
    {
      "cell_type": "code",
      "execution_count": null,
      "metadata": {
        "id": "BzT0lOkmH01H"
      },
      "outputs": [],
      "source": [
        "tokenword = data['Post'].apply(lambda x: word_tokenize(x))\n",
        "res = data['results']"
      ]
    },
    {
      "cell_type": "code",
      "execution_count": null,
      "metadata": {
        "id": "Vs_jPzkxH58G",
        "colab": {
          "base_uri": "https://localhost:8080/",
          "height": 1000
        },
        "outputId": "c3b3d25a-d54e-4b6d-c704-fcaba3b3f2b9"
      },
      "outputs": [
        {
          "output_type": "stream",
          "name": "stdout",
          "text": [
            "Tokenized words:\n",
            "  287542                                                                                 [Once, again, I, 'm, sitting, by, myself, outside, in, the, court, yard, at, school]\n",
            "1378226                                         [can, totally, finally, afford, a, dining, room, table, !, !, !, perhaps, this, may, be, accomplished, on, my, sunday, off]\n",
            "597149                                                                                                                                [My, phone, is, being, ridiculous, .]\n",
            "628147                                                                                                                    [jus, startted, here, dnt, no, wat, to, do, !, !]\n",
            "114337                                                                  [first, Sunday, at, Lighthouse, !, no, one, around, here, has, twitter, that, i, know, of, atleast]\n",
            "                                                                                         ...                                                                               \n",
            "957071                                                                                                                     [@, wantit, talking, to, yourself, again, eh, ?]\n",
            "970199                 [Omg, good, afternoon, all, I, ca, n't, believe, i, missed, church, again, lord, plz, forgive, me, forgive, for, missing, the, word, on, today, lol]\n",
            "1471597    [@, carinafox5, HAHA, !, I, JUST, picked, up, my, @, idolscott, tickets, from, Tmaster, ,, yup, ,, bought, them, a, month, ago, and, never, went, to, get, them]\n",
            "1194741                                                                                        [@, tommcfly, haha, ,, owwn, Tom, !, was, beautiful, in, FaustÃ£o, today, !]\n",
            "262795                                                                                                          [@, judd40, final, on, Sunday, ?, wtf, ?, also, poor, SuBo]\n",
            "Name: Post, Length: 10000, dtype: object\n",
            "....................................\n",
            "\n",
            "No-Stopwords:\n",
            "  287542                                                                 [im, sitting, outside, court, yard, school]\n",
            "1378226                                      [totally, finally, afford, dining, room, table, accomplished, sunday]\n",
            "597149                                                                                         [phone, ridiculous]\n",
            "628147                                                                                   [jus, startted, dnt, wat]\n",
            "114337                                                                [sunday, lighthouse, twitter, know, atleast]\n",
            "                                                            ...                                                   \n",
            "957071                                                                                               [talking, eh]\n",
            "970199     [omg, good, afternoon, believe, missed, church, lord, plz, forgive, forgive, missing, word, today, lol]\n",
            "1471597                                      [haha, just, picked, tickets, tmaster, yup, bought, month, ago, went]\n",
            "1194741                                                              [haha, owwn, tom, beautiful, faustã£o, today]\n",
            "262795                                                                            [final, sunday, wtf, poor, subo]\n",
            "Name: results, Length: 10000, dtype: object\n",
            "....................................\n"
          ]
        },
        {
          "output_type": "execute_result",
          "data": {
            "text/plain": [
              "         Target          ID                          Date  NO_QUERY  \\\n",
              "287542        0  1994249685  Mon Jun 01 11:38:46 PDT 2009  NO_QUERY   \n",
              "1378226       4  2051982212  Fri Jun 05 23:19:14 PDT 2009  NO_QUERY   \n",
              "597149        0  2219198445  Thu Jun 18 00:00:37 PDT 2009  NO_QUERY   \n",
              "628147        0  2231192822  Thu Jun 18 18:10:15 PDT 2009  NO_QUERY   \n",
              "114337        0  1826242895  Sun May 17 08:02:23 PDT 2009  NO_QUERY   \n",
              "...         ...         ...                           ...       ...   \n",
              "957071        4  1825371036  Sun May 17 05:27:05 PDT 2009  NO_QUERY   \n",
              "970199        4  1828014361  Sun May 17 11:54:55 PDT 2009  NO_QUERY   \n",
              "1471597       4  2065234772  Sun Jun 07 08:10:36 PDT 2009  NO_QUERY   \n",
              "1194741       4  1984500151  Sun May 31 15:13:42 PDT 2009  NO_QUERY   \n",
              "262795        0  1986326870  Sun May 31 18:40:35 PDT 2009  NO_QUERY   \n",
              "\n",
              "                Auther  \\\n",
              "287542   RosalieCullen   \n",
              "1378226    alynnolivia   \n",
              "597149       skimmylou   \n",
              "628147        shabooka   \n",
              "114337      KyleSadler   \n",
              "...                ...   \n",
              "957071   burntbroccoli   \n",
              "970199      MzGemini87   \n",
              "1471597     sherryinbc   \n",
              "1194741         gaabs_   \n",
              "262795            audm   \n",
              "\n",
              "                                                                                                                                    Post  \\\n",
              "287542                                                             Once again I'm sitting by myself outside in the court yard at school    \n",
              "1378226                             can totally finally afford a dining room table!!! perhaps this may be accomplished on my sunday off    \n",
              "597149                                                                                                    My phone is being ridiculous.    \n",
              "628147                                                                                             jus startted here dnt no wat to do!!    \n",
              "114337                                                first Sunday at Lighthouse! no one around here has twitter  that i know of atleast   \n",
              "...                                                                                                                                  ...   \n",
              "957071                                                                                            @wantit talking to yourself again eh?    \n",
              "970199       Omg good afternoon all I can't believe i missed church again lord plz forgive me forgive for missing the word on today lol    \n",
              "1471597  @carinafox5 HAHA! I JUST picked up my @idolscott tickets from Tmaster, yup, bought them a month ago and never went to get them    \n",
              "1194741                                                                      @tommcfly haha, owwn Tom! was beautiful in FaustÃ£o today!    \n",
              "262795                                                                                    @judd40 final on Sunday? wtf?  also poor SuBo    \n",
              "\n",
              "                                                                                                         results  \n",
              "287542                                                               [im, sitting, outside, court, yard, school]  \n",
              "1378226                                    [totally, finally, afford, dining, room, table, accomplished, sunday]  \n",
              "597149                                                                                       [phone, ridiculous]  \n",
              "628147                                                                                 [jus, startted, dnt, wat]  \n",
              "114337                                                              [sunday, lighthouse, twitter, know, atleast]  \n",
              "...                                                                                                          ...  \n",
              "957071                                                                                             [talking, eh]  \n",
              "970199   [omg, good, afternoon, believe, missed, church, lord, plz, forgive, forgive, missing, word, today, lol]  \n",
              "1471597                                    [haha, just, picked, tickets, tmaster, yup, bought, month, ago, went]  \n",
              "1194741                                                            [haha, owwn, tom, beautiful, faustã£o, today]  \n",
              "262795                                                                          [final, sunday, wtf, poor, subo]  \n",
              "\n",
              "[10000 rows x 7 columns]"
            ],
            "text/html": [
              "\n",
              "  <div id=\"df-7e487297-659b-41f6-a00a-d8bba05c25a6\">\n",
              "    <div class=\"colab-df-container\">\n",
              "      <div>\n",
              "<style scoped>\n",
              "    .dataframe tbody tr th:only-of-type {\n",
              "        vertical-align: middle;\n",
              "    }\n",
              "\n",
              "    .dataframe tbody tr th {\n",
              "        vertical-align: top;\n",
              "    }\n",
              "\n",
              "    .dataframe thead th {\n",
              "        text-align: right;\n",
              "    }\n",
              "</style>\n",
              "<table border=\"1\" class=\"dataframe\">\n",
              "  <thead>\n",
              "    <tr style=\"text-align: right;\">\n",
              "      <th></th>\n",
              "      <th>Target</th>\n",
              "      <th>ID</th>\n",
              "      <th>Date</th>\n",
              "      <th>NO_QUERY</th>\n",
              "      <th>Auther</th>\n",
              "      <th>Post</th>\n",
              "      <th>results</th>\n",
              "    </tr>\n",
              "  </thead>\n",
              "  <tbody>\n",
              "    <tr>\n",
              "      <th>287542</th>\n",
              "      <td>0</td>\n",
              "      <td>1994249685</td>\n",
              "      <td>Mon Jun 01 11:38:46 PDT 2009</td>\n",
              "      <td>NO_QUERY</td>\n",
              "      <td>RosalieCullen</td>\n",
              "      <td>Once again I'm sitting by myself outside in the court yard at school</td>\n",
              "      <td>[im, sitting, outside, court, yard, school]</td>\n",
              "    </tr>\n",
              "    <tr>\n",
              "      <th>1378226</th>\n",
              "      <td>4</td>\n",
              "      <td>2051982212</td>\n",
              "      <td>Fri Jun 05 23:19:14 PDT 2009</td>\n",
              "      <td>NO_QUERY</td>\n",
              "      <td>alynnolivia</td>\n",
              "      <td>can totally finally afford a dining room table!!! perhaps this may be accomplished on my sunday off</td>\n",
              "      <td>[totally, finally, afford, dining, room, table, accomplished, sunday]</td>\n",
              "    </tr>\n",
              "    <tr>\n",
              "      <th>597149</th>\n",
              "      <td>0</td>\n",
              "      <td>2219198445</td>\n",
              "      <td>Thu Jun 18 00:00:37 PDT 2009</td>\n",
              "      <td>NO_QUERY</td>\n",
              "      <td>skimmylou</td>\n",
              "      <td>My phone is being ridiculous.</td>\n",
              "      <td>[phone, ridiculous]</td>\n",
              "    </tr>\n",
              "    <tr>\n",
              "      <th>628147</th>\n",
              "      <td>0</td>\n",
              "      <td>2231192822</td>\n",
              "      <td>Thu Jun 18 18:10:15 PDT 2009</td>\n",
              "      <td>NO_QUERY</td>\n",
              "      <td>shabooka</td>\n",
              "      <td>jus startted here dnt no wat to do!!</td>\n",
              "      <td>[jus, startted, dnt, wat]</td>\n",
              "    </tr>\n",
              "    <tr>\n",
              "      <th>114337</th>\n",
              "      <td>0</td>\n",
              "      <td>1826242895</td>\n",
              "      <td>Sun May 17 08:02:23 PDT 2009</td>\n",
              "      <td>NO_QUERY</td>\n",
              "      <td>KyleSadler</td>\n",
              "      <td>first Sunday at Lighthouse! no one around here has twitter  that i know of atleast</td>\n",
              "      <td>[sunday, lighthouse, twitter, know, atleast]</td>\n",
              "    </tr>\n",
              "    <tr>\n",
              "      <th>...</th>\n",
              "      <td>...</td>\n",
              "      <td>...</td>\n",
              "      <td>...</td>\n",
              "      <td>...</td>\n",
              "      <td>...</td>\n",
              "      <td>...</td>\n",
              "      <td>...</td>\n",
              "    </tr>\n",
              "    <tr>\n",
              "      <th>957071</th>\n",
              "      <td>4</td>\n",
              "      <td>1825371036</td>\n",
              "      <td>Sun May 17 05:27:05 PDT 2009</td>\n",
              "      <td>NO_QUERY</td>\n",
              "      <td>burntbroccoli</td>\n",
              "      <td>@wantit talking to yourself again eh?</td>\n",
              "      <td>[talking, eh]</td>\n",
              "    </tr>\n",
              "    <tr>\n",
              "      <th>970199</th>\n",
              "      <td>4</td>\n",
              "      <td>1828014361</td>\n",
              "      <td>Sun May 17 11:54:55 PDT 2009</td>\n",
              "      <td>NO_QUERY</td>\n",
              "      <td>MzGemini87</td>\n",
              "      <td>Omg good afternoon all I can't believe i missed church again lord plz forgive me forgive for missing the word on today lol</td>\n",
              "      <td>[omg, good, afternoon, believe, missed, church, lord, plz, forgive, forgive, missing, word, today, lol]</td>\n",
              "    </tr>\n",
              "    <tr>\n",
              "      <th>1471597</th>\n",
              "      <td>4</td>\n",
              "      <td>2065234772</td>\n",
              "      <td>Sun Jun 07 08:10:36 PDT 2009</td>\n",
              "      <td>NO_QUERY</td>\n",
              "      <td>sherryinbc</td>\n",
              "      <td>@carinafox5 HAHA! I JUST picked up my @idolscott tickets from Tmaster, yup, bought them a month ago and never went to get them</td>\n",
              "      <td>[haha, just, picked, tickets, tmaster, yup, bought, month, ago, went]</td>\n",
              "    </tr>\n",
              "    <tr>\n",
              "      <th>1194741</th>\n",
              "      <td>4</td>\n",
              "      <td>1984500151</td>\n",
              "      <td>Sun May 31 15:13:42 PDT 2009</td>\n",
              "      <td>NO_QUERY</td>\n",
              "      <td>gaabs_</td>\n",
              "      <td>@tommcfly haha, owwn Tom! was beautiful in FaustÃ£o today!</td>\n",
              "      <td>[haha, owwn, tom, beautiful, faustã£o, today]</td>\n",
              "    </tr>\n",
              "    <tr>\n",
              "      <th>262795</th>\n",
              "      <td>0</td>\n",
              "      <td>1986326870</td>\n",
              "      <td>Sun May 31 18:40:35 PDT 2009</td>\n",
              "      <td>NO_QUERY</td>\n",
              "      <td>audm</td>\n",
              "      <td>@judd40 final on Sunday? wtf?  also poor SuBo</td>\n",
              "      <td>[final, sunday, wtf, poor, subo]</td>\n",
              "    </tr>\n",
              "  </tbody>\n",
              "</table>\n",
              "<p>10000 rows × 7 columns</p>\n",
              "</div>\n",
              "      <button class=\"colab-df-convert\" onclick=\"convertToInteractive('df-7e487297-659b-41f6-a00a-d8bba05c25a6')\"\n",
              "              title=\"Convert this dataframe to an interactive table.\"\n",
              "              style=\"display:none;\">\n",
              "        \n",
              "  <svg xmlns=\"http://www.w3.org/2000/svg\" height=\"24px\"viewBox=\"0 0 24 24\"\n",
              "       width=\"24px\">\n",
              "    <path d=\"M0 0h24v24H0V0z\" fill=\"none\"/>\n",
              "    <path d=\"M18.56 5.44l.94 2.06.94-2.06 2.06-.94-2.06-.94-.94-2.06-.94 2.06-2.06.94zm-11 1L8.5 8.5l.94-2.06 2.06-.94-2.06-.94L8.5 2.5l-.94 2.06-2.06.94zm10 10l.94 2.06.94-2.06 2.06-.94-2.06-.94-.94-2.06-.94 2.06-2.06.94z\"/><path d=\"M17.41 7.96l-1.37-1.37c-.4-.4-.92-.59-1.43-.59-.52 0-1.04.2-1.43.59L10.3 9.45l-7.72 7.72c-.78.78-.78 2.05 0 2.83L4 21.41c.39.39.9.59 1.41.59.51 0 1.02-.2 1.41-.59l7.78-7.78 2.81-2.81c.8-.78.8-2.07 0-2.86zM5.41 20L4 18.59l7.72-7.72 1.47 1.35L5.41 20z\"/>\n",
              "  </svg>\n",
              "      </button>\n",
              "      \n",
              "  <style>\n",
              "    .colab-df-container {\n",
              "      display:flex;\n",
              "      flex-wrap:wrap;\n",
              "      gap: 12px;\n",
              "    }\n",
              "\n",
              "    .colab-df-convert {\n",
              "      background-color: #E8F0FE;\n",
              "      border: none;\n",
              "      border-radius: 50%;\n",
              "      cursor: pointer;\n",
              "      display: none;\n",
              "      fill: #1967D2;\n",
              "      height: 32px;\n",
              "      padding: 0 0 0 0;\n",
              "      width: 32px;\n",
              "    }\n",
              "\n",
              "    .colab-df-convert:hover {\n",
              "      background-color: #E2EBFA;\n",
              "      box-shadow: 0px 1px 2px rgba(60, 64, 67, 0.3), 0px 1px 3px 1px rgba(60, 64, 67, 0.15);\n",
              "      fill: #174EA6;\n",
              "    }\n",
              "\n",
              "    [theme=dark] .colab-df-convert {\n",
              "      background-color: #3B4455;\n",
              "      fill: #D2E3FC;\n",
              "    }\n",
              "\n",
              "    [theme=dark] .colab-df-convert:hover {\n",
              "      background-color: #434B5C;\n",
              "      box-shadow: 0px 1px 3px 1px rgba(0, 0, 0, 0.15);\n",
              "      filter: drop-shadow(0px 1px 2px rgba(0, 0, 0, 0.3));\n",
              "      fill: #FFFFFF;\n",
              "    }\n",
              "  </style>\n",
              "\n",
              "      <script>\n",
              "        const buttonEl =\n",
              "          document.querySelector('#df-7e487297-659b-41f6-a00a-d8bba05c25a6 button.colab-df-convert');\n",
              "        buttonEl.style.display =\n",
              "          google.colab.kernel.accessAllowed ? 'block' : 'none';\n",
              "\n",
              "        async function convertToInteractive(key) {\n",
              "          const element = document.querySelector('#df-7e487297-659b-41f6-a00a-d8bba05c25a6');\n",
              "          const dataTable =\n",
              "            await google.colab.kernel.invokeFunction('convertToInteractive',\n",
              "                                                     [key], {});\n",
              "          if (!dataTable) return;\n",
              "\n",
              "          const docLinkHtml = 'Like what you see? Visit the ' +\n",
              "            '<a target=\"_blank\" href=https://colab.research.google.com/notebooks/data_table.ipynb>data table notebook</a>'\n",
              "            + ' to learn more about interactive tables.';\n",
              "          element.innerHTML = '';\n",
              "          dataTable['output_type'] = 'display_data';\n",
              "          await google.colab.output.renderOutput(dataTable, element);\n",
              "          const docLink = document.createElement('div');\n",
              "          docLink.innerHTML = docLinkHtml;\n",
              "          element.appendChild(docLink);\n",
              "        }\n",
              "      </script>\n",
              "    </div>\n",
              "  </div>\n",
              "  "
            ]
          },
          "metadata": {},
          "execution_count": 216
        }
      ],
      "source": [
        "print('Tokenized words:\\n ',tokenword) \n",
        "print(\"....................................\")\n",
        "print('\\nNo-Stopwords:\\n ',res)\n",
        "print(\"....................................\")\n",
        "data"
      ]
    },
    {
      "cell_type": "code",
      "execution_count": null,
      "metadata": {
        "id": "yCU60OSfm3G8"
      },
      "outputs": [],
      "source": [
        "# data['Post'] = data['Post'].apply(lambda x: ' '.join(x))\n",
        "data['results'] = data['results'].apply(lambda x: ' '.join(x))"
      ]
    },
    {
      "cell_type": "code",
      "execution_count": null,
      "metadata": {
        "id": "DlXYPGUWSkFu",
        "colab": {
          "base_uri": "https://localhost:8080/"
        },
        "outputId": "e1c42c8b-b683-4e3c-ebfe-1ca70e654f91"
      },
      "outputs": [
        {
          "output_type": "execute_result",
          "data": {
            "text/plain": [
              "numpy.ndarray"
            ]
          },
          "metadata": {},
          "execution_count": 218
        }
      ],
      "source": [
        "type(data.results.values)"
      ]
    },
    {
      "cell_type": "code",
      "execution_count": null,
      "metadata": {
        "id": "F3CgfYVHSkFu",
        "colab": {
          "base_uri": "https://localhost:8080/"
        },
        "outputId": "7103a529-9f10-40bc-cd94-71bfd871d540"
      },
      "outputs": [
        {
          "output_type": "execute_result",
          "data": {
            "text/plain": [
              "pandas.core.series.Series"
            ]
          },
          "metadata": {},
          "execution_count": 219
        }
      ],
      "source": [
        "type(data.Post)"
      ]
    },
    {
      "cell_type": "code",
      "source": [
        "df = data[data['results'].notnull()]\n",
        "from sklearn import preprocessing\n",
        "le = preprocessing.LabelEncoder()\n",
        "df['results'] = le.fit_transform(df.results.values)"
      ],
      "metadata": {
        "id": "cmC6sO6tab1V"
      },
      "execution_count": null,
      "outputs": []
    },
    {
      "cell_type": "markdown",
      "source": [
        "t-Distributed Stochastic Neighbor Embedding "
      ],
      "metadata": {
        "id": "8GLRZ9cy3JW9"
      }
    },
    {
      "cell_type": "code",
      "source": [
        "# tsne code from this great kernel: https://www.kaggle.com/janiobachmann/credit-fraud-dealing-with-imbalanced-datasets\n",
        "# New_df is from the random undersample data (fewer instances)\n",
        "import time\n",
        "from sklearn.manifold import TSNE\n",
        "X = df['results']\n",
        "y = df['Target']\n",
        "\n",
        "\n",
        "# T-SNE Implementation\n",
        "t0 = time.time()\n",
        "X_reduced_tsne = TSNE(n_components=2, random_state=42).fit_transform(X.values.reshape(-1, 1))\n",
        "t1 = time.time()\n",
        "print(\"T-SNE took {:.2} s\".format(t1 - t0))"
      ],
      "metadata": {
        "colab": {
          "base_uri": "https://localhost:8080/"
        },
        "id": "SKZF4RfQaqxA",
        "outputId": "9d30bcaf-393a-46f5-c6de-205c4d892ccf"
      },
      "execution_count": null,
      "outputs": [
        {
          "output_type": "stream",
          "name": "stdout",
          "text": [
            "T-SNE took 9.7e+01 s\n"
          ]
        }
      ]
    },
    {
      "cell_type": "code",
      "source": [
        "f, (ax1) = plt.subplots(1, 1, figsize=(12,8))\n",
        "# labels = ['Label1', 'Label2']\n",
        "f.suptitle('Clusters using Dimensionality Reduction', fontsize=14)\n",
        "\n",
        "\n",
        "blue_patch = mpatches.Patch(color='#0A0AFF', label='label1')\n",
        "red_patch = mpatches.Patch(color='#AF0000', label='label2')\n",
        "\n",
        "\n",
        "# t-SNE scatter plot\n",
        "ax1.scatter(X_reduced_tsne[:,0], X_reduced_tsne[:,1], c=(y == 0), cmap='coolwarm', label='label1', linewidths=2)\n",
        "ax1.scatter(X_reduced_tsne[:,0], X_reduced_tsne[:,1], c=(y == 4), cmap='coolwarm', label='label2', linewidths=2)\n",
        "ax1.set_title('t-SNE', fontsize=14)\n",
        "\n",
        "ax1.grid(True)\n",
        "\n",
        "ax1.legend(handles=[blue_patch, red_patch])\n",
        "\n",
        "\n",
        "plt.show()"
      ],
      "metadata": {
        "colab": {
          "base_uri": "https://localhost:8080/",
          "height": 540
        },
        "id": "8aVZq0nlbOAC",
        "outputId": "1eddaabb-54c3-499a-ef30-aeb234cee771"
      },
      "execution_count": null,
      "outputs": [
        {
          "output_type": "display_data",
          "data": {
            "text/plain": [
              "<Figure size 864x576 with 1 Axes>"
            ],
            "image/png": "[encoded data removed]"
          },
          "metadata": {}
        }
      ]
    },
    {
      "cell_type": "code",
      "source": [
        "reindexed_data = data['Post'] #.str.decode(\"utf-8\", errors=\"ignore\")"
      ],
      "metadata": {
        "id": "RfOsC_5vLXd7"
      },
      "execution_count": null,
      "outputs": []
    },
    {
      "cell_type": "code",
      "source": [
        "# Define helper functions\n",
        "def get_top_n_words(n_top_words, count_vectorizer, text_data):\n",
        "    '''\n",
        "    returns a tuple of the top n words in a sample and their \n",
        "    accompanying counts, given a CountVectorizer object and text sample\n",
        "    '''\n",
        "    vectorized_headlines = count_vectorizer.fit_transform(text_data.values)\n",
        "    vectorized_total = np.sum(vectorized_headlines, axis=0)\n",
        "    word_indices = np.flip(np.argsort(vectorized_total)[0,:], 1)\n",
        "    word_values = np.flip(np.sort(vectorized_total)[0,:],1)\n",
        "    \n",
        "    word_vectors = np.zeros((n_top_words, vectorized_headlines.shape[1]))\n",
        "    for i in range(n_top_words):\n",
        "        word_vectors[i,word_indices[0,i]] = 1\n",
        "\n",
        "    words = [word[0].encode('ascii',errors=\"ignore\").decode('utf-8',errors=\"ignore\") for \n",
        "             word in count_vectorizer.inverse_transform(word_vectors)]\n",
        "\n",
        "    return (words, word_values[0,:n_top_words].tolist()[0])"
      ],
      "metadata": {
        "id": "qCXam9UyLbOv"
      },
      "execution_count": null,
      "outputs": []
    },
    {
      "cell_type": "code",
      "source": [
        "count_vectorizer = CountVectorizer(stop_words='english')\n",
        "words, word_values = get_top_n_words(n_top_words=25,\n",
        "                                     count_vectorizer=count_vectorizer, \n",
        "                                     text_data=reindexed_data)\n",
        "\n",
        "fig, ax = plt.subplots(figsize=(10,4))\n",
        "ax.bar(range(len(words)), word_values);\n",
        "ax.set_xticks(range(len(words)));\n",
        "ax.set_xticklabels(words, rotation='vertical');\n",
        "ax.set_title('Top words in headlines dataset (excluding stop words)');\n",
        "ax.set_xlabel('Word');\n",
        "ax.set_ylabel('Number of occurences');\n",
        "plt.show()"
      ],
      "metadata": {
        "colab": {
          "base_uri": "https://localhost:8080/",
          "height": 309
        },
        "id": "Y3D2mz67Lruf",
        "outputId": "1b4f7dea-bf97-42a2-a02a-dce06a81c281"
      },
      "execution_count": null,
      "outputs": [
        {
          "output_type": "display_data",
          "data": {
            "text/plain": [
              "<Figure size 720x288 with 1 Axes>"
            ],
            "image/png": "[encoded data removed]"
          },
          "metadata": {}
        }
      ]
    },
    {
      "cell_type": "markdown",
      "metadata": {
        "id": "irUoKWlL0MlE"
      },
      "source": [
        "# Using NLP Tools "
      ]
    },
    {
      "cell_type": "markdown",
      "metadata": {
        "id": "HgfE0B1USkFv"
      },
      "source": [
        "# TFIDF"
      ]
    },
    {
      "cell_type": "code",
      "execution_count": null,
      "metadata": {
        "id": "V2GkEa6F0uqI"
      },
      "outputs": [],
      "source": [
        "vec = TfidfVectorizer(stop_words=\"english\")\n",
        "\n",
        "vec.fit(data.Post.values)\n",
        "features = vec.transform(data.results.values)"
      ]
    },
    {
      "cell_type": "code",
      "execution_count": null,
      "metadata": {
        "id": "_wigR5onRiU7",
        "colab": {
          "base_uri": "https://localhost:8080/"
        },
        "outputId": "787442fe-b804-4f79-f917-9b49f4e2043f"
      },
      "outputs": [
        {
          "output_type": "execute_result",
          "data": {
            "text/plain": [
              "(10000, 18326)"
            ]
          },
          "metadata": {},
          "execution_count": 227
        }
      ],
      "source": [
        "features.shape"
      ]
    },
    {
      "cell_type": "code",
      "execution_count": null,
      "metadata": {
        "id": "BO2HqfSLSkFv"
      },
      "outputs": [],
      "source": []
    },
    {
      "cell_type": "markdown",
      "metadata": {
        "id": "1Cna_M1ySkFv"
      },
      "source": [
        "# clustering"
      ]
    },
    {
      "cell_type": "markdown",
      "metadata": {
        "id": "koal1ZKjSkFv"
      },
      "source": [
        "### MiniBatchKMeans:"
      ]
    },
    {
      "cell_type": "code",
      "source": [],
      "metadata": {
        "id": "zEKEf-Z2kTrP"
      },
      "execution_count": null,
      "outputs": []
    },
    {
      "cell_type": "code",
      "source": [
        "distortions = []\n",
        "K = range(1,10)\n",
        "for k in K:\n",
        "    kmean = KMeans(n_clusters=k,random_state=7)\n",
        "    kmean.fit(features)\n",
        "    distortions.append(kmean.inertia_)\n",
        "    \n",
        "plt.figure(figsize=(20,5))\n",
        "plt.plot(K, distortions, '-',color='g')\n",
        "plt.xlabel('k values')\n",
        "plt.ylabel('Distortion')\n",
        "plt.title('The Elbow Method showing the optimal k')\n",
        "plt.show()"
      ],
      "metadata": {
        "id": "J3mmvDxPJA_4",
        "outputId": "ec089ef7-afd8-42a2-d77f-20398178366d",
        "colab": {
          "base_uri": "https://localhost:8080/",
          "height": 349
        }
      },
      "execution_count": null,
      "outputs": [
        {
          "output_type": "display_data",
          "data": {
            "text/plain": [
              "<Figure size 1440x360 with 1 Axes>"
            ],
            "image/png": "[encoded data removed]"
          },
          "metadata": {}
        }
      ]
    },
    {
      "cell_type": "code",
      "execution_count": null,
      "metadata": {
        "id": "QKMlENUuQDuy",
        "colab": {
          "base_uri": "https://localhost:8080/"
        },
        "outputId": "6ab332cd-c311-4274-f0e1-5659ca2fadec"
      },
      "outputs": [
        {
          "output_type": "execute_result",
          "data": {
            "text/plain": [
              "MiniBatchKMeans(max_iter=200, n_clusters=3, random_state=1000)"
            ]
          },
          "metadata": {},
          "execution_count": 260
        }
      ],
      "source": [
        "cls = MiniBatchKMeans(3,random_state=1000, max_iter= 200)\n",
        "cls.fit(features)"
      ]
    },
    {
      "cell_type": "code",
      "execution_count": null,
      "metadata": {
        "id": "cJOJKbm9QmW0"
      },
      "outputs": [],
      "source": [
        "y_predict = cls.predict(features)"
      ]
    },
    {
      "cell_type": "code",
      "execution_count": null,
      "metadata": {
        "id": "2S5MD8LzR4lb",
        "colab": {
          "base_uri": "https://localhost:8080/"
        },
        "outputId": "a471ea2a-f224-4f0d-f9b6-15ed680f7e77"
      },
      "outputs": [
        {
          "output_type": "execute_result",
          "data": {
            "text/plain": [
              "array([[0.00000000e+00, 0.00000000e+00, 0.00000000e+00, ...,\n",
              "        0.00000000e+00, 0.00000000e+00, 0.00000000e+00],\n",
              "       [1.83449956e-05, 3.53474545e-05, 0.00000000e+00, ...,\n",
              "        6.11652173e-05, 5.28361113e-05, 9.51508306e-05],\n",
              "       [0.00000000e+00, 0.00000000e+00, 0.00000000e+00, ...,\n",
              "        0.00000000e+00, 0.00000000e+00, 0.00000000e+00]])"
            ]
          },
          "metadata": {},
          "execution_count": 262
        }
      ],
      "source": [
        "cls.cluster_centers_"
      ]
    },
    {
      "cell_type": "code",
      "execution_count": null,
      "metadata": {
        "id": "HmbGR57SSkFw",
        "colab": {
          "base_uri": "https://localhost:8080/"
        },
        "outputId": "eb558b44-8923-4a5e-e541-ca06f85bcaef"
      },
      "outputs": [
        {
          "output_type": "execute_result",
          "data": {
            "text/plain": [
              "(3, 18326)"
            ]
          },
          "metadata": {},
          "execution_count": 232
        }
      ],
      "source": [
        "len(cls.cluster_centers_) , len(cls.cluster_centers_[0])"
      ]
    },
    {
      "cell_type": "markdown",
      "metadata": {
        "id": "mi64bhO6SkFw"
      },
      "source": [
        "# PCA"
      ]
    },
    {
      "cell_type": "code",
      "source": [
        "pca = PCA(n_components=2)\n",
        "PCA = pca.fit(features.toarray())\n",
        "X_pca = pca.transform(features.toarray())"
      ],
      "metadata": {
        "id": "8FEhlO0KJnU2"
      },
      "execution_count": null,
      "outputs": []
    },
    {
      "cell_type": "code",
      "source": [
        "X_pca"
      ],
      "metadata": {
        "colab": {
          "base_uri": "https://localhost:8080/"
        },
        "id": "jZ8VtjfslXfX",
        "outputId": "5ff1b59e-79d1-4ac7-a9fc-8fd86c41da00"
      },
      "execution_count": null,
      "outputs": [
        {
          "output_type": "execute_result",
          "data": {
            "text/plain": [
              "array([[ 0.23321179, -0.05796219],\n",
              "       [-0.02826515, -0.00827138],\n",
              "       [-0.03458068, -0.00792352],\n",
              "       ...,\n",
              "       [-0.02903949, -0.00639675],\n",
              "       [-0.03041991, -0.00503079],\n",
              "       [-0.03187537, -0.00546108]])"
            ]
          },
          "metadata": {},
          "execution_count": 234
        }
      ]
    },
    {
      "cell_type": "code",
      "execution_count": null,
      "metadata": {
        "id": "Gbt9Gm5FSkFx",
        "colab": {
          "base_uri": "https://localhost:8080/"
        },
        "outputId": "e4e9aafa-b62e-4beb-e314-df144c6c1a46"
      },
      "outputs": [
        {
          "output_type": "execute_result",
          "data": {
            "text/plain": [
              "(10000, 2)"
            ]
          },
          "metadata": {},
          "execution_count": 235
        }
      ],
      "source": [
        "len(X_pca) , len(X_pca[0]) \n"
      ]
    },
    {
      "cell_type": "code",
      "execution_count": null,
      "metadata": {
        "id": "0AI4Nj71SkFx",
        "colab": {
          "base_uri": "https://localhost:8080/"
        },
        "outputId": "9e3b7be1-0532-4e97-f844-4825d3cd1924"
      },
      "outputs": [
        {
          "output_type": "execute_result",
          "data": {
            "text/plain": [
              "array([[-0.0285578 , -0.00933659],\n",
              "       [ 0.00023312, -0.00037278],\n",
              "       [-0.03169811, -0.01001273]])"
            ]
          },
          "metadata": {},
          "execution_count": 236
        }
      ],
      "source": [
        "reduced_cluster_centers = pca.transform(cls.cluster_centers_)\n",
        "reduced_cluster_centers"
      ]
    },
    {
      "cell_type": "markdown",
      "source": [
        "# KMEANS"
      ],
      "metadata": {
        "id": "nIsXmfogoxSk"
      }
    },
    {
      "cell_type": "code",
      "source": [
        "kmeans = KMeans()\n",
        "visualizer = KElbowVisualizer(kmeans, k=(1,10),size=(1080, 500))\n",
        "\n",
        "visualizer.fit(X_pca)        \n",
        "visualizer.show() "
      ],
      "metadata": {
        "id": "vv_4eHyJJ5K8",
        "outputId": "a3e526dd-0a76-48a6-b119-bbc7a69a7571",
        "colab": {
          "base_uri": "https://localhost:8080/",
          "height": 472
        }
      },
      "execution_count": null,
      "outputs": [
        {
          "output_type": "display_data",
          "data": {
            "text/plain": [
              "<Figure size 1080x500 with 2 Axes>"
            ],
            "image/png": "[encoded data removed]"
          },
          "metadata": {}
        },
        {
          "output_type": "execute_result",
          "data": {
            "text/plain": [
              "<matplotlib.axes._subplots.AxesSubplot at 0x7fc086175880>"
            ]
          },
          "metadata": {},
          "execution_count": 238
        }
      ]
    },
    {
      "cell_type": "code",
      "source": [
        "kmeanModel = KMeans(n_clusters=3,random_state=1000)\n",
        "kmeanModel.fit(X_pca)\n",
        "pred_labels = kmeanModel.labels_;\n",
        "pred_centers = kmeanModel.cluster_centers_\n",
        "df_centers = pd.DataFrame(pred_centers, columns=['x', 'y'])\n",
        "df_centers.head(1)"
      ],
      "metadata": {
        "id": "k58z5yiqKzdY",
        "outputId": "6edad842-0630-4992-a958-ed6b10547b7d",
        "colab": {
          "base_uri": "https://localhost:8080/",
          "height": 81
        }
      },
      "execution_count": null,
      "outputs": [
        {
          "output_type": "execute_result",
          "data": {
            "text/plain": [
              "          x         y\n",
              "0 -0.029096 -0.006733"
            ],
            "text/html": [
              "\n",
              "  <div id=\"df-1f917289-cc7c-446b-b71e-db5e65b64fff\">\n",
              "    <div class=\"colab-df-container\">\n",
              "      <div>\n",
              "<style scoped>\n",
              "    .dataframe tbody tr th:only-of-type {\n",
              "        vertical-align: middle;\n",
              "    }\n",
              "\n",
              "    .dataframe tbody tr th {\n",
              "        vertical-align: top;\n",
              "    }\n",
              "\n",
              "    .dataframe thead th {\n",
              "        text-align: right;\n",
              "    }\n",
              "</style>\n",
              "<table border=\"1\" class=\"dataframe\">\n",
              "  <thead>\n",
              "    <tr style=\"text-align: right;\">\n",
              "      <th></th>\n",
              "      <th>x</th>\n",
              "      <th>y</th>\n",
              "    </tr>\n",
              "  </thead>\n",
              "  <tbody>\n",
              "    <tr>\n",
              "      <th>0</th>\n",
              "      <td>-0.029096</td>\n",
              "      <td>-0.006733</td>\n",
              "    </tr>\n",
              "  </tbody>\n",
              "</table>\n",
              "</div>\n",
              "      <button class=\"colab-df-convert\" onclick=\"convertToInteractive('df-1f917289-cc7c-446b-b71e-db5e65b64fff')\"\n",
              "              title=\"Convert this dataframe to an interactive table.\"\n",
              "              style=\"display:none;\">\n",
              "        \n",
              "  <svg xmlns=\"http://www.w3.org/2000/svg\" height=\"24px\"viewBox=\"0 0 24 24\"\n",
              "       width=\"24px\">\n",
              "    <path d=\"M0 0h24v24H0V0z\" fill=\"none\"/>\n",
              "    <path d=\"M18.56 5.44l.94 2.06.94-2.06 2.06-.94-2.06-.94-.94-2.06-.94 2.06-2.06.94zm-11 1L8.5 8.5l.94-2.06 2.06-.94-2.06-.94L8.5 2.5l-.94 2.06-2.06.94zm10 10l.94 2.06.94-2.06 2.06-.94-2.06-.94-.94-2.06-.94 2.06-2.06.94z\"/><path d=\"M17.41 7.96l-1.37-1.37c-.4-.4-.92-.59-1.43-.59-.52 0-1.04.2-1.43.59L10.3 9.45l-7.72 7.72c-.78.78-.78 2.05 0 2.83L4 21.41c.39.39.9.59 1.41.59.51 0 1.02-.2 1.41-.59l7.78-7.78 2.81-2.81c.8-.78.8-2.07 0-2.86zM5.41 20L4 18.59l7.72-7.72 1.47 1.35L5.41 20z\"/>\n",
              "  </svg>\n",
              "      </button>\n",
              "      \n",
              "  <style>\n",
              "    .colab-df-container {\n",
              "      display:flex;\n",
              "      flex-wrap:wrap;\n",
              "      gap: 12px;\n",
              "    }\n",
              "\n",
              "    .colab-df-convert {\n",
              "      background-color: #E8F0FE;\n",
              "      border: none;\n",
              "      border-radius: 50%;\n",
              "      cursor: pointer;\n",
              "      display: none;\n",
              "      fill: #1967D2;\n",
              "      height: 32px;\n",
              "      padding: 0 0 0 0;\n",
              "      width: 32px;\n",
              "    }\n",
              "\n",
              "    .colab-df-convert:hover {\n",
              "      background-color: #E2EBFA;\n",
              "      box-shadow: 0px 1px 2px rgba(60, 64, 67, 0.3), 0px 1px 3px 1px rgba(60, 64, 67, 0.15);\n",
              "      fill: #174EA6;\n",
              "    }\n",
              "\n",
              "    [theme=dark] .colab-df-convert {\n",
              "      background-color: #3B4455;\n",
              "      fill: #D2E3FC;\n",
              "    }\n",
              "\n",
              "    [theme=dark] .colab-df-convert:hover {\n",
              "      background-color: #434B5C;\n",
              "      box-shadow: 0px 1px 3px 1px rgba(0, 0, 0, 0.15);\n",
              "      filter: drop-shadow(0px 1px 2px rgba(0, 0, 0, 0.3));\n",
              "      fill: #FFFFFF;\n",
              "    }\n",
              "  </style>\n",
              "\n",
              "      <script>\n",
              "        const buttonEl =\n",
              "          document.querySelector('#df-1f917289-cc7c-446b-b71e-db5e65b64fff button.colab-df-convert');\n",
              "        buttonEl.style.display =\n",
              "          google.colab.kernel.accessAllowed ? 'block' : 'none';\n",
              "\n",
              "        async function convertToInteractive(key) {\n",
              "          const element = document.querySelector('#df-1f917289-cc7c-446b-b71e-db5e65b64fff');\n",
              "          const dataTable =\n",
              "            await google.colab.kernel.invokeFunction('convertToInteractive',\n",
              "                                                     [key], {});\n",
              "          if (!dataTable) return;\n",
              "\n",
              "          const docLinkHtml = 'Like what you see? Visit the ' +\n",
              "            '<a target=\"_blank\" href=https://colab.research.google.com/notebooks/data_table.ipynb>data table notebook</a>'\n",
              "            + ' to learn more about interactive tables.';\n",
              "          element.innerHTML = '';\n",
              "          dataTable['output_type'] = 'display_data';\n",
              "          await google.colab.output.renderOutput(dataTable, element);\n",
              "          const docLink = document.createElement('div');\n",
              "          docLink.innerHTML = docLinkHtml;\n",
              "          element.appendChild(docLink);\n",
              "        }\n",
              "      </script>\n",
              "    </div>\n",
              "  </div>\n",
              "  "
            ]
          },
          "metadata": {},
          "execution_count": 248
        }
      ]
    },
    {
      "cell_type": "code",
      "source": [
        "dfcl = pd.DataFrame(columns=['x','y','label'])\n",
        "dfcl['x'] = X_pca[:,0]\n",
        "dfcl['y'] = X_pca[:,1]\n",
        "dfcl['label'] = kmeanModel.labels_\n",
        "dfcl.head(1)"
      ],
      "metadata": {
        "id": "bJ-d1vHLK6xC",
        "outputId": "e712253d-4ad8-4513-e503-a697462b56bc",
        "colab": {
          "base_uri": "https://localhost:8080/",
          "height": 81
        }
      },
      "execution_count": null,
      "outputs": [
        {
          "output_type": "execute_result",
          "data": {
            "text/plain": [
              "          x         y  label\n",
              "0  0.233212 -0.057962      2"
            ],
            "text/html": [
              "\n",
              "  <div id=\"df-aa80ef01-aa7a-4faa-8953-b0d42f0d1f6b\">\n",
              "    <div class=\"colab-df-container\">\n",
              "      <div>\n",
              "<style scoped>\n",
              "    .dataframe tbody tr th:only-of-type {\n",
              "        vertical-align: middle;\n",
              "    }\n",
              "\n",
              "    .dataframe tbody tr th {\n",
              "        vertical-align: top;\n",
              "    }\n",
              "\n",
              "    .dataframe thead th {\n",
              "        text-align: right;\n",
              "    }\n",
              "</style>\n",
              "<table border=\"1\" class=\"dataframe\">\n",
              "  <thead>\n",
              "    <tr style=\"text-align: right;\">\n",
              "      <th></th>\n",
              "      <th>x</th>\n",
              "      <th>y</th>\n",
              "      <th>label</th>\n",
              "    </tr>\n",
              "  </thead>\n",
              "  <tbody>\n",
              "    <tr>\n",
              "      <th>0</th>\n",
              "      <td>0.233212</td>\n",
              "      <td>-0.057962</td>\n",
              "      <td>2</td>\n",
              "    </tr>\n",
              "  </tbody>\n",
              "</table>\n",
              "</div>\n",
              "      <button class=\"colab-df-convert\" onclick=\"convertToInteractive('df-aa80ef01-aa7a-4faa-8953-b0d42f0d1f6b')\"\n",
              "              title=\"Convert this dataframe to an interactive table.\"\n",
              "              style=\"display:none;\">\n",
              "        \n",
              "  <svg xmlns=\"http://www.w3.org/2000/svg\" height=\"24px\"viewBox=\"0 0 24 24\"\n",
              "       width=\"24px\">\n",
              "    <path d=\"M0 0h24v24H0V0z\" fill=\"none\"/>\n",
              "    <path d=\"M18.56 5.44l.94 2.06.94-2.06 2.06-.94-2.06-.94-.94-2.06-.94 2.06-2.06.94zm-11 1L8.5 8.5l.94-2.06 2.06-.94-2.06-.94L8.5 2.5l-.94 2.06-2.06.94zm10 10l.94 2.06.94-2.06 2.06-.94-2.06-.94-.94-2.06-.94 2.06-2.06.94z\"/><path d=\"M17.41 7.96l-1.37-1.37c-.4-.4-.92-.59-1.43-.59-.52 0-1.04.2-1.43.59L10.3 9.45l-7.72 7.72c-.78.78-.78 2.05 0 2.83L4 21.41c.39.39.9.59 1.41.59.51 0 1.02-.2 1.41-.59l7.78-7.78 2.81-2.81c.8-.78.8-2.07 0-2.86zM5.41 20L4 18.59l7.72-7.72 1.47 1.35L5.41 20z\"/>\n",
              "  </svg>\n",
              "      </button>\n",
              "      \n",
              "  <style>\n",
              "    .colab-df-container {\n",
              "      display:flex;\n",
              "      flex-wrap:wrap;\n",
              "      gap: 12px;\n",
              "    }\n",
              "\n",
              "    .colab-df-convert {\n",
              "      background-color: #E8F0FE;\n",
              "      border: none;\n",
              "      border-radius: 50%;\n",
              "      cursor: pointer;\n",
              "      display: none;\n",
              "      fill: #1967D2;\n",
              "      height: 32px;\n",
              "      padding: 0 0 0 0;\n",
              "      width: 32px;\n",
              "    }\n",
              "\n",
              "    .colab-df-convert:hover {\n",
              "      background-color: #E2EBFA;\n",
              "      box-shadow: 0px 1px 2px rgba(60, 64, 67, 0.3), 0px 1px 3px 1px rgba(60, 64, 67, 0.15);\n",
              "      fill: #174EA6;\n",
              "    }\n",
              "\n",
              "    [theme=dark] .colab-df-convert {\n",
              "      background-color: #3B4455;\n",
              "      fill: #D2E3FC;\n",
              "    }\n",
              "\n",
              "    [theme=dark] .colab-df-convert:hover {\n",
              "      background-color: #434B5C;\n",
              "      box-shadow: 0px 1px 3px 1px rgba(0, 0, 0, 0.15);\n",
              "      filter: drop-shadow(0px 1px 2px rgba(0, 0, 0, 0.3));\n",
              "      fill: #FFFFFF;\n",
              "    }\n",
              "  </style>\n",
              "\n",
              "      <script>\n",
              "        const buttonEl =\n",
              "          document.querySelector('#df-aa80ef01-aa7a-4faa-8953-b0d42f0d1f6b button.colab-df-convert');\n",
              "        buttonEl.style.display =\n",
              "          google.colab.kernel.accessAllowed ? 'block' : 'none';\n",
              "\n",
              "        async function convertToInteractive(key) {\n",
              "          const element = document.querySelector('#df-aa80ef01-aa7a-4faa-8953-b0d42f0d1f6b');\n",
              "          const dataTable =\n",
              "            await google.colab.kernel.invokeFunction('convertToInteractive',\n",
              "                                                     [key], {});\n",
              "          if (!dataTable) return;\n",
              "\n",
              "          const docLinkHtml = 'Like what you see? Visit the ' +\n",
              "            '<a target=\"_blank\" href=https://colab.research.google.com/notebooks/data_table.ipynb>data table notebook</a>'\n",
              "            + ' to learn more about interactive tables.';\n",
              "          element.innerHTML = '';\n",
              "          dataTable['output_type'] = 'display_data';\n",
              "          await google.colab.output.renderOutput(dataTable, element);\n",
              "          const docLink = document.createElement('div');\n",
              "          docLink.innerHTML = docLinkHtml;\n",
              "          element.appendChild(docLink);\n",
              "        }\n",
              "      </script>\n",
              "    </div>\n",
              "  </div>\n",
              "  "
            ]
          },
          "metadata": {},
          "execution_count": 249
        }
      ]
    },
    {
      "cell_type": "code",
      "source": [
        "plt.figure(figsize=(20,8))\n",
        "\n",
        "sns.scatterplot(X_pca[:, 0], X_pca[:, 1], hue=pred_labels.tolist(),palette='Set2')\n",
        "colors = ['red', 'green', 'blue', 'yellow']\n",
        "\n",
        "for i,color in enumerate(df_centers.index.tolist()):\n",
        "    plt.plot(df_centers['x'][i], df_centers['y'][i], 'X', label='K-means center: %d' % i, color=colors[i])\n",
        "plt.xlabel('x distance')\n",
        "plt.ylabel('y distance')\n",
        "plt.title('scatter plot')"
      ],
      "metadata": {
        "id": "vl3EG-dQK-9W",
        "outputId": "7fc9f4b2-0a27-409a-ad46-a8105b4d3b5c",
        "colab": {
          "base_uri": "https://localhost:8080/",
          "height": 530
        }
      },
      "execution_count": null,
      "outputs": [
        {
          "output_type": "execute_result",
          "data": {
            "text/plain": [
              "Text(0.5, 1.0, 'scatter plot')"
            ]
          },
          "metadata": {},
          "execution_count": 250
        },
        {
          "output_type": "display_data",
          "data": {
            "text/plain": [
              "<Figure size 1440x576 with 1 Axes>"
            ],
            "image/png": "[encoded data removed]"
          },
          "metadata": {}
        }
      ]
    },
    {
      "cell_type": "markdown",
      "metadata": {
        "id": "419mzzp7SkFx"
      },
      "source": [
        "# Evaluation"
      ]
    },
    {
      "cell_type": "code",
      "execution_count": null,
      "metadata": {
        "id": "5iU6fvTiSkFx",
        "colab": {
          "base_uri": "https://localhost:8080/"
        },
        "outputId": "fe8b02de-1512-434b-f776-2d9daa4ced3f"
      },
      "outputs": [
        {
          "output_type": "execute_result",
          "data": {
            "text/plain": [
              "array([[10441,   903,  9858, ..., 12207, 12206,     0],\n",
              "       [ 7889,  8746,  6715, ...,  5076, 11043,  9162],\n",
              "       [12481,  1638,  6111, ..., 12208, 12207,     0]])"
            ]
          },
          "metadata": {},
          "execution_count": 263
        }
      ],
      "source": [
        "order_centroids = cls.cluster_centers_.argsort()[:, ::-1]\n",
        "order_centroids\n",
        "\n",
        "\n"
      ]
    },
    {
      "cell_type": "code",
      "execution_count": null,
      "metadata": {
        "id": "VYlP49cSSkFx"
      },
      "outputs": [],
      "source": [
        "terms = vec.get_feature_names()\n",
        "#terms\n"
      ]
    },
    {
      "cell_type": "code",
      "execution_count": null,
      "metadata": {
        "id": "n1hMWr9YSkFy",
        "colab": {
          "base_uri": "https://localhost:8080/"
        },
        "outputId": "7f603fc0-b54f-410b-e3a8-4ee79284f0b2"
      },
      "outputs": [
        {
          "output_type": "stream",
          "name": "stdout",
          "text": [
            "Cluster 0:\n",
            " mexico\n",
            " airport\n",
            " luck\n",
            " way\n",
            " wish\n",
            " think\n",
            " follower\n",
            " followers\n",
            " followed\n",
            " follow\n",
            " folllow\n",
            " folding\n",
            " followes\n",
            " folliwin\n",
            " folks\n",
            " folklore\n",
            " folklaura\n",
            " folk\n",
            " foldinglaundry\n",
            " folders\n",
            "------------------------------------------\n",
            "Cluster 1:\n",
            " im\n",
            " just\n",
            " good\n",
            " dont\n",
            " day\n",
            " love\n",
            " like\n",
            " work\n",
            " got\n",
            " going\n",
            " today\n",
            " na\n",
            " lol\n",
            " know\n",
            " really\n",
            " time\n",
            " thats\n",
            " thanks\n",
            " miss\n",
            " home\n",
            "------------------------------------------\n",
            "Cluster 2:\n",
            " pobrecito\n",
            " aww\n",
            " follow\n",
            " folk\n",
            " folklaura\n",
            " folklore\n",
            " folks\n",
            " folliwin\n",
            " folllow\n",
            " ð¾ñ\n",
            " folding\n",
            " followed\n",
            " follower\n",
            " followers\n",
            " followes\n",
            " followfriday\n",
            " followin\n",
            " foldinglaundry\n",
            " folders\n",
            " follows\n",
            "------------------------------------------\n"
          ]
        }
      ],
      "source": [
        "for i in range(3):\n",
        "    print(\"Cluster %d:\" % i),\n",
        "    for ind in order_centroids[i, :20]:\n",
        "        print(' %s' % terms[ind]),\n",
        "    print('------------------------------------------')\n"
      ]
    },
    {
      "cell_type": "code",
      "execution_count": null,
      "metadata": {
        "id": "-eLCoMPaSkFy",
        "colab": {
          "base_uri": "https://localhost:8080/"
        },
        "outputId": "ffd9bd1e-b45c-4576-c713-07d1ee895278"
      },
      "outputs": [
        {
          "output_type": "stream",
          "name": "stdout",
          "text": [
            "[0]\n"
          ]
        }
      ],
      "source": [
        "\n",
        "Y = vec.transform([\"mexico airport are explosed \"])\n",
        "prediction = cls.predict(Y)\n",
        "print(prediction)\n",
        "\n"
      ]
    },
    {
      "cell_type": "code",
      "source": [
        "Y = vec.transform([\"i got to go work. \"])\n",
        "prediction = cls.predict(Y)\n",
        "print(prediction)\n"
      ],
      "metadata": {
        "colab": {
          "base_uri": "https://localhost:8080/"
        },
        "id": "SD5kmeM21Q3_",
        "outputId": "1d4fb1db-273f-45e1-f6ef-8a746f920b33"
      },
      "execution_count": null,
      "outputs": [
        {
          "output_type": "stream",
          "name": "stdout",
          "text": [
            "[1]\n"
          ]
        }
      ]
    },
    {
      "cell_type": "code",
      "execution_count": null,
      "metadata": {
        "id": "1m7KhpTKSkFy",
        "colab": {
          "base_uri": "https://localhost:8080/"
        },
        "outputId": "287478dc-a041-42ef-c1ce-83deaaeaa35a"
      },
      "outputs": [
        {
          "output_type": "stream",
          "name": "stdout",
          "text": [
            "[2]\n"
          ]
        }
      ],
      "source": [
        "\n",
        "Y = vec.transform([\"we say in spanish you are pobrecito\"])\n",
        "prediction = cls.predict(Y)\n",
        "print(prediction)\n"
      ]
    }
  ],
  "metadata": {
    "colab": {
      "collapsed_sections": [
        "CmouhaJ_SkFj",
        "xUj94bZ2yzs5",
        "c7ErTu0uzyVy",
        "irUoKWlL0MlE"
      ],
      "provenance": [],
      "include_colab_link": true
    },
    "kernelspec": {
      "display_name": "Python 3",
      "language": "python",
      "name": "python3"
    },
    "language_info": {
      "codemirror_mode": {
        "name": "ipython",
        "version": 3
      },
      "file_extension": ".py",
      "mimetype": "text/x-python",
      "name": "python",
      "nbconvert_exporter": "python",
      "pygments_lexer": "ipython3",
      "version": "3.8.5"
    }
  },
  "nbformat": 4,
  "nbformat_minor": 0
}